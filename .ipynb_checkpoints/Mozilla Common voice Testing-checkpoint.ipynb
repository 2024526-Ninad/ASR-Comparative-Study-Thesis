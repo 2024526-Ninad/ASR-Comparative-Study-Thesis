{
 "cells": [
  {
   "cell_type": "code",
   "execution_count": null,
   "id": "3ec5b4a5-f180-46c4-b3b2-95ff3d5be396",
   "metadata": {},
   "outputs": [],
   "source": [
    "import os, tarfile, pathlib\n",
    "\n",
    "ARCHIVE = \"cv-corpus-11.0-2022-09-21-en.tar.gz\"\n",
    "OUT_DIR = \"data/cv11_en\"\n",
    "os.makedirs(OUT_DIR, exist_ok=True)\n",
    "\n",
    "want = [\n",
    "    \"cv-corpus-11.0-2022-09-21/en/validated.tsv\",\n",
    "    \"cv-corpus-11.0-2022-09-21/en/dev.tsv\",\n",
    "    \"cv-corpus-11.0-2022-09-21/en/test.tsv\",\n",
    "    \"cv-corpus-11.0-2022-09-21/en/train.tsv\",\n",
    "    \"cv-corpus-11.0-2022-09-21/en/clips\"\n",
    "]\n",
    "\n",
    "with tarfile.open(ARCHIVE, \"r:gz\") as tf:\n",
    "    for m in tf.getmembers():\n",
    "        if any(m.name.startswith(w) for w in want):\n",
    "            tf.extract(m, OUT_DIR)\n",
    "\n",
    "print(\"Done. Extracted into:\", pathlib.Path(OUT_DIR).resolve())"
   ]
  },
  {
   "cell_type": "code",
   "execution_count": null,
   "id": "826deade-daad-4fc9-b614-51762d6bd1cb",
   "metadata": {},
   "outputs": [],
   "source": [
    "import os\n",
    "\n",
    "DATA_DIR = \"/Users/ninadjoshi/asr-comparative-study/ASR-Comparative-Study-Thesis/asr-comparative-study/notebooks/data/cv11_en\"\n",
    "print(os.listdir(DATA_DIR))"
   ]
  },
  {
   "cell_type": "code",
   "execution_count": 1,
   "id": "30bd9777-307b-4e26-b569-c9281553f095",
   "metadata": {},
   "outputs": [
    {
     "name": "stdout",
     "output_type": "stream",
     "text": [
      "/Users/ninadjoshi/asr-comparative-study/ASR-Comparative-Study-Thesis/asr-comparative-study/notebooks\n"
     ]
    }
   ],
   "source": [
    "import os\n",
    "print(os.getcwd())"
   ]
  },
  {
   "cell_type": "code",
   "execution_count": 2,
   "id": "cebd9fb7-de16-49dc-9170-6f661e666df3",
   "metadata": {},
   "outputs": [
    {
     "name": "stdout",
     "output_type": "stream",
     "text": [
      "CV_ROOT: /Users/ninadjoshi/asr-comparative-study/ASR-Comparative-Study-Thesis/asr-comparative-study/notebooks/data/cv11_en/cv-corpus-11.0-2022-09-21/en\n",
      "Exists? True\n",
      "Files: [PosixPath('/Users/ninadjoshi/asr-comparative-study/ASR-Comparative-Study-Thesis/asr-comparative-study/notebooks/data/cv11_en/cv-corpus-11.0-2022-09-21/en/train.tsv'), PosixPath('/Users/ninadjoshi/asr-comparative-study/ASR-Comparative-Study-Thesis/asr-comparative-study/notebooks/data/cv11_en/cv-corpus-11.0-2022-09-21/en/dev.tsv'), PosixPath('/Users/ninadjoshi/asr-comparative-study/ASR-Comparative-Study-Thesis/asr-comparative-study/notebooks/data/cv11_en/cv-corpus-11.0-2022-09-21/en/validated.tsv'), PosixPath('/Users/ninadjoshi/asr-comparative-study/ASR-Comparative-Study-Thesis/asr-comparative-study/notebooks/data/cv11_en/cv-corpus-11.0-2022-09-21/en/test.tsv')]\n",
      "                           path  \\\n",
      "0  common_voice_en_27710027.mp3   \n",
      "1    common_voice_en_699711.mp3   \n",
      "2  common_voice_en_21953345.mp3   \n",
      "\n",
      "                                            sentence  \\\n",
      "0  Joe Keaton disapproved of films, and Buster al...   \n",
      "1                               She'll be all right.   \n",
      "2                                                six   \n",
      "\n",
      "                                          audio_path  \n",
      "0  /Users/ninadjoshi/asr-comparative-study/ASR-Co...  \n",
      "1  /Users/ninadjoshi/asr-comparative-study/ASR-Co...  \n",
      "2  /Users/ninadjoshi/asr-comparative-study/ASR-Co...  \n",
      "Clip exists? True\n"
     ]
    }
   ],
   "source": [
    "from pathlib import Path\n",
    "import os, pandas as pd\n",
    "\n",
    "# 1) Point to the folder where you extracted the archive\n",
    "DATA_DIR = Path(\"/Users/ninadjoshi/asr-comparative-study/ASR-Comparative-Study-Thesis/asr-comparative-study/notebooks/data/cv11_en\")\n",
    "\n",
    "# 2) Build the Common Voice root (version + language)\n",
    "CV_VERSION = \"cv-corpus-11.0-2022-09-21\"\n",
    "LANG = \"en\"\n",
    "CV_ROOT = DATA_DIR / CV_VERSION / LANG\n",
    "CLIPS_DIR = CV_ROOT / \"clips\"\n",
    "\n",
    "print(\"CV_ROOT:\", CV_ROOT)\n",
    "print(\"Exists?\", CV_ROOT.exists())\n",
    "print(\"Files:\", list(CV_ROOT.glob(\"*.tsv\"))[:5])\n",
    "\n",
    "# 3) Read the splits (TSV, tab-delimited)\n",
    "meta = pd.read_csv(CV_ROOT / \"validated.tsv\", sep=\"\\t\")\n",
    "# or choose 'dev.tsv' / 'test.tsv' / 'train.tsv'\n",
    "\n",
    "# 4) Add absolute audio paths\n",
    "meta[\"audio_path\"] = meta[\"path\"].apply(lambda p: str(CLIPS_DIR / p))\n",
    "\n",
    "# quick sanity check\n",
    "print(meta.head(3)[[\"path\", \"sentence\", \"audio_path\"]])\n",
    "print(\"Clip exists?\", os.path.exists(meta.loc[0, \"audio_path\"]))"
   ]
  },
  {
   "cell_type": "code",
   "execution_count": 3,
   "id": "460514b7-24a5-40b1-b8a2-de8b8d0a68b7",
   "metadata": {},
   "outputs": [],
   "source": [
    "small = meta.sample(200, random_state=0).reset_index(drop=True)"
   ]
  },
  {
   "cell_type": "code",
   "execution_count": 4,
   "id": "dc8fa96a-20f6-439b-b309-a213fce51972",
   "metadata": {},
   "outputs": [],
   "source": [
    "import soundfile as sf\n",
    "\n",
    "def load_batch(batch):\n",
    "    audio, sr = sf.read(batch[\"audio_path\"])\n",
    "    return {\n",
    "        \"audio\": audio,\n",
    "        \"sampling_rate\": sr,\n",
    "        \"sentence\": batch[\"sentence\"]\n",
    "    }"
   ]
  },
  {
   "cell_type": "code",
   "execution_count": 5,
   "id": "345a56fb-d470-4c5c-849b-e657a6a0fca8",
   "metadata": {},
   "outputs": [],
   "source": [
    "# Slicing a manageable sample for now (e.g. 5k examples)\n",
    "sample = meta.sample(5000, random_state=42).reset_index(drop=True)"
   ]
  },
  {
   "cell_type": "code",
   "execution_count": 6,
   "id": "845145bc-81d8-4e42-961c-8af8d41ded7e",
   "metadata": {},
   "outputs": [],
   "source": [
    "import soundfile as sf\n",
    "\n",
    "def load_batch(batch):\n",
    "    audio, sr = sf.read(batch[\"audio_path\"])\n",
    "    return {\n",
    "        \"audio\": audio,\n",
    "        \"sampling_rate\": sr,\n",
    "        \"sentence\": batch[\"sentence\"]\n",
    "    }"
   ]
  },
  {
   "cell_type": "code",
   "execution_count": 7,
   "id": "86876838-0dea-4eb3-a7eb-43f9bdd6dfe1",
   "metadata": {},
   "outputs": [],
   "source": [
    "import numpy as np\n",
    "import soundfile as sf\n",
    "import librosa \n",
    "\n",
    "def load_audio(path):\n",
    "    \"\"\"Read audio as float32 in [-1, 1] and return (wave, sr).\"\"\"\n",
    "    audio, sr = sf.read(path, always_2d=False)\n",
    "    # Ensure float32\n",
    "    if audio.dtype != np.float32:\n",
    "        audio = audio.astype(np.float32, copy=False)\n",
    "    return audio, sr\n",
    "\n",
    "def to_mono(wave):\n",
    "    \"\"\"Collapse multi-channel to mono.\"\"\"\n",
    "    if wave.ndim == 1:\n",
    "        return wave\n",
    "    # soundfile returns shape (n_samples, n_channels) sometimes; handle both\n",
    "    if wave.shape[0] < wave.shape[-1]:  # (channels, samples)\n",
    "        wave = wave.T\n",
    "    return librosa.to_mono(wave.T).astype(np.float32)\n",
    "\n",
    "def resample(wave, sr, target_sr):\n",
    "    \"\"\"Resample to target_sr using librosa.\"\"\"\n",
    "    if sr == target_sr:\n",
    "        return wave\n",
    "    wave = to_mono(wave)\n",
    "    return librosa.resample(wave, orig_sr=sr, target_sr=target_sr).astype(np.float32)"
   ]
  },
  {
   "cell_type": "code",
   "execution_count": 8,
   "id": "63218653-06a8-4ab5-85e4-3285e784e29d",
   "metadata": {},
   "outputs": [],
   "source": [
    "from transformers import WhisperProcessor, WhisperForConditionalGeneration\n",
    "import torch\n",
    "\n",
    "device = \"cuda\" if torch.cuda.is_available() else \"cpu\"\n",
    "\n",
    "WHISPER_ID = \"openai/whisper-small\"  # or \"medium\", \"base\", etc.\n",
    "wh_proc  = WhisperProcessor.from_pretrained(WHISPER_ID)\n",
    "wh_model = WhisperForConditionalGeneration.from_pretrained(WHISPER_ID).to(device).eval()\n",
    "WHISPER_SR = wh_proc.feature_extractor.sampling_rate  # typically 16000\n",
    "\n",
    "GEN_KW = dict(task=\"transcribe\", language=\"en\", num_beams=3, length_penalty=1.0,\n",
    "              no_repeat_ngram_size=3, temperature=0.0)\n",
    "\n",
    "def transcribe_whisper_path(path):\n",
    "    wave, sr = load_audio(path)\n",
    "    wave16 = resample(wave, sr, WHISPER_SR)\n",
    "    inputs = wh_proc(wave16, sampling_rate=WHISPER_SR, return_tensors=\"pt\").to(device)\n",
    "    with torch.no_grad():\n",
    "        ids = wh_model.generate(inputs.input_features, **GEN_KW)\n",
    "    text = wh_proc.batch_decode(ids, skip_special_tokens=True)[0]\n",
    "    return text"
   ]
  },
  {
   "cell_type": "code",
   "execution_count": 9,
   "id": "93a9dfe0-254a-41a2-8597-b3df3106c7de",
   "metadata": {},
   "outputs": [
    {
     "name": "stderr",
     "output_type": "stream",
     "text": [
      "Some weights of Wav2Vec2ForCTC were not initialized from the model checkpoint at facebook/wav2vec2-large-960h-lv60-self and are newly initialized: ['wav2vec2.masked_spec_embed']\n",
      "You should probably TRAIN this model on a down-stream task to be able to use it for predictions and inference.\n"
     ]
    }
   ],
   "source": [
    "from transformers import Wav2Vec2Processor, Wav2Vec2ForCTC\n",
    "\n",
    "W2V_ID   = \"facebook/wav2vec2-large-960h-lv60-self\"\n",
    "w2v_proc = Wav2Vec2Processor.from_pretrained(W2V_ID)\n",
    "w2v_model= Wav2Vec2ForCTC.from_pretrained(W2V_ID).to(device).eval()\n",
    "W2V_SR   = w2v_proc.feature_extractor.sampling_rate  # typically 16000\n",
    "\n",
    "def transcribe_w2v_path(path):\n",
    "    wave, sr = load_audio(path)\n",
    "    wave16 = resample(wave, sr, W2V_SR)\n",
    "    inputs = w2v_proc(wave16, sampling_rate=W2V_SR, return_tensors=\"pt\", padding=True).to(device)\n",
    "    with torch.no_grad():\n",
    "        logits   = w2v_model(**inputs).logits\n",
    "        pred_ids = torch.argmax(logits, dim=-1)\n",
    "    text = w2v_proc.batch_decode(pred_ids, skip_special_tokens=True)[0]\n",
    "    return text"
   ]
  },
  {
   "cell_type": "code",
   "execution_count": null,
   "id": "dc23f264-cc5e-4c87-a0ae-636f675450cc",
   "metadata": {},
   "outputs": [],
   "source": [
    "# from jiwer import wer, cer\n",
    "\n",
    "#references = sample[\"sentence\"].tolist()\n",
    "\n",
    "#hyp_whisper = []\n",
    "#hyp_w2v     = []\n",
    "\n",
    "#for _, row in sample.iterrows():\n",
    "    #path = row[\"audio_path\"]\n",
    "    #hyp_whisper.append(transcribe_whisper_path(path))\n",
    "    #hyp_w2v.append(transcribe_w2v_path(path))\n",
    "\n",
    "#print(f\"Whisper  WER: {wer(references, hyp_whisper)*100:.2f}% | CER: {cer(references, hyp_whisper)*100:.2f}%\")\n",
    "#print(f\"Wav2Vec2 WER: {wer(references, hyp_w2v)*100:.2f}% | CER: {cer(references, hyp_w2v)*100:.2f}%\")"
   ]
  },
  {
   "cell_type": "code",
   "execution_count": 10,
   "id": "9061bd7d-8a22-482e-9aab-852ec2031fa0",
   "metadata": {},
   "outputs": [
    {
     "name": "stdout",
     "output_type": "stream",
     "text": [
      "zsh:1: no matches found: transformers==4.*\n"
     ]
    }
   ],
   "source": [
    "!pip -q install soundfile jiwer transformers==4.* librosa"
   ]
  },
  {
   "cell_type": "code",
   "execution_count": 11,
   "id": "d73ce0ac-0110-471c-a3c1-97192dbf49b1",
   "metadata": {},
   "outputs": [
    {
     "name": "stdout",
     "output_type": "stream",
     "text": [
      "Device: cpu\n"
     ]
    }
   ],
   "source": [
    "import os, time, json, math, numpy as np, pandas as pd\n",
    "import torch, soundfile as sf, librosa\n",
    "from jiwer import wer, cer\n",
    "\n",
    "device = torch.device(\"cuda\" if torch.cuda.is_available() else \"cpu\")\n",
    "print(\"Device:\", device)\n",
    "\n",
    "# Fast duration without loading whole file into memory\n",
    "def get_duration_sec(path: str) -> float:\n",
    "    with sf.SoundFile(path) as f:\n",
    "        return len(f) / f.samplerate\n",
    "\n",
    "# Load + resample mono audio to target SR (float32)\n",
    "def load_mono_resampled(path: str, target_sr: int) -> np.ndarray:\n",
    "    wav, sr = sf.read(path, always_2d=False)        # np.float32/64\n",
    "    if wav.ndim > 1:                                # mixdown\n",
    "        wav = wav.mean(axis=1)\n",
    "    if sr != target_sr:\n",
    "        wav = librosa.resample(wav, orig_sr=sr, target_sr=target_sr)\n",
    "    return wav.astype(\"float32\")"
   ]
  },
  {
   "cell_type": "code",
   "execution_count": 12,
   "id": "a2c34bca-f8e1-48c6-9f39-318342ee1079",
   "metadata": {},
   "outputs": [
    {
     "name": "stdout",
     "output_type": "stream",
     "text": [
      "Subset: 50 clips | First file: /Users/ninadjoshi/asr-comparative-study/ASR-Comparative-Study-Thesis/asr-comparative-study/notebooks/data/cv11_en/cv-corpus-11.0-2022-09-21/en/clips/common_voice_en_69651.mp3\n"
     ]
    }
   ],
   "source": [
    "N = 50  # start small; scale up later\n",
    "sample_small = sample.sample(N, random_state=0).reset_index(drop=True)\n",
    "\n",
    "refs  = sample_small[\"sentence\"].tolist()\n",
    "paths = sample_small[\"audio_path\"].tolist()\n",
    "print(f\"Subset: {len(paths)} clips | First file: {paths[0]}\")\n"
   ]
  },
  {
   "cell_type": "code",
   "execution_count": 13,
   "id": "72738c70-726f-4812-a9cd-e3769393845f",
   "metadata": {},
   "outputs": [
    {
     "name": "stderr",
     "output_type": "stream",
     "text": [
      "Device set to use cpu\n",
      "Some weights of Wav2Vec2ForCTC were not initialized from the model checkpoint at facebook/wav2vec2-large-960h-lv60-self and are newly initialized: ['wav2vec2.masked_spec_embed']\n",
      "You should probably TRAIN this model on a down-stream task to be able to use it for predictions and inference.\n"
     ]
    }
   ],
   "source": [
    "from transformers import pipeline, Wav2Vec2Processor, Wav2Vec2ForCTC\n",
    "\n",
    "# --- Whisper (use 'small' for speed or 'medium' for quality) ---\n",
    "WHISPER_ID = \"openai/whisper-medium\"   # change to \"openai/whisper-small\" if needed\n",
    "wh_asr = pipeline(\n",
    "    \"automatic-speech-recognition\",\n",
    "    model=WHISPER_ID,\n",
    "    device=0 if torch.cuda.is_available() else -1,        # pipeline handles CPU/GPU\n",
    "    generate_kwargs=dict(task=\"transcribe\", language=\"en\", num_beams=5, temperature=0.0)\n",
    ")\n",
    "\n",
    "# --- Wav2Vec2 (16 kHz) ---\n",
    "W2V_ID  = \"facebook/wav2vec2-large-960h-lv60-self\"\n",
    "W2V_SR  = 16000\n",
    "w2v_proc  = Wav2Vec2Processor.from_pretrained(W2V_ID)\n",
    "w2v_model = Wav2Vec2ForCTC.from_pretrained(W2V_ID).to(device).eval()\n"
   ]
  },
  {
   "cell_type": "code",
   "execution_count": 14,
   "id": "9d17397f-8494-4611-8957-6b607574732a",
   "metadata": {},
   "outputs": [],
   "source": [
    "# Whisper via pipeline (batch)\n",
    "def transcribe_whisper_paths(paths, batch_size=8):\n",
    "    outs = wh_asr(paths, batch_size=batch_size)\n",
    "    # pipeline returns list[{\"text\": \"...\"}]\n",
    "    return [o[\"text\"].lower().strip() for o in outs]\n",
    "\n",
    "# Wav2Vec2 batched\n",
    "def transcribe_w2v_batch(paths, batch_size=16, target_sr=W2V_SR):\n",
    "    hyps = []\n",
    "    for i in range(0, len(paths), batch_size):\n",
    "        batch_paths = paths[i:i+batch_size]\n",
    "        wavs = [load_mono_resampled(p, target_sr) for p in batch_paths]\n",
    "        inputs = w2v_proc(\n",
    "            wavs, sampling_rate=target_sr, return_tensors=\"pt\", padding=True\n",
    "        ).to(device)\n",
    "        with torch.no_grad():\n",
    "            logits = w2v_model(**inputs).logits\n",
    "            pred_ids = torch.argmax(logits, dim=-1)\n",
    "        texts = w2v_proc.batch_decode(pred_ids, skip_special_tokens=True)\n",
    "        hyps.extend([t.lower().strip() for t in texts])\n",
    "    return hyps"
   ]
  },
  {
   "cell_type": "code",
   "execution_count": 15,
   "id": "fbbab292-bf3f-499e-a09f-4e953baf3315",
   "metadata": {},
   "outputs": [
    {
     "name": "stderr",
     "output_type": "stream",
     "text": [
      "`return_token_timestamps` is deprecated for WhisperFeatureExtractor and will be removed in Transformers v5. Use `return_attention_mask` instead, as the number of frames can be inferred from it.\n",
      "python(66922) MallocStackLogging: can't turn off malloc stack logging because it was not enabled.\n",
      "python(66923) MallocStackLogging: can't turn off malloc stack logging because it was not enabled.\n"
     ]
    },
    {
     "name": "stdout",
     "output_type": "stream",
     "text": [
      "[Whisper]  WER: 23.23%  CER: 5.72%  | wall: 5688.9s  RTF: 23.171\n",
      "[Wav2Vec2] WER: 39.14%  CER: 9.63% | wall: 32.5s RTF: 0.132\n"
     ]
    }
   ],
   "source": [
    "# Total audio seconds (for RTF)\n",
    "audio_seconds_total = sum(get_duration_sec(p) for p in paths)\n",
    "\n",
    "# --- Whisper ---\n",
    "t0 = time.time()\n",
    "hyp_whisper = transcribe_whisper_paths(paths, batch_size=8)\n",
    "wh_wall = time.time() - t0\n",
    "wh_rtf  = wh_wall / audio_seconds_total\n",
    "\n",
    "# --- Wav2Vec2 ---\n",
    "t0 = time.time()\n",
    "hyp_w2v = transcribe_w2v_batch(paths, batch_size=16)\n",
    "w2v_wall = time.time() - t0\n",
    "w2v_rtf  = w2v_wall / audio_seconds_total\n",
    "\n",
    "# Metrics\n",
    "wh_wer  = wer(refs, hyp_whisper) * 100\n",
    "wh_cer  = cer(refs, hyp_whisper) * 100\n",
    "w2v_wer = wer(refs, hyp_w2v) * 100\n",
    "w2v_cer = cer(refs, hyp_w2v) * 100\n",
    "\n",
    "print(f\"[Whisper]  WER: {wh_wer:.2f}%  CER: {wh_cer:.2f}%  | wall: {wh_wall:.1f}s  RTF: {wh_rtf:.3f}\")\n",
    "print(f\"[Wav2Vec2] WER: {w2v_wer:.2f}%  CER: {w2v_cer:.2f}% | wall: {w2v_wall:.1f}s RTF: {w2v_rtf:.3f}\")"
   ]
  },
  {
   "cell_type": "code",
   "execution_count": 16,
   "id": "b910223b-f894-4b5c-975f-7763a4af2764",
   "metadata": {},
   "outputs": [
    {
     "name": "stdout",
     "output_type": "stream",
     "text": [
      "Saved:\n",
      "- runs/cv11_subset_50_20250905-084801.csv\n",
      "- runs/cv11_subset_50_20250905-084801.json\n"
     ]
    }
   ],
   "source": [
    "os.makedirs(\"runs\", exist_ok=True)\n",
    "\n",
    "df_out = pd.DataFrame({\n",
    "    \"path\": paths,\n",
    "    \"ref\": refs,\n",
    "    \"whisper\": hyp_whisper,\n",
    "    \"wav2vec2\": hyp_w2v,\n",
    "})\n",
    "ts = time.strftime(\"%Y%m%d-%H%M%S\")\n",
    "csv_path  = f\"runs/cv11_subset_{len(paths)}_{ts}.csv\"\n",
    "json_path = f\"runs/cv11_subset_{len(paths)}_{ts}.json\"\n",
    "\n",
    "df_out.to_csv(csv_path, index=False)\n",
    "\n",
    "run = dict(\n",
    "    dataset=\"Common Voice 11 (subset)\",\n",
    "    n_items=len(paths),\n",
    "    audio_s=audio_seconds_total,\n",
    "    whisper=dict(model=WHISPER_ID, WER=wh_wer, CER=wh_cer, wall_s=wh_wall, RTF=wh_rtf),\n",
    "    wav2vec2=dict(model=W2V_ID, WER=w2v_wer, CER=w2v_cer, wall_s=w2v_wall, RTF=w2v_rtf),\n",
    ")\n",
    "\n",
    "with open(json_path, \"w\") as f:\n",
    "    json.dump(run, f, indent=2)\n",
    "\n",
    "print(f\"Saved:\\n- {csv_path}\\n- {json_path}\")"
   ]
  },
  {
   "cell_type": "markdown",
   "id": "4bbd3510-3e2f-4ba5-957b-55ed02285d14",
   "metadata": {},
   "source": [
    "## Graphical presentation of the results "
   ]
  },
  {
   "cell_type": "code",
   "execution_count": 18,
   "id": "c9b7594f-c450-4744-9081-b9bf61a00e2a",
   "metadata": {},
   "outputs": [
    {
     "data": {
      "text/html": [
       "<div>\n",
       "<style scoped>\n",
       "    .dataframe tbody tr th:only-of-type {\n",
       "        vertical-align: middle;\n",
       "    }\n",
       "\n",
       "    .dataframe tbody tr th {\n",
       "        vertical-align: top;\n",
       "    }\n",
       "\n",
       "    .dataframe thead th {\n",
       "        text-align: right;\n",
       "    }\n",
       "</style>\n",
       "<table border=\"1\" class=\"dataframe\">\n",
       "  <thead>\n",
       "    <tr style=\"text-align: right;\">\n",
       "      <th></th>\n",
       "      <th>model</th>\n",
       "      <th>WER</th>\n",
       "      <th>CER</th>\n",
       "      <th>wall_s</th>\n",
       "      <th>RTF</th>\n",
       "      <th>items</th>\n",
       "    </tr>\n",
       "  </thead>\n",
       "  <tbody>\n",
       "    <tr>\n",
       "      <th>0</th>\n",
       "      <td>Whisper</td>\n",
       "      <td>23.225806</td>\n",
       "      <td>5.724907</td>\n",
       "      <td>5688.880412</td>\n",
       "      <td>23.170930</td>\n",
       "      <td>50</td>\n",
       "    </tr>\n",
       "    <tr>\n",
       "      <th>1</th>\n",
       "      <td>Wav2Vec2</td>\n",
       "      <td>39.139785</td>\n",
       "      <td>9.628253</td>\n",
       "      <td>32.520292</td>\n",
       "      <td>0.132456</td>\n",
       "      <td>50</td>\n",
       "    </tr>\n",
       "  </tbody>\n",
       "</table>\n",
       "</div>"
      ],
      "text/plain": [
       "      model        WER       CER       wall_s        RTF  items\n",
       "0   Whisper  23.225806  5.724907  5688.880412  23.170930     50\n",
       "1  Wav2Vec2  39.139785  9.628253    32.520292   0.132456     50"
      ]
     },
     "metadata": {},
     "output_type": "display_data"
    },
    {
     "data": {
      "text/html": [
       "<div>\n",
       "<style scoped>\n",
       "    .dataframe tbody tr th:only-of-type {\n",
       "        vertical-align: middle;\n",
       "    }\n",
       "\n",
       "    .dataframe tbody tr th {\n",
       "        vertical-align: top;\n",
       "    }\n",
       "\n",
       "    .dataframe thead th {\n",
       "        text-align: right;\n",
       "    }\n",
       "</style>\n",
       "<table border=\"1\" class=\"dataframe\">\n",
       "  <thead>\n",
       "    <tr style=\"text-align: right;\">\n",
       "      <th></th>\n",
       "      <th>i</th>\n",
       "      <th>ref</th>\n",
       "      <th>hyp_whisper</th>\n",
       "      <th>hyp_w2v</th>\n",
       "      <th>WER_w</th>\n",
       "      <th>CER_w</th>\n",
       "      <th>MER_w</th>\n",
       "      <th>WIL_w</th>\n",
       "      <th>WIP_w</th>\n",
       "      <th>WER_v</th>\n",
       "      <th>CER_v</th>\n",
       "      <th>MER_v</th>\n",
       "      <th>WIL_v</th>\n",
       "      <th>WIP_v</th>\n",
       "    </tr>\n",
       "  </thead>\n",
       "  <tbody>\n",
       "    <tr>\n",
       "      <th>0</th>\n",
       "      <td>0</td>\n",
       "      <td>And what's the matter with a thousand dollars?</td>\n",
       "      <td>and what's the matter with a thousand dollars?</td>\n",
       "      <td>and what's the mater with a thousand dolars</td>\n",
       "      <td>12.500000</td>\n",
       "      <td>2.173913</td>\n",
       "      <td>12.500000</td>\n",
       "      <td>23.437500</td>\n",
       "      <td>76.562500</td>\n",
       "      <td>37.500000</td>\n",
       "      <td>8.695652</td>\n",
       "      <td>37.500000</td>\n",
       "      <td>60.937500</td>\n",
       "      <td>39.062500</td>\n",
       "    </tr>\n",
       "    <tr>\n",
       "      <th>1</th>\n",
       "      <td>1</td>\n",
       "      <td>Bedoya's line has become widely imitated by en...</td>\n",
       "      <td>bidoya's line has become widely imitated by en...</td>\n",
       "      <td>bidoe's line has become widely imitated by ent...</td>\n",
       "      <td>12.500000</td>\n",
       "      <td>3.508772</td>\n",
       "      <td>12.500000</td>\n",
       "      <td>23.437500</td>\n",
       "      <td>76.562500</td>\n",
       "      <td>25.000000</td>\n",
       "      <td>8.771930</td>\n",
       "      <td>25.000000</td>\n",
       "      <td>43.750000</td>\n",
       "      <td>56.250000</td>\n",
       "    </tr>\n",
       "    <tr>\n",
       "      <th>2</th>\n",
       "      <td>2</td>\n",
       "      <td>An hour later, he had before him a chest of Sp...</td>\n",
       "      <td>an hour later he had before him a chest of spa...</td>\n",
       "      <td>an hour later he had before him a chest of spa...</td>\n",
       "      <td>23.076923</td>\n",
       "      <td>4.761905</td>\n",
       "      <td>23.076923</td>\n",
       "      <td>40.828402</td>\n",
       "      <td>59.171598</td>\n",
       "      <td>30.769231</td>\n",
       "      <td>6.349206</td>\n",
       "      <td>30.769231</td>\n",
       "      <td>52.071006</td>\n",
       "      <td>47.928994</td>\n",
       "    </tr>\n",
       "    <tr>\n",
       "      <th>3</th>\n",
       "      <td>3</td>\n",
       "      <td>Ladies and gentlemen, this is your captain spe...</td>\n",
       "      <td>ladies and gentlemen, this is your captain spe...</td>\n",
       "      <td>ladies and gentlemen this is your captain spea...</td>\n",
       "      <td>12.500000</td>\n",
       "      <td>1.923077</td>\n",
       "      <td>12.500000</td>\n",
       "      <td>23.437500</td>\n",
       "      <td>76.562500</td>\n",
       "      <td>37.500000</td>\n",
       "      <td>5.769231</td>\n",
       "      <td>37.500000</td>\n",
       "      <td>60.937500</td>\n",
       "      <td>39.062500</td>\n",
       "    </tr>\n",
       "    <tr>\n",
       "      <th>4</th>\n",
       "      <td>4</td>\n",
       "      <td>Alastair McDonald also sang a song about trams...</td>\n",
       "      <td>alastair macdonald also sang a song about tram...</td>\n",
       "      <td>elister macdonald also sang a song about trams...</td>\n",
       "      <td>30.769231</td>\n",
       "      <td>17.105263</td>\n",
       "      <td>28.571429</td>\n",
       "      <td>45.054945</td>\n",
       "      <td>54.945055</td>\n",
       "      <td>30.769231</td>\n",
       "      <td>21.052632</td>\n",
       "      <td>28.571429</td>\n",
       "      <td>45.054945</td>\n",
       "      <td>54.945055</td>\n",
       "    </tr>\n",
       "  </tbody>\n",
       "</table>\n",
       "</div>"
      ],
      "text/plain": [
       "   i                                                ref  \\\n",
       "0  0     And what's the matter with a thousand dollars?   \n",
       "1  1  Bedoya's line has become widely imitated by en...   \n",
       "2  2  An hour later, he had before him a chest of Sp...   \n",
       "3  3  Ladies and gentlemen, this is your captain spe...   \n",
       "4  4  Alastair McDonald also sang a song about trams...   \n",
       "\n",
       "                                         hyp_whisper  \\\n",
       "0     and what's the matter with a thousand dollars?   \n",
       "1  bidoya's line has become widely imitated by en...   \n",
       "2  an hour later he had before him a chest of spa...   \n",
       "3  ladies and gentlemen, this is your captain spe...   \n",
       "4  alastair macdonald also sang a song about tram...   \n",
       "\n",
       "                                             hyp_w2v      WER_w      CER_w  \\\n",
       "0        and what's the mater with a thousand dolars  12.500000   2.173913   \n",
       "1  bidoe's line has become widely imitated by ent...  12.500000   3.508772   \n",
       "2  an hour later he had before him a chest of spa...  23.076923   4.761905   \n",
       "3  ladies and gentlemen this is your captain spea...  12.500000   1.923077   \n",
       "4  elister macdonald also sang a song about trams...  30.769231  17.105263   \n",
       "\n",
       "       MER_w      WIL_w      WIP_w      WER_v      CER_v      MER_v  \\\n",
       "0  12.500000  23.437500  76.562500  37.500000   8.695652  37.500000   \n",
       "1  12.500000  23.437500  76.562500  25.000000   8.771930  25.000000   \n",
       "2  23.076923  40.828402  59.171598  30.769231   6.349206  30.769231   \n",
       "3  12.500000  23.437500  76.562500  37.500000   5.769231  37.500000   \n",
       "4  28.571429  45.054945  54.945055  30.769231  21.052632  28.571429   \n",
       "\n",
       "       WIL_v      WIP_v  \n",
       "0  60.937500  39.062500  \n",
       "1  43.750000  56.250000  \n",
       "2  52.071006  47.928994  \n",
       "3  60.937500  39.062500  \n",
       "4  45.054945  54.945055  "
      ]
     },
     "metadata": {},
     "output_type": "display_data"
    },
    {
     "data": {
      "image/png": "[encoded data removed]",
      "text/plain": [
       "<Figure size 600x400 with 1 Axes>"
      ]
     },
     "metadata": {},
     "output_type": "display_data"
    },
    {
     "data": {
      "image/png": "[encoded data removed]",
      "text/plain": [
       "<Figure size 600x400 with 1 Axes>"
      ]
     },
     "metadata": {},
     "output_type": "display_data"
    },
    {
     "name": "stdout",
     "output_type": "stream",
     "text": [
      "Whisper: wall=5688.9s  RTF=23.171 | Wav2Vec2: wall=32.5s  RTF=0.132\n",
      "Saved: runs/model_summary.csv and runs/utterance_measures.csv\n"
     ]
    }
   ],
   "source": [
    "# --- Imports & a small compatibility shim ---\n",
    "import numpy as np\n",
    "import pandas as pd\n",
    "import matplotlib.pyplot as plt\n",
    "from jiwer import wer, cer, mer, wil, wip   # public functions\n",
    "\n",
    "def compute_measures_compat(truth, hyp):\n",
    "    \"\"\"\n",
    "    Replacement for jiwer.compute_measures.\n",
    "    Returns the same keys + CER for convenience.\n",
    "    Values are FRACTIONS (0..1) to stay consistent with jiwer.* functions.\n",
    "    \"\"\"\n",
    "    return {\n",
    "        \"wer\": wer(truth, hyp),\n",
    "        \"cer\": cer(truth, hyp),\n",
    "        \"mer\": mer(truth, hyp),\n",
    "        \"wil\": wil(truth, hyp),\n",
    "        \"wip\": wip(truth, hyp),\n",
    "    }\n",
    "\n",
    "# ---------- Model summary (one row per model) ----------\n",
    "# Using the variable names.\n",
    "summary = []\n",
    "\n",
    "summary.append({\n",
    "    \"model\": \"Whisper\",\n",
    "    \"WER\": wer(refs, hyp_whisper)*100,\n",
    "    \"CER\": cer(refs, hyp_whisper)*100,\n",
    "    \"wall_s\": wh_wall,\n",
    "    \"RTF\": wh_rtf,\n",
    "    \"items\": len(refs),\n",
    "})\n",
    "\n",
    "summary.append({\n",
    "    \"model\": \"Wav2Vec2\",\n",
    "    \"WER\": wer(refs, hyp_w2v)*100,\n",
    "    \"CER\": cer(refs, hyp_w2v)*100,\n",
    "    \"wall_s\": w2v_wall,\n",
    "    \"RTF\": w2v_rtf,\n",
    "    \"items\": len(refs),\n",
    "})\n",
    "\n",
    "df_models = pd.DataFrame(summary)\n",
    "display(df_models)\n",
    "\n",
    "# ---------- Per-utterance table ----------\n",
    "rows = []\n",
    "for i, (r, h_w, h_v) in enumerate(zip(refs, hyp_whisper, hyp_w2v)):\n",
    "    m_w = compute_measures_compat(r, h_w)\n",
    "    m_v = compute_measures_compat(r, h_v)\n",
    "    rows.append({\n",
    "        \"i\": i,\n",
    "        \"ref\": r,\n",
    "        \"hyp_whisper\": h_w,\n",
    "        \"hyp_w2v\": h_v,\n",
    "        \"WER_w\": m_w[\"wer\"]*100,\n",
    "        \"CER_w\": m_w[\"cer\"]*100,\n",
    "        \"MER_w\": m_w[\"mer\"]*100,\n",
    "        \"WIL_w\": m_w[\"wil\"]*100,\n",
    "        \"WIP_w\": m_w[\"wip\"]*100,\n",
    "        \"WER_v\": m_v[\"wer\"]*100,\n",
    "        \"CER_v\": m_v[\"cer\"]*100,\n",
    "        \"MER_v\": m_v[\"mer\"]*100,\n",
    "        \"WIL_v\": m_v[\"wil\"]*100,\n",
    "        \"WIP_v\": m_v[\"wip\"]*100,\n",
    "    })\n",
    "\n",
    "df_utts = pd.DataFrame(rows)\n",
    "\n",
    "# Example previously built an array \"durations_s\" aligned with refs:\n",
    "# df_utts[\"duration_s\"] = durations_s\n",
    "\n",
    "display(df_utts.head())\n",
    "\n",
    "# ---------- Plots ----------\n",
    "# 1) Bar chart: corpus-level WER & CER\n",
    "fig, ax = plt.subplots(figsize=(6, 4))\n",
    "x = np.arange(len(df_models))\n",
    "width = 0.35\n",
    "\n",
    "ax.bar(x - width/2, df_models[\"WER\"], width, label=\"WER\")\n",
    "ax.bar(x + width/2, df_models[\"CER\"], width, label=\"CER\")\n",
    "\n",
    "ax.set_xticks(x)\n",
    "ax.set_xticklabels(df_models[\"model\"])\n",
    "ax.set_ylabel(\"Error rate (%)\")\n",
    "ax.set_title(\"Corpus-level WER/CER\")\n",
    "ax.legend()\n",
    "plt.show()\n",
    "\n",
    "# 2) Histograms: utternace-level WER distributions\n",
    "fig, ax = plt.subplots(figsize=(6, 4))\n",
    "ax.hist(df_utts[\"WER_w\"].dropna(), bins=20, alpha=0.6, label=\"Whisper\")\n",
    "ax.hist(df_utts[\"WER_v\"].dropna(), bins=20, alpha=0.6, label=\"Wav2Vec2\")\n",
    "ax.set_xlabel(\"Utterance WER (%)\")\n",
    "ax.set_ylabel(\"Count\")\n",
    "ax.set_title(\"Utterance-level WER distribution\")\n",
    "ax.legend()\n",
    "plt.show()\n",
    "\n",
    "# 3) Scatter: duration vs WER (only if you have durations)\n",
    "if \"duration_s\" in df_utts.columns:\n",
    "    fig, ax = plt.subplots(figsize=(6, 4))\n",
    "    ax.scatter(df_utts[\"duration_s\"], df_utts[\"WER_w\"], alpha=0.6, label=\"Whisper\")\n",
    "    ax.scatter(df_utts[\"duration_s\"], df_utts[\"WER_v\"], alpha=0.6, label=\"Wav2Vec2\")\n",
    "    ax.set_xlabel(\"Duration (s)\")\n",
    "    ax.set_ylabel(\"WER (%)\")\n",
    "    ax.set_title(\"WER vs duration\")\n",
    "    ax.legend()\n",
    "    plt.show()\n",
    "\n",
    "# 4) Speed table (already in df_models, but here’s a pretty print)\n",
    "print(\n",
    "    f\"Whisper: wall={wh_wall:.1f}s  RTF={wh_rtf:.3f} | \"\n",
    "    f\"Wav2Vec2: wall={w2v_wall:.1f}s  RTF={w2v_rtf:.3f}\"\n",
    ")\n",
    "\n",
    "# 5) Optional: save CSVs for your thesis appendix\n",
    "df_models.to_csv(\"runs/model_summary.csv\", index=False)\n",
    "df_utts.to_csv(\"runs/utterance_measures.csv\", index=False)\n",
    "print(\"Saved: runs/model_summary.csv and runs/utterance_measures.csv\")"
   ]
  },
  {
   "cell_type": "markdown",
   "id": "0d4bbbe5-13af-4663-b9a9-197ecb9d99aa",
   "metadata": {},
   "source": [
    "### Fairness results (WER/CER/RTF) for gender and accent groups"
   ]
  },
  {
   "cell_type": "code",
   "execution_count": 19,
   "id": "206e0257-d2f9-49a0-af78-a2534e7aa700",
   "metadata": {},
   "outputs": [],
   "source": [
    "# --- Fairness evaluation utilities ---\n",
    "\n",
    "import os, time, json, math\n",
    "from pathlib import Path\n",
    "import numpy as np\n",
    "import pandas as pd\n",
    "import matplotlib.pyplot as plt\n",
    "import librosa\n",
    "from jiwer import wer, cer\n",
    "\n",
    "# Pick the w2v function name\n",
    "if 'transcribe_w2v_batch' in globals():\n",
    "    run_w2v = transcribe_w2v_batch\n",
    "elif 'transcribe_w2v2_batch' in globals():\n",
    "    run_w2v = transcribe_w2v2_batch\n",
    "else:\n",
    "    raise NameError(\"Couldn't find transcribe_w2v_batch or transcribe_w2v2_batch in globals().\")\n",
    "\n",
    "# Whisper wrapper is assumed present\n",
    "assert 'transcribe_whisper_paths' in globals(), \"transcribe_whisper_paths(...) not found.\"\n",
    "\n",
    "# Duration cache (faster repeated runs)\n",
    "_DUR_CACHE = {}\n",
    "\n",
    "def get_duration_sec(path):\n",
    "    path = str(path)\n",
    "    if path in _DUR_CACHE:\n",
    "        return _DUR_CACHE[path]\n",
    "    d = float(librosa.get_duration(filename=path))\n",
    "    _DUR_CACHE[path] = d\n",
    "    return d\n",
    "\n",
    "def eval_group(df_sub, whisper_bs=8, w2v_bs=16, label=\"group\"):\n",
    "    \"\"\"Run Whisper and W2V2 on a subset df_sub with 'audio_path' + 'sentence'.\"\"\"\n",
    "    refs  = df_sub['sentence'].tolist()\n",
    "    paths = df_sub['audio_path'].astype(str).tolist()\n",
    "\n",
    "    # total audio length (sec) for RTF\n",
    "    audio_seconds_total = sum(get_duration_sec(p) for p in paths) or 1e-9\n",
    "\n",
    "    # Whisper\n",
    "    t0 = time.time()\n",
    "    hyp_whisper = transcribe_whisper_paths(paths, batch_size=whisper_bs)\n",
    "    wh_wall = time.time() - t0\n",
    "    wh_rtf  = wh_wall / audio_seconds_total\n",
    "    wh_wer  = wer(refs, hyp_whisper) * 100\n",
    "    wh_cer  = cer(refs, hyp_whisper) * 100\n",
    "\n",
    "    # Wav2Vec2\n",
    "    t0 = time.time()\n",
    "    hyp_w2v = run_w2v(paths, batch_size=w2v_bs)\n",
    "    w2v_wall = time.time() - t0\n",
    "    w2v_rtf  = w2v_wall / audio_seconds_total\n",
    "    w2v_wer  = wer(refs, hyp_w2v) * 100\n",
    "    w2v_cer  = cer(refs, hyp_w2v) * 100\n",
    "\n",
    "    return {\n",
    "        \"group\": label,\n",
    "        \"items\": len(refs),\n",
    "        \"audio_s\": audio_seconds_total,\n",
    "        \"Whisper_WER\": wh_wer, \"Whisper_CER\": wh_cer, \"Whisper_wall_s\": wh_wall, \"Whisper_RTF\": wh_rtf,\n",
    "        \"Wav2Vec2_WER\": w2v_wer, \"Wav2Vec2_CER\": w2v_cer, \"Wav2Vec2_wall_s\": w2v_wall, \"Wav2Vec2_RTF\": w2v_rtf,\n",
    "    }"
   ]
  },
  {
   "cell_type": "code",
   "execution_count": 20,
   "id": "687a0815-5fb5-4e3a-872a-8a64b43a867d",
   "metadata": {},
   "outputs": [
    {
     "data": {
      "text/plain": [
       "gender_clean\n",
       "male       754279\n",
       "unknown    605943\n",
       "female     257655\n",
       "Name: count, dtype: int64"
      ]
     },
     "execution_count": 20,
     "metadata": {},
     "output_type": "execute_result"
    }
   ],
   "source": [
    "# --- Cleaning up metadata columns (gender/accent) ---\n",
    "\n",
    "meta = meta.copy()  # using the existing 'meta' from earlier cells\n",
    "\n",
    "# Gender normalization\n",
    "def norm_gender(x):\n",
    "    if not isinstance(x, str): return \"unknown\"\n",
    "    x = x.strip().lower()\n",
    "    if x in (\"male\",\"m\"): return \"male\"\n",
    "    if x in (\"female\",\"f\"): return \"female\"\n",
    "    return \"unknown\"\n",
    "\n",
    "if 'gender' in meta.columns:\n",
    "    meta['gender_clean'] = meta['gender'].map(norm_gender)\n",
    "else:\n",
    "    meta['gender_clean'] = \"unknown\"  # if missing in your TSV\n",
    "\n",
    "# Tiny sanity check\n",
    "meta['gender_clean'].value_counts(dropna=False).head()"
   ]
  },
  {
   "cell_type": "code",
   "execution_count": 21,
   "id": "160c46d8-e0a3-40c6-b8e8-c07779b6e050",
   "metadata": {},
   "outputs": [
    {
     "name": "stdout",
     "output_type": "stream",
     "text": [
      "Evaluating gender=male on 150 items...\n"
     ]
    },
    {
     "name": "stderr",
     "output_type": "stream",
     "text": [
      "/var/folders/h0/lym4t3rj7pgdbfpw64mhfr700000gn/T/ipykernel_62361/2756402766.py:29: FutureWarning: get_duration() keyword argument 'filename' has been renamed to 'path' in version 0.10.0.\n",
      "\tThis alias will be removed in version 1.0.\n",
      "  d = float(librosa.get_duration(filename=path))\n",
      "python(69090) MallocStackLogging: can't turn off malloc stack logging because it was not enabled.\n",
      "python(69091) MallocStackLogging: can't turn off malloc stack logging because it was not enabled.\n",
      "python(69092) MallocStackLogging: can't turn off malloc stack logging because it was not enabled.\n",
      "python(69093) MallocStackLogging: can't turn off malloc stack logging because it was not enabled.\n",
      "python(69094) MallocStackLogging: can't turn off malloc stack logging because it was not enabled.\n",
      "python(69095) MallocStackLogging: can't turn off malloc stack logging because it was not enabled.\n",
      "python(69096) MallocStackLogging: can't turn off malloc stack logging because it was not enabled.\n",
      "python(69097) MallocStackLogging: can't turn off malloc stack logging because it was not enabled.\n",
      "python(69303) MallocStackLogging: can't turn off malloc stack logging because it was not enabled.\n",
      "python(69305) MallocStackLogging: can't turn off malloc stack logging because it was not enabled.\n",
      "python(69308) MallocStackLogging: can't turn off malloc stack logging because it was not enabled.\n",
      "python(69309) MallocStackLogging: can't turn off malloc stack logging because it was not enabled.\n",
      "python(69310) MallocStackLogging: can't turn off malloc stack logging because it was not enabled.\n",
      "python(69311) MallocStackLogging: can't turn off malloc stack logging because it was not enabled.\n",
      "python(69312) MallocStackLogging: can't turn off malloc stack logging because it was not enabled.\n",
      "python(69313) MallocStackLogging: can't turn off malloc stack logging because it was not enabled.\n",
      "python(69566) MallocStackLogging: can't turn off malloc stack logging because it was not enabled.\n",
      "python(69567) MallocStackLogging: can't turn off malloc stack logging because it was not enabled.\n",
      "python(69568) MallocStackLogging: can't turn off malloc stack logging because it was not enabled.\n",
      "python(69569) MallocStackLogging: can't turn off malloc stack logging because it was not enabled.\n",
      "python(69570) MallocStackLogging: can't turn off malloc stack logging because it was not enabled.\n",
      "python(69571) MallocStackLogging: can't turn off malloc stack logging because it was not enabled.\n",
      "python(69572) MallocStackLogging: can't turn off malloc stack logging because it was not enabled.\n",
      "python(69573) MallocStackLogging: can't turn off malloc stack logging because it was not enabled.\n",
      "python(69759) MallocStackLogging: can't turn off malloc stack logging because it was not enabled.\n",
      "python(69760) MallocStackLogging: can't turn off malloc stack logging because it was not enabled.\n",
      "python(69761) MallocStackLogging: can't turn off malloc stack logging because it was not enabled.\n",
      "python(69762) MallocStackLogging: can't turn off malloc stack logging because it was not enabled.\n",
      "python(69763) MallocStackLogging: can't turn off malloc stack logging because it was not enabled.\n",
      "python(69764) MallocStackLogging: can't turn off malloc stack logging because it was not enabled.\n",
      "python(69765) MallocStackLogging: can't turn off malloc stack logging because it was not enabled.\n",
      "python(69766) MallocStackLogging: can't turn off malloc stack logging because it was not enabled.\n",
      "python(69974) MallocStackLogging: can't turn off malloc stack logging because it was not enabled.\n",
      "python(69975) MallocStackLogging: can't turn off malloc stack logging because it was not enabled.\n",
      "python(69976) MallocStackLogging: can't turn off malloc stack logging because it was not enabled.\n",
      "python(69977) MallocStackLogging: can't turn off malloc stack logging because it was not enabled.\n",
      "python(69978) MallocStackLogging: can't turn off malloc stack logging because it was not enabled.\n",
      "python(69979) MallocStackLogging: can't turn off malloc stack logging because it was not enabled.\n",
      "python(69980) MallocStackLogging: can't turn off malloc stack logging because it was not enabled.\n",
      "python(69981) MallocStackLogging: can't turn off malloc stack logging because it was not enabled.\n",
      "python(70176) MallocStackLogging: can't turn off malloc stack logging because it was not enabled.\n",
      "python(70181) MallocStackLogging: can't turn off malloc stack logging because it was not enabled.\n",
      "python(70182) MallocStackLogging: can't turn off malloc stack logging because it was not enabled.\n",
      "python(70183) MallocStackLogging: can't turn off malloc stack logging because it was not enabled.\n",
      "python(70184) MallocStackLogging: can't turn off malloc stack logging because it was not enabled.\n",
      "python(70185) MallocStackLogging: can't turn off malloc stack logging because it was not enabled.\n",
      "python(70186) MallocStackLogging: can't turn off malloc stack logging because it was not enabled.\n",
      "python(70187) MallocStackLogging: can't turn off malloc stack logging because it was not enabled.\n",
      "python(70336) MallocStackLogging: can't turn off malloc stack logging because it was not enabled.\n",
      "python(70338) MallocStackLogging: can't turn off malloc stack logging because it was not enabled.\n",
      "python(70339) MallocStackLogging: can't turn off malloc stack logging because it was not enabled.\n",
      "python(70340) MallocStackLogging: can't turn off malloc stack logging because it was not enabled.\n",
      "python(70341) MallocStackLogging: can't turn off malloc stack logging because it was not enabled.\n",
      "python(70342) MallocStackLogging: can't turn off malloc stack logging because it was not enabled.\n",
      "python(70343) MallocStackLogging: can't turn off malloc stack logging because it was not enabled.\n",
      "python(70344) MallocStackLogging: can't turn off malloc stack logging because it was not enabled.\n",
      "python(70419) MallocStackLogging: can't turn off malloc stack logging because it was not enabled.\n",
      "python(70420) MallocStackLogging: can't turn off malloc stack logging because it was not enabled.\n",
      "python(70421) MallocStackLogging: can't turn off malloc stack logging because it was not enabled.\n",
      "python(70422) MallocStackLogging: can't turn off malloc stack logging because it was not enabled.\n",
      "python(70423) MallocStackLogging: can't turn off malloc stack logging because it was not enabled.\n",
      "python(70424) MallocStackLogging: can't turn off malloc stack logging because it was not enabled.\n",
      "python(70425) MallocStackLogging: can't turn off malloc stack logging because it was not enabled.\n",
      "python(70426) MallocStackLogging: can't turn off malloc stack logging because it was not enabled.\n",
      "python(70748) MallocStackLogging: can't turn off malloc stack logging because it was not enabled.\n",
      "python(70749) MallocStackLogging: can't turn off malloc stack logging because it was not enabled.\n",
      "python(70750) MallocStackLogging: can't turn off malloc stack logging because it was not enabled.\n",
      "python(70751) MallocStackLogging: can't turn off malloc stack logging because it was not enabled.\n",
      "python(70752) MallocStackLogging: can't turn off malloc stack logging because it was not enabled.\n",
      "python(70753) MallocStackLogging: can't turn off malloc stack logging because it was not enabled.\n",
      "python(70754) MallocStackLogging: can't turn off malloc stack logging because it was not enabled.\n",
      "python(70755) MallocStackLogging: can't turn off malloc stack logging because it was not enabled.\n",
      "python(71035) MallocStackLogging: can't turn off malloc stack logging because it was not enabled.\n",
      "python(71036) MallocStackLogging: can't turn off malloc stack logging because it was not enabled.\n",
      "python(71037) MallocStackLogging: can't turn off malloc stack logging because it was not enabled.\n",
      "python(71038) MallocStackLogging: can't turn off malloc stack logging because it was not enabled.\n",
      "python(71039) MallocStackLogging: can't turn off malloc stack logging because it was not enabled.\n",
      "python(71040) MallocStackLogging: can't turn off malloc stack logging because it was not enabled.\n",
      "python(71041) MallocStackLogging: can't turn off malloc stack logging because it was not enabled.\n",
      "python(71042) MallocStackLogging: can't turn off malloc stack logging because it was not enabled.\n",
      "python(71302) MallocStackLogging: can't turn off malloc stack logging because it was not enabled.\n",
      "python(71303) MallocStackLogging: can't turn off malloc stack logging because it was not enabled.\n",
      "python(71304) MallocStackLogging: can't turn off malloc stack logging because it was not enabled.\n",
      "python(71305) MallocStackLogging: can't turn off malloc stack logging because it was not enabled.\n",
      "python(71306) MallocStackLogging: can't turn off malloc stack logging because it was not enabled.\n",
      "python(71307) MallocStackLogging: can't turn off malloc stack logging because it was not enabled.\n",
      "python(71308) MallocStackLogging: can't turn off malloc stack logging because it was not enabled.\n",
      "python(71309) MallocStackLogging: can't turn off malloc stack logging because it was not enabled.\n",
      "python(71427) MallocStackLogging: can't turn off malloc stack logging because it was not enabled.\n",
      "python(71429) MallocStackLogging: can't turn off malloc stack logging because it was not enabled.\n",
      "python(71430) MallocStackLogging: can't turn off malloc stack logging because it was not enabled.\n",
      "python(71431) MallocStackLogging: can't turn off malloc stack logging because it was not enabled.\n",
      "python(71432) MallocStackLogging: can't turn off malloc stack logging because it was not enabled.\n",
      "python(71433) MallocStackLogging: can't turn off malloc stack logging because it was not enabled.\n",
      "python(71434) MallocStackLogging: can't turn off malloc stack logging because it was not enabled.\n",
      "python(71435) MallocStackLogging: can't turn off malloc stack logging because it was not enabled.\n",
      "python(71547) MallocStackLogging: can't turn off malloc stack logging because it was not enabled.\n",
      "python(71548) MallocStackLogging: can't turn off malloc stack logging because it was not enabled.\n",
      "python(71549) MallocStackLogging: can't turn off malloc stack logging because it was not enabled.\n",
      "python(71550) MallocStackLogging: can't turn off malloc stack logging because it was not enabled.\n",
      "python(71551) MallocStackLogging: can't turn off malloc stack logging because it was not enabled.\n",
      "python(71552) MallocStackLogging: can't turn off malloc stack logging because it was not enabled.\n",
      "python(71553) MallocStackLogging: can't turn off malloc stack logging because it was not enabled.\n",
      "python(71554) MallocStackLogging: can't turn off malloc stack logging because it was not enabled.\n",
      "python(71762) MallocStackLogging: can't turn off malloc stack logging because it was not enabled.\n",
      "python(71763) MallocStackLogging: can't turn off malloc stack logging because it was not enabled.\n",
      "python(71764) MallocStackLogging: can't turn off malloc stack logging because it was not enabled.\n",
      "python(71765) MallocStackLogging: can't turn off malloc stack logging because it was not enabled.\n",
      "python(71766) MallocStackLogging: can't turn off malloc stack logging because it was not enabled.\n",
      "python(71767) MallocStackLogging: can't turn off malloc stack logging because it was not enabled.\n",
      "python(71768) MallocStackLogging: can't turn off malloc stack logging because it was not enabled.\n",
      "python(71769) MallocStackLogging: can't turn off malloc stack logging because it was not enabled.\n",
      "python(71976) MallocStackLogging: can't turn off malloc stack logging because it was not enabled.\n",
      "python(71977) MallocStackLogging: can't turn off malloc stack logging because it was not enabled.\n",
      "python(71978) MallocStackLogging: can't turn off malloc stack logging because it was not enabled.\n",
      "python(71979) MallocStackLogging: can't turn off malloc stack logging because it was not enabled.\n",
      "python(71980) MallocStackLogging: can't turn off malloc stack logging because it was not enabled.\n",
      "python(71981) MallocStackLogging: can't turn off malloc stack logging because it was not enabled.\n",
      "python(71982) MallocStackLogging: can't turn off malloc stack logging because it was not enabled.\n",
      "python(71983) MallocStackLogging: can't turn off malloc stack logging because it was not enabled.\n",
      "python(72117) MallocStackLogging: can't turn off malloc stack logging because it was not enabled.\n",
      "python(72118) MallocStackLogging: can't turn off malloc stack logging because it was not enabled.\n",
      "python(72119) MallocStackLogging: can't turn off malloc stack logging because it was not enabled.\n",
      "python(72120) MallocStackLogging: can't turn off malloc stack logging because it was not enabled.\n",
      "python(72121) MallocStackLogging: can't turn off malloc stack logging because it was not enabled.\n",
      "python(72123) MallocStackLogging: can't turn off malloc stack logging because it was not enabled.\n",
      "python(72124) MallocStackLogging: can't turn off malloc stack logging because it was not enabled.\n",
      "python(72125) MallocStackLogging: can't turn off malloc stack logging because it was not enabled.\n",
      "python(72414) MallocStackLogging: can't turn off malloc stack logging because it was not enabled.\n",
      "python(72415) MallocStackLogging: can't turn off malloc stack logging because it was not enabled.\n",
      "python(72416) MallocStackLogging: can't turn off malloc stack logging because it was not enabled.\n",
      "python(72417) MallocStackLogging: can't turn off malloc stack logging because it was not enabled.\n",
      "python(72418) MallocStackLogging: can't turn off malloc stack logging because it was not enabled.\n",
      "python(72419) MallocStackLogging: can't turn off malloc stack logging because it was not enabled.\n",
      "python(72420) MallocStackLogging: can't turn off malloc stack logging because it was not enabled.\n",
      "python(72421) MallocStackLogging: can't turn off malloc stack logging because it was not enabled.\n",
      "python(72723) MallocStackLogging: can't turn off malloc stack logging because it was not enabled.\n",
      "python(72724) MallocStackLogging: can't turn off malloc stack logging because it was not enabled.\n",
      "python(72725) MallocStackLogging: can't turn off malloc stack logging because it was not enabled.\n",
      "python(72726) MallocStackLogging: can't turn off malloc stack logging because it was not enabled.\n",
      "python(72727) MallocStackLogging: can't turn off malloc stack logging because it was not enabled.\n",
      "python(72728) MallocStackLogging: can't turn off malloc stack logging because it was not enabled.\n",
      "python(72729) MallocStackLogging: can't turn off malloc stack logging because it was not enabled.\n",
      "python(72730) MallocStackLogging: can't turn off malloc stack logging because it was not enabled.\n",
      "python(72891) MallocStackLogging: can't turn off malloc stack logging because it was not enabled.\n",
      "python(72892) MallocStackLogging: can't turn off malloc stack logging because it was not enabled.\n",
      "python(72893) MallocStackLogging: can't turn off malloc stack logging because it was not enabled.\n",
      "python(72894) MallocStackLogging: can't turn off malloc stack logging because it was not enabled.\n",
      "python(72895) MallocStackLogging: can't turn off malloc stack logging because it was not enabled.\n",
      "python(72896) MallocStackLogging: can't turn off malloc stack logging because it was not enabled.\n"
     ]
    },
    {
     "name": "stdout",
     "output_type": "stream",
     "text": [
      "Evaluating gender=female on 150 items...\n"
     ]
    },
    {
     "name": "stderr",
     "output_type": "stream",
     "text": [
      "/var/folders/h0/lym4t3rj7pgdbfpw64mhfr700000gn/T/ipykernel_62361/2756402766.py:29: FutureWarning: get_duration() keyword argument 'filename' has been renamed to 'path' in version 0.10.0.\n",
      "\tThis alias will be removed in version 1.0.\n",
      "  d = float(librosa.get_duration(filename=path))\n",
      "python(72952) MallocStackLogging: can't turn off malloc stack logging because it was not enabled.\n",
      "python(72953) MallocStackLogging: can't turn off malloc stack logging because it was not enabled.\n",
      "python(72954) MallocStackLogging: can't turn off malloc stack logging because it was not enabled.\n",
      "python(72955) MallocStackLogging: can't turn off malloc stack logging because it was not enabled.\n",
      "python(72956) MallocStackLogging: can't turn off malloc stack logging because it was not enabled.\n",
      "python(72957) MallocStackLogging: can't turn off malloc stack logging because it was not enabled.\n",
      "python(72958) MallocStackLogging: can't turn off malloc stack logging because it was not enabled.\n",
      "python(72959) MallocStackLogging: can't turn off malloc stack logging because it was not enabled.\n",
      "python(73089) MallocStackLogging: can't turn off malloc stack logging because it was not enabled.\n",
      "python(73090) MallocStackLogging: can't turn off malloc stack logging because it was not enabled.\n",
      "python(73091) MallocStackLogging: can't turn off malloc stack logging because it was not enabled.\n",
      "python(73092) MallocStackLogging: can't turn off malloc stack logging because it was not enabled.\n",
      "python(73093) MallocStackLogging: can't turn off malloc stack logging because it was not enabled.\n",
      "python(73094) MallocStackLogging: can't turn off malloc stack logging because it was not enabled.\n",
      "python(73095) MallocStackLogging: can't turn off malloc stack logging because it was not enabled.\n",
      "python(73096) MallocStackLogging: can't turn off malloc stack logging because it was not enabled.\n",
      "python(73244) MallocStackLogging: can't turn off malloc stack logging because it was not enabled.\n",
      "python(73245) MallocStackLogging: can't turn off malloc stack logging because it was not enabled.\n",
      "python(73246) MallocStackLogging: can't turn off malloc stack logging because it was not enabled.\n",
      "python(73247) MallocStackLogging: can't turn off malloc stack logging because it was not enabled.\n",
      "python(73248) MallocStackLogging: can't turn off malloc stack logging because it was not enabled.\n",
      "python(73249) MallocStackLogging: can't turn off malloc stack logging because it was not enabled.\n",
      "python(73250) MallocStackLogging: can't turn off malloc stack logging because it was not enabled.\n",
      "python(73251) MallocStackLogging: can't turn off malloc stack logging because it was not enabled.\n",
      "python(73517) MallocStackLogging: can't turn off malloc stack logging because it was not enabled.\n",
      "python(73518) MallocStackLogging: can't turn off malloc stack logging because it was not enabled.\n",
      "python(73519) MallocStackLogging: can't turn off malloc stack logging because it was not enabled.\n",
      "python(73520) MallocStackLogging: can't turn off malloc stack logging because it was not enabled.\n",
      "python(73521) MallocStackLogging: can't turn off malloc stack logging because it was not enabled.\n",
      "python(73522) MallocStackLogging: can't turn off malloc stack logging because it was not enabled.\n",
      "python(73523) MallocStackLogging: can't turn off malloc stack logging because it was not enabled.\n",
      "python(73524) MallocStackLogging: can't turn off malloc stack logging because it was not enabled.\n",
      "python(73782) MallocStackLogging: can't turn off malloc stack logging because it was not enabled.\n",
      "python(73783) MallocStackLogging: can't turn off malloc stack logging because it was not enabled.\n",
      "python(73784) MallocStackLogging: can't turn off malloc stack logging because it was not enabled.\n",
      "python(73785) MallocStackLogging: can't turn off malloc stack logging because it was not enabled.\n",
      "python(73786) MallocStackLogging: can't turn off malloc stack logging because it was not enabled.\n",
      "python(73787) MallocStackLogging: can't turn off malloc stack logging because it was not enabled.\n",
      "python(73788) MallocStackLogging: can't turn off malloc stack logging because it was not enabled.\n",
      "python(73789) MallocStackLogging: can't turn off malloc stack logging because it was not enabled.\n",
      "python(73993) MallocStackLogging: can't turn off malloc stack logging because it was not enabled.\n",
      "python(73994) MallocStackLogging: can't turn off malloc stack logging because it was not enabled.\n",
      "python(73995) MallocStackLogging: can't turn off malloc stack logging because it was not enabled.\n",
      "python(73996) MallocStackLogging: can't turn off malloc stack logging because it was not enabled.\n",
      "python(73997) MallocStackLogging: can't turn off malloc stack logging because it was not enabled.\n",
      "python(73998) MallocStackLogging: can't turn off malloc stack logging because it was not enabled.\n",
      "python(73999) MallocStackLogging: can't turn off malloc stack logging because it was not enabled.\n",
      "python(74000) MallocStackLogging: can't turn off malloc stack logging because it was not enabled.\n",
      "python(74430) MallocStackLogging: can't turn off malloc stack logging because it was not enabled.\n",
      "python(74431) MallocStackLogging: can't turn off malloc stack logging because it was not enabled.\n",
      "python(74432) MallocStackLogging: can't turn off malloc stack logging because it was not enabled.\n",
      "python(74433) MallocStackLogging: can't turn off malloc stack logging because it was not enabled.\n",
      "python(74434) MallocStackLogging: can't turn off malloc stack logging because it was not enabled.\n",
      "python(74435) MallocStackLogging: can't turn off malloc stack logging because it was not enabled.\n",
      "python(74436) MallocStackLogging: can't turn off malloc stack logging because it was not enabled.\n",
      "python(74437) MallocStackLogging: can't turn off malloc stack logging because it was not enabled.\n",
      "python(74636) MallocStackLogging: can't turn off malloc stack logging because it was not enabled.\n",
      "python(74639) MallocStackLogging: can't turn off malloc stack logging because it was not enabled.\n",
      "python(74640) MallocStackLogging: can't turn off malloc stack logging because it was not enabled.\n",
      "python(74641) MallocStackLogging: can't turn off malloc stack logging because it was not enabled.\n",
      "python(74642) MallocStackLogging: can't turn off malloc stack logging because it was not enabled.\n",
      "python(74644) MallocStackLogging: can't turn off malloc stack logging because it was not enabled.\n",
      "python(74645) MallocStackLogging: can't turn off malloc stack logging because it was not enabled.\n",
      "python(74647) MallocStackLogging: can't turn off malloc stack logging because it was not enabled.\n",
      "python(74771) MallocStackLogging: can't turn off malloc stack logging because it was not enabled.\n",
      "python(74772) MallocStackLogging: can't turn off malloc stack logging because it was not enabled.\n",
      "python(74773) MallocStackLogging: can't turn off malloc stack logging because it was not enabled.\n",
      "python(74774) MallocStackLogging: can't turn off malloc stack logging because it was not enabled.\n",
      "python(74775) MallocStackLogging: can't turn off malloc stack logging because it was not enabled.\n",
      "python(74776) MallocStackLogging: can't turn off malloc stack logging because it was not enabled.\n",
      "python(74778) MallocStackLogging: can't turn off malloc stack logging because it was not enabled.\n",
      "python(74779) MallocStackLogging: can't turn off malloc stack logging because it was not enabled.\n",
      "python(74992) MallocStackLogging: can't turn off malloc stack logging because it was not enabled.\n",
      "python(74993) MallocStackLogging: can't turn off malloc stack logging because it was not enabled.\n",
      "python(74994) MallocStackLogging: can't turn off malloc stack logging because it was not enabled.\n",
      "python(74995) MallocStackLogging: can't turn off malloc stack logging because it was not enabled.\n",
      "python(74996) MallocStackLogging: can't turn off malloc stack logging because it was not enabled.\n",
      "python(74997) MallocStackLogging: can't turn off malloc stack logging because it was not enabled.\n",
      "python(74998) MallocStackLogging: can't turn off malloc stack logging because it was not enabled.\n",
      "python(74999) MallocStackLogging: can't turn off malloc stack logging because it was not enabled.\n",
      "python(75375) MallocStackLogging: can't turn off malloc stack logging because it was not enabled.\n",
      "python(75376) MallocStackLogging: can't turn off malloc stack logging because it was not enabled.\n",
      "python(75377) MallocStackLogging: can't turn off malloc stack logging because it was not enabled.\n",
      "python(75378) MallocStackLogging: can't turn off malloc stack logging because it was not enabled.\n",
      "python(75379) MallocStackLogging: can't turn off malloc stack logging because it was not enabled.\n",
      "python(75380) MallocStackLogging: can't turn off malloc stack logging because it was not enabled.\n",
      "python(75381) MallocStackLogging: can't turn off malloc stack logging because it was not enabled.\n",
      "python(75382) MallocStackLogging: can't turn off malloc stack logging because it was not enabled.\n",
      "python(75632) MallocStackLogging: can't turn off malloc stack logging because it was not enabled.\n",
      "python(75634) MallocStackLogging: can't turn off malloc stack logging because it was not enabled.\n",
      "python(75635) MallocStackLogging: can't turn off malloc stack logging because it was not enabled.\n",
      "python(75636) MallocStackLogging: can't turn off malloc stack logging because it was not enabled.\n",
      "python(75637) MallocStackLogging: can't turn off malloc stack logging because it was not enabled.\n",
      "python(75638) MallocStackLogging: can't turn off malloc stack logging because it was not enabled.\n",
      "python(75639) MallocStackLogging: can't turn off malloc stack logging because it was not enabled.\n",
      "python(75640) MallocStackLogging: can't turn off malloc stack logging because it was not enabled.\n",
      "python(75729) MallocStackLogging: can't turn off malloc stack logging because it was not enabled.\n",
      "python(75730) MallocStackLogging: can't turn off malloc stack logging because it was not enabled.\n",
      "python(75731) MallocStackLogging: can't turn off malloc stack logging because it was not enabled.\n",
      "python(75732) MallocStackLogging: can't turn off malloc stack logging because it was not enabled.\n",
      "python(75733) MallocStackLogging: can't turn off malloc stack logging because it was not enabled.\n",
      "python(75734) MallocStackLogging: can't turn off malloc stack logging because it was not enabled.\n",
      "python(75735) MallocStackLogging: can't turn off malloc stack logging because it was not enabled.\n",
      "python(75736) MallocStackLogging: can't turn off malloc stack logging because it was not enabled.\n",
      "python(75904) MallocStackLogging: can't turn off malloc stack logging because it was not enabled.\n",
      "python(75905) MallocStackLogging: can't turn off malloc stack logging because it was not enabled.\n",
      "python(75906) MallocStackLogging: can't turn off malloc stack logging because it was not enabled.\n",
      "python(75907) MallocStackLogging: can't turn off malloc stack logging because it was not enabled.\n",
      "python(75908) MallocStackLogging: can't turn off malloc stack logging because it was not enabled.\n",
      "python(75909) MallocStackLogging: can't turn off malloc stack logging because it was not enabled.\n",
      "python(75910) MallocStackLogging: can't turn off malloc stack logging because it was not enabled.\n",
      "python(75911) MallocStackLogging: can't turn off malloc stack logging because it was not enabled.\n",
      "python(76045) MallocStackLogging: can't turn off malloc stack logging because it was not enabled.\n",
      "python(76046) MallocStackLogging: can't turn off malloc stack logging because it was not enabled.\n",
      "python(76047) MallocStackLogging: can't turn off malloc stack logging because it was not enabled.\n",
      "python(76048) MallocStackLogging: can't turn off malloc stack logging because it was not enabled.\n",
      "python(76049) MallocStackLogging: can't turn off malloc stack logging because it was not enabled.\n",
      "python(76050) MallocStackLogging: can't turn off malloc stack logging because it was not enabled.\n",
      "python(76051) MallocStackLogging: can't turn off malloc stack logging because it was not enabled.\n",
      "python(76052) MallocStackLogging: can't turn off malloc stack logging because it was not enabled.\n",
      "python(76123) MallocStackLogging: can't turn off malloc stack logging because it was not enabled.\n",
      "python(76124) MallocStackLogging: can't turn off malloc stack logging because it was not enabled.\n",
      "python(76125) MallocStackLogging: can't turn off malloc stack logging because it was not enabled.\n",
      "python(76126) MallocStackLogging: can't turn off malloc stack logging because it was not enabled.\n",
      "python(76127) MallocStackLogging: can't turn off malloc stack logging because it was not enabled.\n",
      "python(76128) MallocStackLogging: can't turn off malloc stack logging because it was not enabled.\n",
      "python(76129) MallocStackLogging: can't turn off malloc stack logging because it was not enabled.\n",
      "python(76130) MallocStackLogging: can't turn off malloc stack logging because it was not enabled.\n",
      "python(76202) MallocStackLogging: can't turn off malloc stack logging because it was not enabled.\n",
      "python(76203) MallocStackLogging: can't turn off malloc stack logging because it was not enabled.\n",
      "python(76204) MallocStackLogging: can't turn off malloc stack logging because it was not enabled.\n",
      "python(76205) MallocStackLogging: can't turn off malloc stack logging because it was not enabled.\n",
      "python(76206) MallocStackLogging: can't turn off malloc stack logging because it was not enabled.\n",
      "python(76207) MallocStackLogging: can't turn off malloc stack logging because it was not enabled.\n",
      "python(76208) MallocStackLogging: can't turn off malloc stack logging because it was not enabled.\n",
      "python(76210) MallocStackLogging: can't turn off malloc stack logging because it was not enabled.\n",
      "python(76923) MallocStackLogging: can't turn off malloc stack logging because it was not enabled.\n",
      "python(76926) MallocStackLogging: can't turn off malloc stack logging because it was not enabled.\n",
      "python(76927) MallocStackLogging: can't turn off malloc stack logging because it was not enabled.\n",
      "python(76928) MallocStackLogging: can't turn off malloc stack logging because it was not enabled.\n",
      "python(76929) MallocStackLogging: can't turn off malloc stack logging because it was not enabled.\n",
      "python(76930) MallocStackLogging: can't turn off malloc stack logging because it was not enabled.\n",
      "python(76931) MallocStackLogging: can't turn off malloc stack logging because it was not enabled.\n",
      "python(76932) MallocStackLogging: can't turn off malloc stack logging because it was not enabled.\n",
      "python(77437) MallocStackLogging: can't turn off malloc stack logging because it was not enabled.\n",
      "python(77438) MallocStackLogging: can't turn off malloc stack logging because it was not enabled.\n",
      "python(77439) MallocStackLogging: can't turn off malloc stack logging because it was not enabled.\n",
      "python(77440) MallocStackLogging: can't turn off malloc stack logging because it was not enabled.\n",
      "python(77441) MallocStackLogging: can't turn off malloc stack logging because it was not enabled.\n",
      "python(77442) MallocStackLogging: can't turn off malloc stack logging because it was not enabled.\n"
     ]
    },
    {
     "data": {
      "text/html": [
       "<div>\n",
       "<style scoped>\n",
       "    .dataframe tbody tr th:only-of-type {\n",
       "        vertical-align: middle;\n",
       "    }\n",
       "\n",
       "    .dataframe tbody tr th {\n",
       "        vertical-align: top;\n",
       "    }\n",
       "\n",
       "    .dataframe thead th {\n",
       "        text-align: right;\n",
       "    }\n",
       "</style>\n",
       "<table border=\"1\" class=\"dataframe\">\n",
       "  <thead>\n",
       "    <tr style=\"text-align: right;\">\n",
       "      <th></th>\n",
       "      <th>group</th>\n",
       "      <th>items</th>\n",
       "      <th>audio_s</th>\n",
       "      <th>Whisper_WER</th>\n",
       "      <th>Whisper_CER</th>\n",
       "      <th>Whisper_wall_s</th>\n",
       "      <th>Whisper_RTF</th>\n",
       "      <th>Wav2Vec2_WER</th>\n",
       "      <th>Wav2Vec2_CER</th>\n",
       "      <th>Wav2Vec2_wall_s</th>\n",
       "      <th>Wav2Vec2_RTF</th>\n",
       "    </tr>\n",
       "  </thead>\n",
       "  <tbody>\n",
       "    <tr>\n",
       "      <th>0</th>\n",
       "      <td>gender:male</td>\n",
       "      <td>150</td>\n",
       "      <td>794.034909</td>\n",
       "      <td>26.04930</td>\n",
       "      <td>5.742485</td>\n",
       "      <td>17191.689504</td>\n",
       "      <td>21.651050</td>\n",
       "      <td>44.570286</td>\n",
       "      <td>11.283087</td>\n",
       "      <td>93.196485</td>\n",
       "      <td>0.117371</td>\n",
       "    </tr>\n",
       "    <tr>\n",
       "      <th>1</th>\n",
       "      <td>gender:female</td>\n",
       "      <td>150</td>\n",
       "      <td>799.905167</td>\n",
       "      <td>28.07377</td>\n",
       "      <td>7.401335</td>\n",
       "      <td>73256.965750</td>\n",
       "      <td>91.582063</td>\n",
       "      <td>43.920765</td>\n",
       "      <td>12.390210</td>\n",
       "      <td>84.790465</td>\n",
       "      <td>0.106001</td>\n",
       "    </tr>\n",
       "  </tbody>\n",
       "</table>\n",
       "</div>"
      ],
      "text/plain": [
       "           group  items     audio_s  Whisper_WER  Whisper_CER  Whisper_wall_s  \\\n",
       "0    gender:male    150  794.034909     26.04930     5.742485    17191.689504   \n",
       "1  gender:female    150  799.905167     28.07377     7.401335    73256.965750   \n",
       "\n",
       "   Whisper_RTF  Wav2Vec2_WER  Wav2Vec2_CER  Wav2Vec2_wall_s  Wav2Vec2_RTF  \n",
       "0    21.651050     44.570286     11.283087        93.196485      0.117371  \n",
       "1    91.582063     43.920765     12.390210        84.790465      0.106001  "
      ]
     },
     "execution_count": 21,
     "metadata": {},
     "output_type": "execute_result"
    }
   ],
   "source": [
    "# --- Evaluate by gender (male/female) ---\n",
    "\n",
    "groups = []\n",
    "for g in [\"male\", \"female\"]:\n",
    "    df_g = meta[meta['gender_clean'] == g]\n",
    "    # Optionally limiting the size\n",
    "    df_g = df_g.sample(min(len(df_g), 150), random_state=42) \n",
    "\n",
    "    if len(df_g) >= 10:\n",
    "        print(f\"Evaluating gender={g} on {len(df_g)} items...\")\n",
    "        groups.append(eval_group(df_g, label=f\"gender:{g}\"))\n",
    "\n",
    "df_gender = pd.DataFrame(groups)\n",
    "df_gender"
   ]
  },
  {
   "cell_type": "code",
   "execution_count": 22,
   "id": "c4ec6bfb-3c44-4ca6-aaff-a6f3fade886d",
   "metadata": {},
   "outputs": [
    {
     "data": {
      "image/png": "[encoded data removed]",
      "text/plain": [
       "<Figure size 1000x400 with 2 Axes>"
      ]
     },
     "metadata": {},
     "output_type": "display_data"
    }
   ],
   "source": [
    "# --- Plot WER by gender ---\n",
    "\n",
    "fig, ax = plt.subplots(1, 2, figsize=(10,4), sharey=True)\n",
    "\n",
    "if not df_gender.empty:\n",
    "    ax[0].bar(df_gender['group'], df_gender['Whisper_WER'], color=\"#1f77b4\", alpha=0.85)\n",
    "    ax[0].set_title(\"Whisper WER by gender\")\n",
    "    ax[0].set_ylabel(\"WER (%)\")\n",
    "    ax[0].set_ylim(0, max(df_gender[['Whisper_WER','Wav2Vec2_WER']].max()) * 1.2)\n",
    "\n",
    "    ax[1].bar(df_gender['group'], df_gender['Wav2Vec2_WER'], color=\"#ff7f0e\", alpha=0.85)\n",
    "    ax[1].set_title(\"Wav2Vec2 WER by gender\")\n",
    "\n",
    "    plt.suptitle(\"Fairness: Gender subsets\")\n",
    "    plt.tight_layout()\n",
    "else:\n",
    "    plt.text(0.5,0.5,\"No gender data available\", ha='center')\n",
    "\n",
    "# Save\n",
    "os.makedirs(\"runs\", exist_ok=True)\n",
    "fig.savefig(\"runs/fairness_gender_wer.png\", dpi=150)\n",
    "df_gender.to_csv(\"runs/fairness_gender_summary.csv\", index=False)\n",
    "plt.show()"
   ]
  },
  {
   "cell_type": "code",
   "execution_count": 23,
   "id": "5841b247-e22e-486e-9a02-8a650dcf70af",
   "metadata": {},
   "outputs": [
    {
     "data": {
      "text/plain": [
       "[]"
      ]
     },
     "execution_count": 23,
     "metadata": {},
     "output_type": "execute_result"
    }
   ],
   "source": [
    "# --- Accent normalization + pick top-K accents ---\n",
    "\n",
    "def norm_accent(x):\n",
    "    if not isinstance(x, str): return \"unknown\"\n",
    "    x = x.strip().lower()\n",
    "    return x if len(x) else \"unknown\"\n",
    "\n",
    "if 'accent' in meta.columns:\n",
    "    meta['accent_clean'] = meta['accent'].map(norm_accent)\n",
    "else:\n",
    "    meta['accent_clean'] = \"unknown\"\n",
    "\n",
    "# Top-K accents by count (ignore 'unknown' if you wish)\n",
    "K = 5\n",
    "accent_counts = (meta[meta['accent_clean']!=\"unknown\"]\n",
    "                 .groupby('accent_clean').size().sort_values(ascending=False))\n",
    "top_accents = accent_counts.head(K).index.tolist()\n",
    "top_accents"
   ]
  },
  {
   "cell_type": "code",
   "execution_count": 26,
   "id": "e01eace6-4e68-463b-8283-093926ed1d97",
   "metadata": {},
   "outputs": [
    {
     "name": "stdout",
     "output_type": "stream",
     "text": [
      "Columns: ['client_id', 'path', 'sentence', 'up_votes', 'down_votes', 'age', 'gender', 'accents', 'locale', 'segment', 'audio_path', 'gender_clean', 'accent_clean']\n",
      "                                           client_id  \\\n",
      "0  000abb3006b78ea4c1144e55d9d158f05a9db011016051...   \n",
      "1  0013037a1d45cc33460806cc3f8ecee9d536c45639ba4c...   \n",
      "2  0014c5a3e5715a54855257779b89c2bb498d470b225866...   \n",
      "\n",
      "                           path  \\\n",
      "0  common_voice_en_27710027.mp3   \n",
      "1    common_voice_en_699711.mp3   \n",
      "2  common_voice_en_21953345.mp3   \n",
      "\n",
      "                                            sentence  up_votes  down_votes  \\\n",
      "0  Joe Keaton disapproved of films, and Buster al...         3           1   \n",
      "1                               She'll be all right.         2           1   \n",
      "2                                                six         3           2   \n",
      "\n",
      "   age gender accents locale    segment  \\\n",
      "0  NaN    NaN     NaN     en        NaN   \n",
      "1  NaN    NaN     NaN     en        NaN   \n",
      "2  NaN    NaN     NaN     en  Benchmark   \n",
      "\n",
      "                                          audio_path gender_clean accent_clean  \n",
      "0  /Users/ninadjoshi/asr-comparative-study/ASR-Co...      unknown      unknown  \n",
      "1  /Users/ninadjoshi/asr-comparative-study/ASR-Co...      unknown      unknown  \n",
      "2  /Users/ninadjoshi/asr-comparative-study/ASR-Co...      unknown      unknown  \n"
     ]
    }
   ],
   "source": [
    "print(\"Columns:\", meta.columns.tolist())\n",
    "print(meta.head(3))"
   ]
  },
  {
   "cell_type": "code",
   "execution_count": 27,
   "id": "ac38a8d2-4b7b-4983-ab14-c704e0a28f98",
   "metadata": {},
   "outputs": [
    {
     "name": "stdout",
     "output_type": "stream",
     "text": [
      "✅ Using accent column: accents\n",
      "Top accents by count:\n",
      " accent_clean\n",
      "united states english                                            389397\n",
      "england english                                                  134595\n",
      "india and south asia (india, pakistan, sri lanka)                101067\n",
      "canadian english                                                  61132\n",
      "australian english                                                51593\n",
      "german english,non native speaker                                 42001\n",
      "scottish english                                                  15820\n",
      "new zealand english                                               12381\n",
      "irish english                                                      9607\n",
      "southern african (south africa, zimbabwe, namibia)                 8485\n",
      "northern irish                                                     6897\n",
      "filipino                                                           5173\n",
      "hong kong english                                                  4318\n",
      "singaporean english                                                3402\n",
      "liverpool english,lancashire english,england english               2625\n",
      "england english,new zealand english                                2074\n",
      "malaysian english                                                  1810\n",
      "welsh english                                                      1759\n",
      "west indies and bermuda (bahamas, bermuda, jamaica, trinidad)       715\n",
      "southern united states,united states english                        391\n",
      "Name: count, dtype: int64\n"
     ]
    },
    {
     "ename": "KeyError",
     "evalue": "'ref'",
     "output_type": "error",
     "traceback": [
      "\u001b[31m---------------------------------------------------------------------------\u001b[39m",
      "\u001b[31mKeyError\u001b[39m                                  Traceback (most recent call last)",
      "\u001b[36mFile \u001b[39m\u001b[32m~/.local/share/mamba/envs/audio/lib/python3.12/site-packages/pandas/core/indexes/base.py:3812\u001b[39m, in \u001b[36mIndex.get_loc\u001b[39m\u001b[34m(self, key)\u001b[39m\n\u001b[32m   3811\u001b[39m \u001b[38;5;28;01mtry\u001b[39;00m:\n\u001b[32m-> \u001b[39m\u001b[32m3812\u001b[39m     \u001b[38;5;28;01mreturn\u001b[39;00m \u001b[38;5;28;43mself\u001b[39;49m\u001b[43m.\u001b[49m\u001b[43m_engine\u001b[49m\u001b[43m.\u001b[49m\u001b[43mget_loc\u001b[49m\u001b[43m(\u001b[49m\u001b[43mcasted_key\u001b[49m\u001b[43m)\u001b[49m\n\u001b[32m   3813\u001b[39m \u001b[38;5;28;01mexcept\u001b[39;00m \u001b[38;5;167;01mKeyError\u001b[39;00m \u001b[38;5;28;01mas\u001b[39;00m err:\n",
      "\u001b[36mFile \u001b[39m\u001b[32mpandas/_libs/index.pyx:167\u001b[39m, in \u001b[36mpandas._libs.index.IndexEngine.get_loc\u001b[39m\u001b[34m()\u001b[39m\n",
      "\u001b[36mFile \u001b[39m\u001b[32mpandas/_libs/index.pyx:196\u001b[39m, in \u001b[36mpandas._libs.index.IndexEngine.get_loc\u001b[39m\u001b[34m()\u001b[39m\n",
      "\u001b[36mFile \u001b[39m\u001b[32mpandas/_libs/hashtable_class_helper.pxi:7088\u001b[39m, in \u001b[36mpandas._libs.hashtable.PyObjectHashTable.get_item\u001b[39m\u001b[34m()\u001b[39m\n",
      "\u001b[36mFile \u001b[39m\u001b[32mpandas/_libs/hashtable_class_helper.pxi:7096\u001b[39m, in \u001b[36mpandas._libs.hashtable.PyObjectHashTable.get_item\u001b[39m\u001b[34m()\u001b[39m\n",
      "\u001b[31mKeyError\u001b[39m: 'ref'",
      "\nThe above exception was the direct cause of the following exception:\n",
      "\u001b[31mKeyError\u001b[39m                                  Traceback (most recent call last)",
      "\u001b[36mCell\u001b[39m\u001b[36m \u001b[39m\u001b[32mIn[27]\u001b[39m\u001b[32m, line 52\u001b[39m\n\u001b[32m     44\u001b[39m meta[\u001b[33m\"\u001b[39m\u001b[33maccent_group\u001b[39m\u001b[33m\"\u001b[39m] = np.where(\n\u001b[32m     45\u001b[39m     meta[\u001b[33m\"\u001b[39m\u001b[33maccent_clean\u001b[39m\u001b[33m\"\u001b[39m].isin(kept), meta[\u001b[33m\"\u001b[39m\u001b[33maccent_clean\u001b[39m\u001b[33m\"\u001b[39m], \u001b[33m\"\u001b[39m\u001b[33mother\u001b[39m\u001b[33m\"\u001b[39m\n\u001b[32m     46\u001b[39m )\n\u001b[32m     48\u001b[39m \u001b[38;5;66;03m# If you prefer to drop \"other\", uncomment:\u001b[39;00m\n\u001b[32m     49\u001b[39m \u001b[38;5;66;03m# meta = meta[meta[\"accent_group\"] != \"other\"].copy()\u001b[39;00m\n\u001b[32m     50\u001b[39m \n\u001b[32m     51\u001b[39m \u001b[38;5;66;03m# ---- Step D: compute WER/CER per accent ----\u001b[39;00m\n\u001b[32m---> \u001b[39m\u001b[32m52\u001b[39m df_accent = \u001b[43mmeta\u001b[49m\u001b[43m.\u001b[49m\u001b[43mgroupby\u001b[49m\u001b[43m(\u001b[49m\u001b[33;43m\"\u001b[39;49m\u001b[33;43maccent_group\u001b[39;49m\u001b[33;43m\"\u001b[39;49m\u001b[43m)\u001b[49m\u001b[43m.\u001b[49m\u001b[43mapply\u001b[49m\u001b[43m(\u001b[49m\n\u001b[32m     53\u001b[39m \u001b[43m    \u001b[49m\u001b[38;5;28;43;01mlambda\u001b[39;49;00m\u001b[43m \u001b[49m\u001b[43mg\u001b[49m\u001b[43m:\u001b[49m\u001b[43m \u001b[49m\u001b[43mpd\u001b[49m\u001b[43m.\u001b[49m\u001b[43mSeries\u001b[49m\u001b[43m(\u001b[49m\u001b[43m{\u001b[49m\n\u001b[32m     54\u001b[39m \u001b[43m        \u001b[49m\u001b[33;43m\"\u001b[39;49m\u001b[33;43mitems\u001b[39;49m\u001b[33;43m\"\u001b[39;49m\u001b[43m:\u001b[49m\u001b[43m \u001b[49m\u001b[38;5;28;43mlen\u001b[39;49m\u001b[43m(\u001b[49m\u001b[43mg\u001b[49m\u001b[43m)\u001b[49m\u001b[43m,\u001b[49m\n\u001b[32m     55\u001b[39m \u001b[43m        \u001b[49m\u001b[33;43m\"\u001b[39;49m\u001b[33;43mWhisper_WER\u001b[39;49m\u001b[33;43m\"\u001b[39;49m\u001b[43m:\u001b[49m\u001b[43m \u001b[49m\u001b[43mwer\u001b[49m\u001b[43m(\u001b[49m\u001b[43mg\u001b[49m\u001b[43m[\u001b[49m\u001b[33;43m\"\u001b[39;49m\u001b[33;43mref\u001b[39;49m\u001b[33;43m\"\u001b[39;49m\u001b[43m]\u001b[49m\u001b[43m.\u001b[49m\u001b[43mtolist\u001b[49m\u001b[43m(\u001b[49m\u001b[43m)\u001b[49m\u001b[43m,\u001b[49m\u001b[43m \u001b[49m\u001b[43mg\u001b[49m\u001b[43m[\u001b[49m\u001b[33;43m\"\u001b[39;49m\u001b[33;43mhyp_whisper\u001b[39;49m\u001b[33;43m\"\u001b[39;49m\u001b[43m]\u001b[49m\u001b[43m.\u001b[49m\u001b[43mtolist\u001b[49m\u001b[43m(\u001b[49m\u001b[43m)\u001b[49m\u001b[43m)\u001b[49m\u001b[43m \u001b[49m\u001b[43m*\u001b[49m\u001b[43m \u001b[49m\u001b[32;43m100\u001b[39;49m\u001b[43m,\u001b[49m\n\u001b[32m     56\u001b[39m \u001b[43m        \u001b[49m\u001b[33;43m\"\u001b[39;49m\u001b[33;43mWav2Vec2_WER\u001b[39;49m\u001b[33;43m\"\u001b[39;49m\u001b[43m:\u001b[49m\u001b[43m \u001b[49m\u001b[43mwer\u001b[49m\u001b[43m(\u001b[49m\u001b[43mg\u001b[49m\u001b[43m[\u001b[49m\u001b[33;43m\"\u001b[39;49m\u001b[33;43mref\u001b[39;49m\u001b[33;43m\"\u001b[39;49m\u001b[43m]\u001b[49m\u001b[43m.\u001b[49m\u001b[43mtolist\u001b[49m\u001b[43m(\u001b[49m\u001b[43m)\u001b[49m\u001b[43m,\u001b[49m\u001b[43m \u001b[49m\u001b[43mg\u001b[49m\u001b[43m[\u001b[49m\u001b[33;43m\"\u001b[39;49m\u001b[33;43mhyp_w2v\u001b[39;49m\u001b[33;43m\"\u001b[39;49m\u001b[43m]\u001b[49m\u001b[43m.\u001b[49m\u001b[43mtolist\u001b[49m\u001b[43m(\u001b[49m\u001b[43m)\u001b[49m\u001b[43m)\u001b[49m\u001b[43m \u001b[49m\u001b[43m*\u001b[49m\u001b[43m \u001b[49m\u001b[32;43m100\u001b[39;49m\u001b[43m,\u001b[49m\n\u001b[32m     57\u001b[39m \u001b[43m        \u001b[49m\u001b[33;43m\"\u001b[39;49m\u001b[33;43mWhisper_CER\u001b[39;49m\u001b[33;43m\"\u001b[39;49m\u001b[43m:\u001b[49m\u001b[43m \u001b[49m\u001b[43mcer\u001b[49m\u001b[43m(\u001b[49m\u001b[43mg\u001b[49m\u001b[43m[\u001b[49m\u001b[33;43m\"\u001b[39;49m\u001b[33;43mref\u001b[39;49m\u001b[33;43m\"\u001b[39;49m\u001b[43m]\u001b[49m\u001b[43m.\u001b[49m\u001b[43mtolist\u001b[49m\u001b[43m(\u001b[49m\u001b[43m)\u001b[49m\u001b[43m,\u001b[49m\u001b[43m \u001b[49m\u001b[43mg\u001b[49m\u001b[43m[\u001b[49m\u001b[33;43m\"\u001b[39;49m\u001b[33;43mhyp_whisper\u001b[39;49m\u001b[33;43m\"\u001b[39;49m\u001b[43m]\u001b[49m\u001b[43m.\u001b[49m\u001b[43mtolist\u001b[49m\u001b[43m(\u001b[49m\u001b[43m)\u001b[49m\u001b[43m)\u001b[49m\u001b[43m \u001b[49m\u001b[43m*\u001b[49m\u001b[43m \u001b[49m\u001b[32;43m100\u001b[39;49m\u001b[43m,\u001b[49m\n\u001b[32m     58\u001b[39m \u001b[43m        \u001b[49m\u001b[33;43m\"\u001b[39;49m\u001b[33;43mWav2Vec2_CER\u001b[39;49m\u001b[33;43m\"\u001b[39;49m\u001b[43m:\u001b[49m\u001b[43m \u001b[49m\u001b[43mcer\u001b[49m\u001b[43m(\u001b[49m\u001b[43mg\u001b[49m\u001b[43m[\u001b[49m\u001b[33;43m\"\u001b[39;49m\u001b[33;43mref\u001b[39;49m\u001b[33;43m\"\u001b[39;49m\u001b[43m]\u001b[49m\u001b[43m.\u001b[49m\u001b[43mtolist\u001b[49m\u001b[43m(\u001b[49m\u001b[43m)\u001b[49m\u001b[43m,\u001b[49m\u001b[43m \u001b[49m\u001b[43mg\u001b[49m\u001b[43m[\u001b[49m\u001b[33;43m\"\u001b[39;49m\u001b[33;43mhyp_w2v\u001b[39;49m\u001b[33;43m\"\u001b[39;49m\u001b[43m]\u001b[49m\u001b[43m.\u001b[49m\u001b[43mtolist\u001b[49m\u001b[43m(\u001b[49m\u001b[43m)\u001b[49m\u001b[43m)\u001b[49m\u001b[43m \u001b[49m\u001b[43m*\u001b[49m\u001b[43m \u001b[49m\u001b[32;43m100\u001b[39;49m\u001b[43m,\u001b[49m\n\u001b[32m     59\u001b[39m \u001b[43m    \u001b[49m\u001b[43m}\u001b[49m\u001b[43m)\u001b[49m\n\u001b[32m     60\u001b[39m \u001b[43m\u001b[49m\u001b[43m)\u001b[49m.reset_index()\n\u001b[32m     62\u001b[39m \u001b[38;5;66;03m# Sort bars nicely (largest WER first, for example)\u001b[39;00m\n\u001b[32m     63\u001b[39m df_accent = df_accent.sort_values(\u001b[33m\"\u001b[39m\u001b[33mWav2Vec2_WER\u001b[39m\u001b[33m\"\u001b[39m, ascending=\u001b[38;5;28;01mFalse\u001b[39;00m)\n",
      "\u001b[36mFile \u001b[39m\u001b[32m~/.local/share/mamba/envs/audio/lib/python3.12/site-packages/pandas/core/groupby/groupby.py:1825\u001b[39m, in \u001b[36mGroupBy.apply\u001b[39m\u001b[34m(self, func, include_groups, *args, **kwargs)\u001b[39m\n\u001b[32m   1823\u001b[39m \u001b[38;5;28;01mwith\u001b[39;00m option_context(\u001b[33m\"\u001b[39m\u001b[33mmode.chained_assignment\u001b[39m\u001b[33m\"\u001b[39m, \u001b[38;5;28;01mNone\u001b[39;00m):\n\u001b[32m   1824\u001b[39m     \u001b[38;5;28;01mtry\u001b[39;00m:\n\u001b[32m-> \u001b[39m\u001b[32m1825\u001b[39m         result = \u001b[38;5;28;43mself\u001b[39;49m\u001b[43m.\u001b[49m\u001b[43m_python_apply_general\u001b[49m\u001b[43m(\u001b[49m\u001b[43mf\u001b[49m\u001b[43m,\u001b[49m\u001b[43m \u001b[49m\u001b[38;5;28;43mself\u001b[39;49m\u001b[43m.\u001b[49m\u001b[43m_selected_obj\u001b[49m\u001b[43m)\u001b[49m\n\u001b[32m   1826\u001b[39m         \u001b[38;5;28;01mif\u001b[39;00m (\n\u001b[32m   1827\u001b[39m             \u001b[38;5;129;01mnot\u001b[39;00m \u001b[38;5;28misinstance\u001b[39m(\u001b[38;5;28mself\u001b[39m.obj, Series)\n\u001b[32m   1828\u001b[39m             \u001b[38;5;129;01mand\u001b[39;00m \u001b[38;5;28mself\u001b[39m._selection \u001b[38;5;129;01mis\u001b[39;00m \u001b[38;5;28;01mNone\u001b[39;00m\n\u001b[32m   1829\u001b[39m             \u001b[38;5;129;01mand\u001b[39;00m \u001b[38;5;28mself\u001b[39m._selected_obj.shape != \u001b[38;5;28mself\u001b[39m._obj_with_exclusions.shape\n\u001b[32m   1830\u001b[39m         ):\n\u001b[32m   1831\u001b[39m             warnings.warn(\n\u001b[32m   1832\u001b[39m                 message=_apply_groupings_depr.format(\n\u001b[32m   1833\u001b[39m                     \u001b[38;5;28mtype\u001b[39m(\u001b[38;5;28mself\u001b[39m).\u001b[34m__name__\u001b[39m, \u001b[33m\"\u001b[39m\u001b[33mapply\u001b[39m\u001b[33m\"\u001b[39m\n\u001b[32m   (...)\u001b[39m\u001b[32m   1836\u001b[39m                 stacklevel=find_stack_level(),\n\u001b[32m   1837\u001b[39m             )\n",
      "\u001b[36mFile \u001b[39m\u001b[32m~/.local/share/mamba/envs/audio/lib/python3.12/site-packages/pandas/core/groupby/groupby.py:1886\u001b[39m, in \u001b[36mGroupBy._python_apply_general\u001b[39m\u001b[34m(self, f, data, not_indexed_same, is_transform, is_agg)\u001b[39m\n\u001b[32m   1851\u001b[39m \u001b[38;5;129m@final\u001b[39m\n\u001b[32m   1852\u001b[39m \u001b[38;5;28;01mdef\u001b[39;00m\u001b[38;5;250m \u001b[39m\u001b[34m_python_apply_general\u001b[39m(\n\u001b[32m   1853\u001b[39m     \u001b[38;5;28mself\u001b[39m,\n\u001b[32m   (...)\u001b[39m\u001b[32m   1858\u001b[39m     is_agg: \u001b[38;5;28mbool\u001b[39m = \u001b[38;5;28;01mFalse\u001b[39;00m,\n\u001b[32m   1859\u001b[39m ) -> NDFrameT:\n\u001b[32m   1860\u001b[39m \u001b[38;5;250m    \u001b[39m\u001b[33;03m\"\"\"\u001b[39;00m\n\u001b[32m   1861\u001b[39m \u001b[33;03m    Apply function f in python space\u001b[39;00m\n\u001b[32m   1862\u001b[39m \n\u001b[32m   (...)\u001b[39m\u001b[32m   1884\u001b[39m \u001b[33;03m        data after applying f\u001b[39;00m\n\u001b[32m   1885\u001b[39m \u001b[33;03m    \"\"\"\u001b[39;00m\n\u001b[32m-> \u001b[39m\u001b[32m1886\u001b[39m     values, mutated = \u001b[38;5;28;43mself\u001b[39;49m\u001b[43m.\u001b[49m\u001b[43m_grouper\u001b[49m\u001b[43m.\u001b[49m\u001b[43mapply_groupwise\u001b[49m\u001b[43m(\u001b[49m\u001b[43mf\u001b[49m\u001b[43m,\u001b[49m\u001b[43m \u001b[49m\u001b[43mdata\u001b[49m\u001b[43m,\u001b[49m\u001b[43m \u001b[49m\u001b[38;5;28;43mself\u001b[39;49m\u001b[43m.\u001b[49m\u001b[43maxis\u001b[49m\u001b[43m)\u001b[49m\n\u001b[32m   1887\u001b[39m     \u001b[38;5;28;01mif\u001b[39;00m not_indexed_same \u001b[38;5;129;01mis\u001b[39;00m \u001b[38;5;28;01mNone\u001b[39;00m:\n\u001b[32m   1888\u001b[39m         not_indexed_same = mutated\n",
      "\u001b[36mFile \u001b[39m\u001b[32m~/.local/share/mamba/envs/audio/lib/python3.12/site-packages/pandas/core/groupby/ops.py:919\u001b[39m, in \u001b[36mBaseGrouper.apply_groupwise\u001b[39m\u001b[34m(self, f, data, axis)\u001b[39m\n\u001b[32m    917\u001b[39m \u001b[38;5;66;03m# group might be modified\u001b[39;00m\n\u001b[32m    918\u001b[39m group_axes = group.axes\n\u001b[32m--> \u001b[39m\u001b[32m919\u001b[39m res = \u001b[43mf\u001b[49m\u001b[43m(\u001b[49m\u001b[43mgroup\u001b[49m\u001b[43m)\u001b[49m\n\u001b[32m    920\u001b[39m \u001b[38;5;28;01mif\u001b[39;00m \u001b[38;5;129;01mnot\u001b[39;00m mutated \u001b[38;5;129;01mand\u001b[39;00m \u001b[38;5;129;01mnot\u001b[39;00m _is_indexed_like(res, group_axes, axis):\n\u001b[32m    921\u001b[39m     mutated = \u001b[38;5;28;01mTrue\u001b[39;00m\n",
      "\u001b[36mCell\u001b[39m\u001b[36m \u001b[39m\u001b[32mIn[27]\u001b[39m\u001b[32m, line 55\u001b[39m, in \u001b[36m<lambda>\u001b[39m\u001b[34m(g)\u001b[39m\n\u001b[32m     44\u001b[39m meta[\u001b[33m\"\u001b[39m\u001b[33maccent_group\u001b[39m\u001b[33m\"\u001b[39m] = np.where(\n\u001b[32m     45\u001b[39m     meta[\u001b[33m\"\u001b[39m\u001b[33maccent_clean\u001b[39m\u001b[33m\"\u001b[39m].isin(kept), meta[\u001b[33m\"\u001b[39m\u001b[33maccent_clean\u001b[39m\u001b[33m\"\u001b[39m], \u001b[33m\"\u001b[39m\u001b[33mother\u001b[39m\u001b[33m\"\u001b[39m\n\u001b[32m     46\u001b[39m )\n\u001b[32m     48\u001b[39m \u001b[38;5;66;03m# If you prefer to drop \"other\", uncomment:\u001b[39;00m\n\u001b[32m     49\u001b[39m \u001b[38;5;66;03m# meta = meta[meta[\"accent_group\"] != \"other\"].copy()\u001b[39;00m\n\u001b[32m     50\u001b[39m \n\u001b[32m     51\u001b[39m \u001b[38;5;66;03m# ---- Step D: compute WER/CER per accent ----\u001b[39;00m\n\u001b[32m     52\u001b[39m df_accent = meta.groupby(\u001b[33m\"\u001b[39m\u001b[33maccent_group\u001b[39m\u001b[33m\"\u001b[39m).apply(\n\u001b[32m     53\u001b[39m     \u001b[38;5;28;01mlambda\u001b[39;00m g: pd.Series({\n\u001b[32m     54\u001b[39m         \u001b[33m\"\u001b[39m\u001b[33mitems\u001b[39m\u001b[33m\"\u001b[39m: \u001b[38;5;28mlen\u001b[39m(g),\n\u001b[32m---> \u001b[39m\u001b[32m55\u001b[39m         \u001b[33m\"\u001b[39m\u001b[33mWhisper_WER\u001b[39m\u001b[33m\"\u001b[39m: wer(\u001b[43mg\u001b[49m\u001b[43m[\u001b[49m\u001b[33;43m\"\u001b[39;49m\u001b[33;43mref\u001b[39;49m\u001b[33;43m\"\u001b[39;49m\u001b[43m]\u001b[49m.tolist(), g[\u001b[33m\"\u001b[39m\u001b[33mhyp_whisper\u001b[39m\u001b[33m\"\u001b[39m].tolist()) * \u001b[32m100\u001b[39m,\n\u001b[32m     56\u001b[39m         \u001b[33m\"\u001b[39m\u001b[33mWav2Vec2_WER\u001b[39m\u001b[33m\"\u001b[39m: wer(g[\u001b[33m\"\u001b[39m\u001b[33mref\u001b[39m\u001b[33m\"\u001b[39m].tolist(), g[\u001b[33m\"\u001b[39m\u001b[33mhyp_w2v\u001b[39m\u001b[33m\"\u001b[39m].tolist()) * \u001b[32m100\u001b[39m,\n\u001b[32m     57\u001b[39m         \u001b[33m\"\u001b[39m\u001b[33mWhisper_CER\u001b[39m\u001b[33m\"\u001b[39m: cer(g[\u001b[33m\"\u001b[39m\u001b[33mref\u001b[39m\u001b[33m\"\u001b[39m].tolist(), g[\u001b[33m\"\u001b[39m\u001b[33mhyp_whisper\u001b[39m\u001b[33m\"\u001b[39m].tolist()) * \u001b[32m100\u001b[39m,\n\u001b[32m     58\u001b[39m         \u001b[33m\"\u001b[39m\u001b[33mWav2Vec2_CER\u001b[39m\u001b[33m\"\u001b[39m: cer(g[\u001b[33m\"\u001b[39m\u001b[33mref\u001b[39m\u001b[33m\"\u001b[39m].tolist(), g[\u001b[33m\"\u001b[39m\u001b[33mhyp_w2v\u001b[39m\u001b[33m\"\u001b[39m].tolist()) * \u001b[32m100\u001b[39m,\n\u001b[32m     59\u001b[39m     })\n\u001b[32m     60\u001b[39m ).reset_index()\n\u001b[32m     62\u001b[39m \u001b[38;5;66;03m# Sort bars nicely (largest WER first, for example)\u001b[39;00m\n\u001b[32m     63\u001b[39m df_accent = df_accent.sort_values(\u001b[33m\"\u001b[39m\u001b[33mWav2Vec2_WER\u001b[39m\u001b[33m\"\u001b[39m, ascending=\u001b[38;5;28;01mFalse\u001b[39;00m)\n",
      "\u001b[36mFile \u001b[39m\u001b[32m~/.local/share/mamba/envs/audio/lib/python3.12/site-packages/pandas/core/frame.py:4107\u001b[39m, in \u001b[36mDataFrame.__getitem__\u001b[39m\u001b[34m(self, key)\u001b[39m\n\u001b[32m   4105\u001b[39m \u001b[38;5;28;01mif\u001b[39;00m \u001b[38;5;28mself\u001b[39m.columns.nlevels > \u001b[32m1\u001b[39m:\n\u001b[32m   4106\u001b[39m     \u001b[38;5;28;01mreturn\u001b[39;00m \u001b[38;5;28mself\u001b[39m._getitem_multilevel(key)\n\u001b[32m-> \u001b[39m\u001b[32m4107\u001b[39m indexer = \u001b[38;5;28;43mself\u001b[39;49m\u001b[43m.\u001b[49m\u001b[43mcolumns\u001b[49m\u001b[43m.\u001b[49m\u001b[43mget_loc\u001b[49m\u001b[43m(\u001b[49m\u001b[43mkey\u001b[49m\u001b[43m)\u001b[49m\n\u001b[32m   4108\u001b[39m \u001b[38;5;28;01mif\u001b[39;00m is_integer(indexer):\n\u001b[32m   4109\u001b[39m     indexer = [indexer]\n",
      "\u001b[36mFile \u001b[39m\u001b[32m~/.local/share/mamba/envs/audio/lib/python3.12/site-packages/pandas/core/indexes/base.py:3819\u001b[39m, in \u001b[36mIndex.get_loc\u001b[39m\u001b[34m(self, key)\u001b[39m\n\u001b[32m   3814\u001b[39m     \u001b[38;5;28;01mif\u001b[39;00m \u001b[38;5;28misinstance\u001b[39m(casted_key, \u001b[38;5;28mslice\u001b[39m) \u001b[38;5;129;01mor\u001b[39;00m (\n\u001b[32m   3815\u001b[39m         \u001b[38;5;28misinstance\u001b[39m(casted_key, abc.Iterable)\n\u001b[32m   3816\u001b[39m         \u001b[38;5;129;01mand\u001b[39;00m \u001b[38;5;28many\u001b[39m(\u001b[38;5;28misinstance\u001b[39m(x, \u001b[38;5;28mslice\u001b[39m) \u001b[38;5;28;01mfor\u001b[39;00m x \u001b[38;5;129;01min\u001b[39;00m casted_key)\n\u001b[32m   3817\u001b[39m     ):\n\u001b[32m   3818\u001b[39m         \u001b[38;5;28;01mraise\u001b[39;00m InvalidIndexError(key)\n\u001b[32m-> \u001b[39m\u001b[32m3819\u001b[39m     \u001b[38;5;28;01mraise\u001b[39;00m \u001b[38;5;167;01mKeyError\u001b[39;00m(key) \u001b[38;5;28;01mfrom\u001b[39;00m\u001b[38;5;250m \u001b[39m\u001b[34;01merr\u001b[39;00m\n\u001b[32m   3820\u001b[39m \u001b[38;5;28;01mexcept\u001b[39;00m \u001b[38;5;167;01mTypeError\u001b[39;00m:\n\u001b[32m   3821\u001b[39m     \u001b[38;5;66;03m# If we have a listlike key, _check_indexing_error will raise\u001b[39;00m\n\u001b[32m   3822\u001b[39m     \u001b[38;5;66;03m#  InvalidIndexError. Otherwise we fall through and re-raise\u001b[39;00m\n\u001b[32m   3823\u001b[39m     \u001b[38;5;66;03m#  the TypeError.\u001b[39;00m\n\u001b[32m   3824\u001b[39m     \u001b[38;5;28mself\u001b[39m._check_indexing_error(key)\n",
      "\u001b[31mKeyError\u001b[39m: 'ref'"
     ]
    }
   ],
   "source": [
    "from jiwer import wer, cer\n",
    "import pandas as pd\n",
    "import numpy as np\n",
    "import matplotlib.pyplot as plt\n",
    "import os\n",
    "\n",
    "# ---- Step A: find an accent column if it exists ----\n",
    "ACCENT_CANDIDATES = [\n",
    "    \"accent\", \"accents\", \"speaker_accent\", \"accent_en\", \"accent_clean\"\n",
    "]\n",
    "accent_col = next((c for c in ACCENT_CANDIDATES if c in meta.columns), None)\n",
    "\n",
    "if accent_col is None:\n",
    "    print(\"⚠️  No accent-like column found in this dataset. Available columns:\\n\", meta.columns.tolist())\n",
    "else:\n",
    "    print(f\"✅ Using accent column: {accent_col}\")\n",
    "\n",
    "    # ---- Step B: basic cleaning / normalization ----\n",
    "    meta[\"accent_raw\"] = meta[accent_col].astype(str)\n",
    "    meta[\"accent_clean\"] = (\n",
    "        meta[\"accent_raw\"]\n",
    "        .str.strip()\n",
    "        .str.lower()\n",
    "        .replace({\"nan\": \"\", \"none\": \"\"})            # if read as string \"nan\"\n",
    "        .replace(r\"^\\s*$\", np.nan, regex=True)       # empty -> NaN\n",
    "    )\n",
    "\n",
    "\n",
    "    # ---- Step C: keeping accents with enough samples ----\n",
    "    counts = meta[\"accent_clean\"].value_counts(dropna=True)\n",
    "    print(\"Top accents by count:\\n\", counts.head(20))\n",
    "\n",
    "    MIN_SAMPLES = 80   # adjust for your slice size\n",
    "    kept = counts[counts >= MIN_SAMPLES].index\n",
    "\n",
    "    if len(kept) == 0:\n",
    "        print(f\"⚠️  No accent has ≥{MIN_SAMPLES} samples. Lower MIN_SAMPLES or use a bigger slice.\")\n",
    "    else:\n",
    "        meta[\"accent_group\"] = np.where(\n",
    "            meta[\"accent_clean\"].isin(kept), meta[\"accent_clean\"], \"other\"\n",
    "        )\n",
    "\n",
    "        # meta = meta[meta[\"accent_group\"] != \"other\"].copy()\n",
    "\n",
    "        # ---- Step D: compute WER/CER per accent ----\n",
    "        df_accent = meta.groupby(\"accent_group\").apply(\n",
    "            lambda g: pd.Series({\n",
    "                \"items\": len(g),\n",
    "                \"Whisper_WER\": wer(g[\"ref\"].tolist(), g[\"hyp_whisper\"].tolist()) * 100,\n",
    "                \"Wav2Vec2_WER\": wer(g[\"ref\"].tolist(), g[\"hyp_w2v\"].tolist()) * 100,\n",
    "                \"Whisper_CER\": cer(g[\"ref\"].tolist(), g[\"hyp_whisper\"].tolist()) * 100,\n",
    "                \"Wav2Vec2_CER\": cer(g[\"ref\"].tolist(), g[\"hyp_w2v\"].tolist()) * 100,\n",
    "            })\n",
    "        ).reset_index()\n",
    "\n",
    "        # Sort bars nicely (largest WER first, for example)\n",
    "        df_accent = df_accent.sort_values(\"Wav2Vec2_WER\", ascending=False)\n",
    "        display(df_accent)\n",
    "\n",
    "        # ---- Step E: plot ----\n",
    "        fig, ax = plt.subplots(1, 2, figsize=(12, 5), sharey=True)\n",
    "\n",
    "        df_accent.plot.bar(\n",
    "            x=\"accent_group\", y=\"Whisper_WER\", ax=ax[0],\n",
    "            color=\"#1f77b4\", alpha=0.85\n",
    "        )\n",
    "        ax[0].set_title(\"Whisper WER by accent\")\n",
    "        ax[0].set_ylabel(\"WER (%)\")\n",
    "        ax[0].set_xlabel(\"Accent\")\n",
    "\n",
    "        df_accent.plot.bar(\n",
    "            x=\"accent_group\", y=\"Wav2Vec2_WER\", ax=ax[1],\n",
    "            color=\"#ff7f0e\", alpha=0.85\n",
    "        )\n",
    "        ax[1].set_title(\"Wav2Vec2 WER by accent\")\n",
    "        ax[1].set_xlabel(\"Accent\")\n",
    "\n",
    "        plt.suptitle(\"Fairness: Accent subsets\")\n",
    "        plt.tight_layout()\n",
    "\n",
    "        os.makedirs(\"runs\", exist_ok=True)\n",
    "        plt.savefig(\"runs/fairness_accent_wer.png\", dpi=150)\n",
    "        df_accent.to_csv(\"runs/fairness_accent_summary.csv\", index=False)\n",
    "        plt.show()\n",
    "        print(\"✅ Saved: runs/fairness_accent_wer.png and runs/fairness_accent_summary.csv\")"
   ]
  },
  {
   "cell_type": "code",
   "execution_count": 29,
   "id": "83c40a56-c083-472b-9d4f-2a8d7efbd988",
   "metadata": {},
   "outputs": [],
   "source": [
    "import numpy as np\n",
    "import pandas as pd\n",
    "\n",
    "# sample must have columns: 'ref', 'hyp_whisper', 'hyp_w2v', and some accent column\n",
    "ACCENT_COL = None\n",
    "for c in ['accent_group', 'accents', 'accent_clean', 'accent']:\n",
    "    if c in sample.columns:\n",
    "        ACCENT_COL = c\n",
    "        break\n",
    "assert ACCENT_COL is not None, \"No accent column found in sample!\"\n",
    "\n",
    "# Clean it up\n",
    "sample['accent_group'] = (\n",
    "    sample[ACCENT_COL]\n",
    "    .fillna('unknown')\n",
    "    .astype(str)\n",
    "    .str.strip()\n",
    "    .str.lower()\n",
    ")\n",
    "\n",
    "# (optional) Collapse very rare accents to 'other' so bars are stable\n",
    "topN = 20\n",
    "top_accents = (\n",
    "    sample['accent_group'].value_counts()\n",
    "    .head(topN)\n",
    "    .index\n",
    ")\n",
    "sample.loc[~sample['accent_group'].isin(top_accents), 'accent_group'] = 'other'"
   ]
  },
  {
   "cell_type": "code",
   "execution_count": 31,
   "id": "f6b42d34-4a8c-4f30-8f71-7bac86358975",
   "metadata": {},
   "outputs": [
    {
     "name": "stdout",
     "output_type": "stream",
     "text": [
      "✅ Using accent column: accents\n"
     ]
    }
   ],
   "source": [
    "# this MUST be the same frame you used when you generated hyp_whisper / hyp_w2v\n",
    "df_eval = sample.copy()  # <- not the full meta; use your evaluated subset\n",
    "\n",
    "# normalize reference text into a column used by WER/CER\n",
    "def normalize_text(s: str) -> str:\n",
    "    import re\n",
    "    s = s.lower().strip()\n",
    "    s = re.sub(r\"[^a-z' ]\", \" \", s)   # keep letters + spaces + apostrophes\n",
    "    s = re.sub(r\"\\s+\", \" \", s).strip()\n",
    "    return s\n",
    "\n",
    "df_eval[\"ref\"] = df_eval[\"sentence\"].astype(str).map(normalize_text)\n",
    "\n",
    "# picking accent column present in your data\n",
    "accent_col = \"accents\" if \"accents\" in df_eval.columns else \"accent_clean\"\n",
    "print(f\"✅ Using accent column: {accent_col}\")"
   ]
  },
  {
   "cell_type": "code",
   "execution_count": 32,
   "id": "a97582dc-b28a-4112-a8cc-bdca39cc108e",
   "metadata": {},
   "outputs": [
    {
     "name": "stdout",
     "output_type": "stream",
     "text": [
      "Top accents by count:\n",
      " accents\n",
      "unknown                                                 2348\n",
      "United States English                                   1230\n",
      "England English                                          414\n",
      "India and South Asia (India, Pakistan, Sri Lanka)        301\n",
      "Canadian English                                         176\n",
      "Australian English                                       157\n",
      "German English,Non native speaker                        140\n",
      "Scottish English                                          47\n",
      "Irish English                                             32\n",
      "Southern African (South Africa, Zimbabwe, Namibia)        26\n",
      "Northern Irish                                            23\n",
      "New Zealand English                                       22\n",
      "Filipino                                                  17\n",
      "Hong Kong English                                         10\n",
      "Malaysian English                                          9\n",
      "Liverpool English,Lancashire English,England English       9\n",
      "Singaporean English                                        5\n",
      "Welsh English                                              5\n",
      "England English,New Zealand English                        4\n",
      "New Zealand English,England English                        2\n",
      "Name: count, dtype: int64\n"
     ]
    }
   ],
   "source": [
    "top_accents = (\n",
    "    df_eval[accent_col].fillna(\"unknown\").value_counts().head(20).index.tolist()\n",
    ")\n",
    "print(\"Top accents by count:\\n\", df_eval[accent_col].fillna(\"unknown\").value_counts().head(20))\n",
    "\n",
    "# creating a grouped label with \"Other\" for less frequent accents\n",
    "df_eval[\"accent_group\"] = np.where(\n",
    "    df_eval[accent_col].isin(top_accents),\n",
    "    df_eval[accent_col],\n",
    "    \"other\"\n",
    ")"
   ]
  },
  {
   "cell_type": "code",
   "execution_count": 36,
   "id": "08a3b3d7-4f67-4684-9e49-49d44bbb099a",
   "metadata": {},
   "outputs": [
    {
     "name": "stdout",
     "output_type": "stream",
     "text": [
      "len(sample) = 5000\n",
      "Columns in sample: ['client_id', 'path', 'sentence', 'up_votes', 'down_votes', 'age', 'gender', 'accents', 'locale', 'segment', 'audio_path', 'accent_group']\n"
     ]
    }
   ],
   "source": [
    "print(\"len(sample) =\", len(sample))\n",
    "print(\"Columns in sample:\", list(sample.columns))"
   ]
  },
  {
   "cell_type": "code",
   "execution_count": 37,
   "id": "38a38a32-c880-4296-988d-4e9d12ab5625",
   "metadata": {},
   "outputs": [
    {
     "name": "stdout",
     "output_type": "stream",
     "text": [
      "Eval items: 64\n"
     ]
    }
   ],
   "source": [
    "EVAL_N = 64  # keep this small while iterating\n",
    "df_eval = sample.head(EVAL_N).reset_index(drop=True)\n",
    "paths_eval = df_eval[\"audio_path\"].tolist()\n",
    "print(\"Eval items:\", len(paths_eval))"
   ]
  },
  {
   "cell_type": "code",
   "execution_count": 38,
   "id": "6ee3f2b6-742f-422e-92b0-506ceff92563",
   "metadata": {},
   "outputs": [],
   "source": [
    "import os, json\n",
    "\n",
    "os.makedirs(\"cache\", exist_ok=True)\n",
    "WHISP_CACHE = \"cache/whisper_medium.json\"\n",
    "W2V_CACHE   = \"cache/wav2vec2_large.json\"\n",
    "\n",
    "def _load_cache(path):\n",
    "    if os.path.exists(path):\n",
    "        with open(path, \"r\") as f:\n",
    "            return json.load(f)\n",
    "    return {}\n",
    "\n",
    "def _save_cache(path, data):\n",
    "    tmp = path + \".tmp\"\n",
    "    with open(tmp, \"w\") as f:\n",
    "        json.dump(data, f, ensure_ascii=False)\n",
    "    os.replace(tmp, path)\n",
    "\n",
    "whisp_cache = _load_cache(WHISP_CACHE)   # {audio_path: text}\n",
    "w2v_cache   = _load_cache(W2V_CACHE)"
   ]
  },
  {
   "cell_type": "code",
   "execution_count": 39,
   "id": "63038372-6c63-4413-b6ac-453f8984f2cb",
   "metadata": {},
   "outputs": [
    {
     "name": "stderr",
     "output_type": "stream",
     "text": [
      "Some weights of Wav2Vec2ForCTC were not initialized from the model checkpoint at facebook/wav2vec2-large-960h-lv60-self and are newly initialized: ['wav2vec2.masked_spec_embed']\n",
      "You should probably TRAIN this model on a down-stream task to be able to use it for predictions and inference.\n"
     ]
    }
   ],
   "source": [
    "import torch, torchaudio, numpy as np\n",
    "from torch.nn.utils.rnn import pad_sequence\n",
    "from transformers import Wav2Vec2Processor, Wav2Vec2ForCTC\n",
    "\n",
    "DEVICE = \"cuda\" if torch.cuda.is_available() else \"cpu\"\n",
    "\n",
    "def load_w2v():\n",
    "    model_id = \"facebook/wav2vec2-large-960h-lv60-self\"\n",
    "    proc = Wav2Vec2Processor.from_pretrained(model_id)\n",
    "    mdl  = Wav2Vec2ForCTC.from_pretrained(model_id).to(DEVICE).eval()\n",
    "    return proc, mdl\n",
    "\n",
    "w2v_proc, w2v_model = load_w2v()\n",
    "\n",
    "def _load_wave_16k(path):\n",
    "    wav, sr = torchaudio.load(path)\n",
    "    if sr != 16000:\n",
    "        wav = torchaudio.functional.resample(wav, sr, 16000)\n",
    "    # mono\n",
    "    if wav.shape[0] > 1:\n",
    "        wav = wav.mean(dim=0, keepdim=True)\n",
    "    return wav.squeeze(0)  # [T]\n",
    "\n",
    "def transcribe_w2v_missing(paths, batch_size=16):\n",
    "    new = {}\n",
    "    todo = [p for p in paths if p not in w2v_cache]\n",
    "    if not todo:\n",
    "        return new\n",
    "\n",
    "    print(f\"[W2V] transcribing {len(todo)} missing items...\")\n",
    "    for i in range(0, len(todo), batch_size):\n",
    "        batch = todo[i:i+batch_size]\n",
    "        waves = [ _load_wave_16k(p) for p in batch ]\n",
    "        lens  = [ w.numel() for w in waves ]\n",
    "        padded = pad_sequence(waves, batch_first=True)\n",
    "        inputs = w2v_proc(padded, sampling_rate=16000, return_tensors=\"pt\", padding=True).to(DEVICE)\n",
    "\n",
    "        with torch.inference_mode():\n",
    "            logits = w2v_model(**inputs).logits\n",
    "            pred_ids = torch.argmax(logits, dim=-1)\n",
    "            texts = w2v_proc.batch_decode(pred_ids, skip_special_tokens=True)\n",
    "\n",
    "        # normalize & store\n",
    "        texts = [t.lower().strip() for t in texts]\n",
    "        for p,t in zip(batch, texts):\n",
    "            w2v_cache[p] = t\n",
    "            new[p] = t\n",
    "\n",
    "        _save_cache(W2V_CACHE, w2v_cache)\n",
    "        print(f\"  [W2V] {i+len(batch)}/{len(todo)}\")\n",
    "    return new"
   ]
  },
  {
   "cell_type": "code",
   "execution_count": 40,
   "id": "ab76c87a-b6fa-4a6c-becb-4f64e05853ab",
   "metadata": {},
   "outputs": [
    {
     "name": "stderr",
     "output_type": "stream",
     "text": [
      "python(87680) MallocStackLogging: can't turn off malloc stack logging because it was not enabled.\n"
     ]
    },
    {
     "data": {
      "application/vnd.jupyter.widget-view+json": {
       "model_id": "d9a2467c35454cfd87900ed2ee1bbd1a",
       "version_major": 2,
       "version_minor": 0
      },
      "text/plain": [
       "preprocessor_config.json: 0.00B [00:00, ?B/s]"
      ]
     },
     "metadata": {},
     "output_type": "display_data"
    },
    {
     "data": {
      "application/vnd.jupyter.widget-view+json": {
       "model_id": "ce66616351664f1bbaea6fdd01d71b95",
       "version_major": 2,
       "version_minor": 0
      },
      "text/plain": [
       "tokenizer_config.json:   0%|          | 0.00/805 [00:00<?, ?B/s]"
      ]
     },
     "metadata": {},
     "output_type": "display_data"
    },
    {
     "data": {
      "application/vnd.jupyter.widget-view+json": {
       "model_id": "35d4aa71b74543efbea10e8d3efe9cd1",
       "version_major": 2,
       "version_minor": 0
      },
      "text/plain": [
       "vocab.json: 0.00B [00:00, ?B/s]"
      ]
     },
     "metadata": {},
     "output_type": "display_data"
    },
    {
     "data": {
      "application/vnd.jupyter.widget-view+json": {
       "model_id": "82818955296f46a5a7981cd970d98c3b",
       "version_major": 2,
       "version_minor": 0
      },
      "text/plain": [
       "tokenizer.json: 0.00B [00:00, ?B/s]"
      ]
     },
     "metadata": {},
     "output_type": "display_data"
    },
    {
     "data": {
      "application/vnd.jupyter.widget-view+json": {
       "model_id": "e7001cdca92e42ed803c36648773ec65",
       "version_major": 2,
       "version_minor": 0
      },
      "text/plain": [
       "merges.txt: 0.00B [00:00, ?B/s]"
      ]
     },
     "metadata": {},
     "output_type": "display_data"
    },
    {
     "data": {
      "application/vnd.jupyter.widget-view+json": {
       "model_id": "1cbee3b9531b46419f44f179edb401e4",
       "version_major": 2,
       "version_minor": 0
      },
      "text/plain": [
       "normalizer.json: 0.00B [00:00, ?B/s]"
      ]
     },
     "metadata": {},
     "output_type": "display_data"
    },
    {
     "data": {
      "application/vnd.jupyter.widget-view+json": {
       "model_id": "7fdfe46130d5425a905a124ad35ecc9f",
       "version_major": 2,
       "version_minor": 0
      },
      "text/plain": [
       "added_tokens.json: 0.00B [00:00, ?B/s]"
      ]
     },
     "metadata": {},
     "output_type": "display_data"
    },
    {
     "data": {
      "application/vnd.jupyter.widget-view+json": {
       "model_id": "82a63d447cd14379a334fa394176e2b3",
       "version_major": 2,
       "version_minor": 0
      },
      "text/plain": [
       "special_tokens_map.json: 0.00B [00:00, ?B/s]"
      ]
     },
     "metadata": {},
     "output_type": "display_data"
    },
    {
     "data": {
      "application/vnd.jupyter.widget-view+json": {
       "model_id": "e0f52b91554a43baa6daae921180e381",
       "version_major": 2,
       "version_minor": 0
      },
      "text/plain": [
       "config.json: 0.00B [00:00, ?B/s]"
      ]
     },
     "metadata": {},
     "output_type": "display_data"
    },
    {
     "data": {
      "application/vnd.jupyter.widget-view+json": {
       "model_id": "26591afde2d14a2e81a8c0aa8307ad88",
       "version_major": 2,
       "version_minor": 0
      },
      "text/plain": [
       "model.safetensors:   0%|          | 0.00/967M [00:00<?, ?B/s]"
      ]
     },
     "metadata": {},
     "output_type": "display_data"
    },
    {
     "data": {
      "application/vnd.jupyter.widget-view+json": {
       "model_id": "9ff24dcde7fc4996b16e87c173938da8",
       "version_major": 2,
       "version_minor": 0
      },
      "text/plain": [
       "generation_config.json: 0.00B [00:00, ?B/s]"
      ]
     },
     "metadata": {},
     "output_type": "display_data"
    }
   ],
   "source": [
    "from transformers import WhisperProcessor, WhisperForConditionalGeneration\n",
    "\n",
    "def load_whisper():\n",
    "    model_id = \"openai/whisper-small.en\"  # MUCH faster than \"medium\" on CPU\n",
    "    proc = WhisperProcessor.from_pretrained(model_id)\n",
    "    mdl  = WhisperForConditionalGeneration.from_pretrained(model_id).to(DEVICE).eval()\n",
    "    return proc, mdl\n",
    "\n",
    "whisp_proc, whisp_model = load_whisper()\n",
    "\n",
    "GEN_KW = dict(\n",
    "    task=\"transcribe\",\n",
    "    language=\"en\",\n",
    "    num_beams=1,\n",
    "    no_repeat_ngram_size=0,\n",
    "    temperature=0.0,\n",
    ")\n",
    "\n",
    "def transcribe_whisper_missing(paths):\n",
    "    new = {}\n",
    "    todo = [p for p in paths if p not in whisp_cache]\n",
    "    if not todo:\n",
    "        return new\n",
    "\n",
    "    print(f\"[Whisper] transcribing {len(todo)} missing items...\")\n",
    "    for i,p in enumerate(todo, 1):\n",
    "        # load + log-mel\n",
    "        wav, sr = torchaudio.load(p)\n",
    "        if sr != 16000:\n",
    "            wav = torchaudio.functional.resample(wav, sr, 16000)\n",
    "        if wav.shape[0] > 1:\n",
    "            wav = wav.mean(dim=0, keepdim=True)\n",
    "        features = whisp_proc(wav.squeeze(0).numpy(), sampling_rate=16000, return_tensors=\"pt\").to(DEVICE)\n",
    "\n",
    "        with torch.inference_mode():\n",
    "            ids = whisp_model.generate(features[\"input_features\"], **GEN_KW)\n",
    "            text = whisp_proc.batch_decode(ids, skip_special_tokens=True)[0]\n",
    "\n",
    "        text = text.lower().strip()\n",
    "        whisp_cache[p] = text\n",
    "        new[p] = text\n",
    "\n",
    "        if i % 5 == 0 or i == len(todo):\n",
    "            _save_cache(WHISP_CACHE, whisp_cache)\n",
    "        if i % 10 == 0 or i == len(todo):\n",
    "            print(f\"  [Whisper] {i}/{len(todo)}\")\n",
    "    return new"
   ]
  },
  {
   "cell_type": "code",
   "execution_count": 44,
   "id": "d206e116-2217-4853-98c2-2e972974f80b",
   "metadata": {},
   "outputs": [
    {
     "name": "stderr",
     "output_type": "stream",
     "text": [
      "Some weights of Wav2Vec2ForCTC were not initialized from the model checkpoint at facebook/wav2vec2-large-960h-lv60-self and are newly initialized: ['wav2vec2.masked_spec_embed']\n",
      "You should probably TRAIN this model on a down-stream task to be able to use it for predictions and inference.\n"
     ]
    }
   ],
   "source": [
    "# basics used by the helper\n",
    "import numpy as np, torch, librosa\n",
    "\n",
    "DEVICE     = \"cuda\" if torch.cuda.is_available() else \"cpu\"\n",
    "TARGET_SR  = 16000            # wav2vec2 expects 16 kHz\n",
    "WHISPER_SR = 16000            # Whisper also uses 16 kHz input\n",
    "\n",
    "# need these to define the function again for the transcribe to work\n",
    "w2v_proc  = Wav2Vec2Processor.from_pretrained(\"facebook/wav2vec2-large-960h-lv60-self\")\n",
    "w2v_model = Wav2Vec2ForCTC.from_pretrained(\"facebook/wav2vec2-large-960h-lv60-self\").to(DEVICE).eval()"
   ]
  },
  {
   "cell_type": "code",
   "execution_count": 48,
   "id": "df7d2881-26f3-4a97-b614-c5b3b845e2a6",
   "metadata": {},
   "outputs": [
    {
     "name": "stderr",
     "output_type": "stream",
     "text": [
      "The attention mask is not set and cannot be inferred from input because pad token is same as eos token. As a consequence, you may observe unexpected behavior. Please pass your input's `attention_mask` to obtain reliable results.\n"
     ]
    },
    {
     "name": "stdout",
     "output_type": "stream",
     "text": [
      "OK: [' They are indigenous and peace loving community.']\n"
     ]
    }
   ],
   "source": [
    "import numpy as np, librosa, torch\n",
    "from transformers import WhisperProcessor, WhisperForConditionalGeneration\n",
    "\n",
    "# 1) Model + processor\n",
    "DEVICE     = \"cuda\" if torch.cuda.is_available() else \"cpu\"\n",
    "WHISPER_ID = \"openai/whisper-medium\"  # change if using an .en model\n",
    "WHISPER_SR = 16000\n",
    "\n",
    "wh_proc  = WhisperProcessor.from_pretrained(WHISPER_ID)\n",
    "wh_model = WhisperForConditionalGeneration.from_pretrained(WHISPER_ID).to(DEVICE).eval()\n",
    "\n",
    "# 2) Detect English-only vs multilingual and set flags properly\n",
    "IS_EN_ONLY = WHISPER_ID.endswith(\".en\")\n",
    "if IS_EN_ONLY:\n",
    "    # English-only\n",
    "    GEN_KW      = {}         # nothing\n",
    "    FORCED_IDS  = None\n",
    "    wh_model.generation_config.is_multilingual = False\n",
    "else:\n",
    "    # Multilingual: pass task/language and force decoder ids\n",
    "    GEN_KW      = dict(task=\"transcribe\", language=\"en\")\n",
    "    FORCED_IDS  = wh_proc.get_decoder_prompt_ids(**GEN_KW)\n",
    "    wh_model.generation_config.is_multilingual = True\n",
    "\n",
    "# 3) Load a few WAVs to test (1-D float32, 16 kHz)\n",
    "def load_wavs(paths, sr=WHISPER_SR):\n",
    "    out = []\n",
    "    for p in paths:\n",
    "        y, _ = librosa.load(p, sr=sr, mono=True)\n",
    "        out.append(y.astype(np.float32))\n",
    "    return out\n",
    "\n",
    "# e.g., pick test paths\n",
    "test_paths = [\n",
    "    df_eval[\"audio_path\"].iloc[0],  # or df/sample you already built\n",
    "    # df_eval[\"audio_path\"].iloc[1],\n",
    "]\n",
    "\n",
    "wavs = load_wavs(test_paths, sr=WHISPER_SR)\n",
    "\n",
    "# 4) Run Whisper\n",
    "with torch.no_grad():\n",
    "    inputs = wh_proc(wavs, sampling_rate=WHISPER_SR, return_tensors=\"pt\").to(DEVICE)\n",
    "    feats  = inputs[\"input_features\"]\n",
    "    pred   = wh_model.generate(\n",
    "        feats,\n",
    "        forced_decoder_ids=FORCED_IDS,  # None for .en models\n",
    "        **GEN_KW                           # {} for .en models\n",
    "    )\n",
    "    texts  = wh_proc.batch_decode(pred, skip_special_tokens=True)\n",
    "\n",
    "print(\"OK:\", texts)"
   ]
  },
  {
   "cell_type": "code",
   "execution_count": 54,
   "id": "3d9f484e-a988-453d-8194-7079b5f0a196",
   "metadata": {},
   "outputs": [],
   "source": [
    "def transcribe_whisper_missing(paths,\n",
    "                               batch_size=8,\n",
    "                               device=DEVICE,\n",
    "                               wh_proc=wh_proc,\n",
    "                               wh_model=wh_model,\n",
    "                               sr=16000):\n",
    "    \"\"\"\n",
    "    Transcribe wav paths with Whisper, auto-handling EN-only vs multilingual models.\n",
    "    - Do NOT pass task/lang for EN-only models.\n",
    "    - Set proper flags / forced ids for multilingual models.\n",
    "    \"\"\"\n",
    "\n",
    "    out_texts = []\n",
    "    # --- Deciding generation kwargs based on the *current* model -------------\n",
    "    # Heuristics: .en checkpoints OR config says not multilingual\n",
    "    is_en_only = False\n",
    "    try:\n",
    "        # adding wisper id:\n",
    "        is_en_only = (('WHISPER_ID' in globals() and str(WHISPER_ID).endswith('.en'))\n",
    "                      or not getattr(wh_model.generation_config, \"is_multilingual\", True))\n",
    "    except Exception:\n",
    "        # fall back to config flag only\n",
    "        is_en_only = not getattr(wh_model.generation_config, \"is_multilingual\", True)\n",
    "\n",
    "    if is_en_only:\n",
    "        # English-only: do not pass task/language\n",
    "        GEN_KW = {}\n",
    "        FORCED_IDS = None\n",
    "        wh_model.generation_config.is_multilingual = False\n",
    "    else:\n",
    "        # Multilingual: set task/lang, force the decoder prompt, ensuring flag is true\n",
    "        GEN_KW = dict(task=\"transcribe\", language=\"en\")\n",
    "        FORCED_IDS = wh_proc.get_decoder_prompt_ids(task=\"transcribe\", language=\"en\")\n",
    "        wh_model.generation_config.is_multilingual = True\n",
    "    # -----------------------------------------------------------------------\n",
    "\n",
    "    # batched forward\n",
    "    for i in range(0, len(paths), batch_size):\n",
    "        batch = paths[i:i+batch_size]\n",
    "\n",
    "        # load audio -> 1-D float32 @ 16 kHz\n",
    "        wavs = []\n",
    "        for p in batch:\n",
    "            y, sr_in = librosa.load(p, sr=sr, mono=True)\n",
    "            wavs.append(y.astype(np.float32))\n",
    "        # safety: every item must be 1-D\n",
    "        assert all(np.ndim(w) == 1 for w in wavs), \"each wav must be 1-D\"\n",
    "\n",
    "        # processor makes log-mels, pads & stacks\n",
    "        inputs = wh_proc(\n",
    "            wavs,\n",
    "            sampling_rate=sr,\n",
    "            return_tensors=\"pt\",\n",
    "            padding=True\n",
    "        ).to(device)\n",
    "\n",
    "        with torch.no_grad():\n",
    "            feats = inputs[\"input_features\"]                     # [B, 80, T']\n",
    "            pred_ids = wh_model.generate(\n",
    "                feats,\n",
    "                forced_decoder_ids=FORCED_IDS,\n",
    "                **GEN_KW\n",
    "            )\n",
    "            texts = wh_proc.batch_decode(pred_ids, skip_special_tokens=True)\n",
    "\n",
    "        out_texts.extend(t.strip() for t in texts)\n",
    "\n",
    "    return out_texts"
   ]
  },
  {
   "cell_type": "code",
   "execution_count": 55,
   "id": "05debe5b-92c9-4d63-b374-200700cde9fc",
   "metadata": {},
   "outputs": [],
   "source": [
    "def transcribe_whisper_paths(paths, whisper_id=\"openai/whisper-medium\", batch_size=8, device=None):\n",
    "    import numpy as np, librosa, torch\n",
    "    from transformers import WhisperProcessor, WhisperForConditionalGeneration\n",
    "\n",
    "    device = device or (\"cuda\" if torch.cuda.is_available() else \"cpu\")\n",
    "    sr = 16000\n",
    "\n",
    "    proc  = WhisperProcessor.from_pretrained(whisper_id)\n",
    "    model = WhisperForConditionalGeneration.from_pretrained(whisper_id).to(device).eval()\n",
    "\n",
    "    is_en = whisper_id.endswith(\".en\")\n",
    "    if is_en:\n",
    "        gen_kw = {}\n",
    "        forced_ids = None\n",
    "        model.generation_config.is_multilingual = False\n",
    "    else:\n",
    "        gen_kw = dict(task=\"transcribe\", language=\"en\")\n",
    "        forced_ids = proc.get_decoder_prompt_ids(**gen_kw)\n",
    "        model.generation_config.is_multilingual = True\n",
    "\n",
    "    out = []\n",
    "    for i in range(0, len(paths), batch_size):\n",
    "        chunk = paths[i:i+batch_size]\n",
    "        wavs = []\n",
    "        for p in chunk:\n",
    "            y, _ = librosa.load(p, sr=sr, mono=True)\n",
    "            wavs.append(y.astype(np.float32))\n",
    "\n",
    "        with torch.no_grad():\n",
    "            inputs = proc(wavs, sampling_rate=sr, return_tensors=\"pt\").to(device)\n",
    "            feats  = inputs[\"input_features\"]\n",
    "            ids    = model.generate(feats, forced_decoder_ids=forced_ids, **gen_kw)\n",
    "            out.extend(proc.batch_decode(ids, skip_special_tokens=True))\n",
    "    return out"
   ]
  },
  {
   "cell_type": "code",
   "execution_count": 56,
   "id": "687109b4-ca99-424c-94a1-5b85e7ba761d",
   "metadata": {},
   "outputs": [],
   "source": [
    "# Detect whether we loaded an English-only Whisper or a multilingual one\n",
    "IS_EN_ONLY = WHISPER_ID.endswith(\".en\")\n",
    "\n",
    "if IS_EN_ONLY:\n",
    "    # English-only model\n",
    "    GEN_KW = {}\n",
    "    FORCED_IDS = None\n",
    "    # Make sure generation config reflects English-only\n",
    "    wh_model.generation_config.is_multilingual = False\n",
    "else:\n",
    "    # Multilingual model\n",
    "    GEN_KW = dict(task=\"transcribe\", language=\"en\")\n",
    "    FORCED_IDS = wh_proc.get_decoder_prompt_ids(**GEN_KW)\n",
    "    wh_model.generation_config.is_multilingual = True"
   ]
  },
  {
   "cell_type": "code",
   "execution_count": 57,
   "id": "bc2977fb-4a54-49e0-a600-b66a1d6ffb51",
   "metadata": {},
   "outputs": [],
   "source": [
    "with torch.no_grad():\n",
    "    inputs = wh_proc(wavs, sampling_rate=16000, return_tensors=\"pt\", padding=True).to(DEVICE)\n",
    "    input_features = inputs[\"input_features\"]\n",
    "\n",
    "    pred_ids = wh_model.generate(\n",
    "        input_features,\n",
    "        forced_decoder_ids=FORCED_IDS,\n",
    "        **GEN_KW  # will be {} for .en models, or {task, language} for multilingual\n",
    "    )\n",
    "    texts = wh_proc.batch_decode(pred_ids, skip_special_tokens=True)"
   ]
  },
  {
   "cell_type": "code",
   "execution_count": 59,
   "id": "b0e5da9b-0d9e-4e6a-960d-43bc2e17f725",
   "metadata": {},
   "outputs": [
    {
     "name": "stdout",
     "output_type": "stream",
     "text": [
      "Missing in w2v_cache: 64\n",
      "Missing in whisp_cache: 64\n",
      "w2v examples: ['/Users/ninadjoshi/asr-comparative-study/ASR-Comparative-Study-Thesis/asr-comparative-study/notebooks/data/cv11_en/cv-corpus-11.0-2022-09-21/en/clips/common_voice_en_21940789.mp3', '/Users/ninadjoshi/asr-comparative-study/ASR-Comparative-Study-Thesis/asr-comparative-study/notebooks/data/cv11_en/cv-corpus-11.0-2022-09-21/en/clips/common_voice_en_23332171.mp3', '/Users/ninadjoshi/asr-comparative-study/ASR-Comparative-Study-Thesis/asr-comparative-study/notebooks/data/cv11_en/cv-corpus-11.0-2022-09-21/en/clips/common_voice_en_100999.mp3']\n",
      "whisp examples: ['/Users/ninadjoshi/asr-comparative-study/ASR-Comparative-Study-Thesis/asr-comparative-study/notebooks/data/cv11_en/cv-corpus-11.0-2022-09-21/en/clips/common_voice_en_21940789.mp3', '/Users/ninadjoshi/asr-comparative-study/ASR-Comparative-Study-Thesis/asr-comparative-study/notebooks/data/cv11_en/cv-corpus-11.0-2022-09-21/en/clips/common_voice_en_23332171.mp3', '/Users/ninadjoshi/asr-comparative-study/ASR-Comparative-Study-Thesis/asr-comparative-study/notebooks/data/cv11_en/cv-corpus-11.0-2022-09-21/en/clips/common_voice_en_100999.mp3']\n"
     ]
    }
   ],
   "source": [
    "missing_w2v   = [p for p in paths_eval if p not in w2v_cache]\n",
    "missing_whisp = [p for p in paths_eval if p not in whisp_cache]\n",
    "\n",
    "print(\"Missing in w2v_cache:\",   len(missing_w2v))\n",
    "print(\"Missing in whisp_cache:\", len(missing_whisp))\n",
    "\n",
    "# couple examples:\n",
    "print(\"w2v examples:\",   missing_w2v[:3])\n",
    "print(\"whisp examples:\", missing_whisp[:3])"
   ]
  },
  {
   "cell_type": "code",
   "execution_count": 60,
   "id": "daf33eac-eb2c-4030-abef-c56575e088ca",
   "metadata": {},
   "outputs": [],
   "source": [
    "def transcribe_w2v_missing(paths, batch_size=16):\n",
    "    todo = [p for p in paths if p not in w2v_cache]\n",
    "    if not todo:\n",
    "        return\n",
    "    out_texts = []\n",
    "    for i in range(0, len(todo), batch_size):\n",
    "        batch = todo[i:i+batch_size]\n",
    "        wavs = []\n",
    "        for p in batch:\n",
    "            y, sr = librosa.load(p, sr=TARGET_SR, mono=True)\n",
    "            wavs.append(y.astype(np.float32))\n",
    "        assert all(np.ndim(w)==1 for w in wavs)  # must be 1-D\n",
    "        inputs = w2v_proc(wavs, sampling_rate=TARGET_SR, return_tensors=\"pt\", padding=True).to(device)\n",
    "        with torch.no_grad():\n",
    "            logits  = w2v_model(**inputs).logits\n",
    "            pred_ids = torch.argmax(logits, dim=-1)\n",
    "            texts = w2v_proc.batch_decode(pred_ids, skip_special_tokens=True)\n",
    "        out_texts.extend([t.lower().strip() for t in texts])\n",
    "    for p, t in zip(todo, out_texts):\n",
    "        w2v_cache[p] = t\n",
    "\n",
    "def transcribe_whisper_missing(paths, batch_size=8):\n",
    "    todo = [p for p in paths if p not in whisp_cache]\n",
    "    if not todo:\n",
    "        return\n",
    "    out_texts = []\n",
    "    for i in range(0, len(todo), batch_size):\n",
    "        batch = todo[i:i+batch_size]\n",
    "        wavs = [librosa.load(p, sr=WHISPER_SR, mono=True)[0] for p in batch]\n",
    "        feats = wh_proc(np.vstack([w[np.newaxis,:] for w in wavs]), sampling_rate=WHISPER_SR, return_tensors=\"pt\").to(device)\n",
    "\n",
    "        # IMPORTANT: English-only vs multilingual guard you already added:\n",
    "        if IS_EN_ONLY:\n",
    "            gen_ids = wh_model.generate(feats[\"input_features\"])\n",
    "        else:\n",
    "            gen_ids = wh_model.generate(\n",
    "                feats[\"input_features\"],\n",
    "                **GEN_KW,\n",
    "                forced_decoder_ids=FORCED_IDS\n",
    "            )\n",
    "\n",
    "        texts = wh_proc.batch_decode(gen_ids, skip_special_tokens=True)\n",
    "        out_texts.extend([t.lower().strip() for t in texts])\n",
    "    for p, t in zip(todo, out_texts):\n",
    "        whisp_cache[p] = t"
   ]
  },
  {
   "cell_type": "code",
   "execution_count": 61,
   "id": "cf002517-1cfd-42bf-97f3-b48dbb8e0362",
   "metadata": {},
   "outputs": [
    {
     "name": "stdout",
     "output_type": "stream",
     "text": [
      "64 missing w2v;  64 missing whisper\n"
     ]
    },
    {
     "ename": "ValueError",
     "evalue": "all the input array dimensions except for the concatenation axis must match exactly, but along dimension 1, the array at index 0 has size 66432 and the array at index 1 has size 145536",
     "output_type": "error",
     "traceback": [
      "\u001b[31m---------------------------------------------------------------------------\u001b[39m",
      "\u001b[31mValueError\u001b[39m                                Traceback (most recent call last)",
      "\u001b[36mCell\u001b[39m\u001b[36m \u001b[39m\u001b[32mIn[61]\u001b[39m\u001b[32m, line 8\u001b[39m\n\u001b[32m      6\u001b[39m \u001b[38;5;66;03m# 2) filling only the gaps\u001b[39;00m\n\u001b[32m      7\u001b[39m transcribe_w2v_missing(paths_eval)\n\u001b[32m----> \u001b[39m\u001b[32m8\u001b[39m \u001b[43mtranscribe_whisper_missing\u001b[49m\u001b[43m(\u001b[49m\u001b[43mpaths_eval\u001b[49m\u001b[43m)\u001b[49m\n\u001b[32m     10\u001b[39m \u001b[38;5;66;03m# 3) rebuilding for safety\u001b[39;00m\n\u001b[32m     11\u001b[39m hyp_w2v     = [w2v_cache[p]   \u001b[38;5;28;01mfor\u001b[39;00m p \u001b[38;5;129;01min\u001b[39;00m paths_eval]\n",
      "\u001b[36mCell\u001b[39m\u001b[36m \u001b[39m\u001b[32mIn[60]\u001b[39m\u001b[32m, line 30\u001b[39m, in \u001b[36mtranscribe_whisper_missing\u001b[39m\u001b[34m(paths, batch_size)\u001b[39m\n\u001b[32m     28\u001b[39m batch = todo[i:i+batch_size]\n\u001b[32m     29\u001b[39m wavs = [librosa.load(p, sr=WHISPER_SR, mono=\u001b[38;5;28;01mTrue\u001b[39;00m)[\u001b[32m0\u001b[39m] \u001b[38;5;28;01mfor\u001b[39;00m p \u001b[38;5;129;01min\u001b[39;00m batch]\n\u001b[32m---> \u001b[39m\u001b[32m30\u001b[39m feats = wh_proc(\u001b[43mnp\u001b[49m\u001b[43m.\u001b[49m\u001b[43mvstack\u001b[49m\u001b[43m(\u001b[49m\u001b[43m[\u001b[49m\u001b[43mw\u001b[49m\u001b[43m[\u001b[49m\u001b[43mnp\u001b[49m\u001b[43m.\u001b[49m\u001b[43mnewaxis\u001b[49m\u001b[43m,\u001b[49m\u001b[43m:\u001b[49m\u001b[43m]\u001b[49m\u001b[43m \u001b[49m\u001b[38;5;28;43;01mfor\u001b[39;49;00m\u001b[43m \u001b[49m\u001b[43mw\u001b[49m\u001b[43m \u001b[49m\u001b[38;5;129;43;01min\u001b[39;49;00m\u001b[43m \u001b[49m\u001b[43mwavs\u001b[49m\u001b[43m]\u001b[49m\u001b[43m)\u001b[49m, sampling_rate=WHISPER_SR, return_tensors=\u001b[33m\"\u001b[39m\u001b[33mpt\u001b[39m\u001b[33m\"\u001b[39m).to(device)\n\u001b[32m     32\u001b[39m \u001b[38;5;66;03m# IMPORTANT: English-only vs multilingual guard you already added:\u001b[39;00m\n\u001b[32m     33\u001b[39m \u001b[38;5;28;01mif\u001b[39;00m IS_EN_ONLY:\n",
      "\u001b[36mFile \u001b[39m\u001b[32m~/.local/share/mamba/envs/audio/lib/python3.12/site-packages/numpy/core/shape_base.py:289\u001b[39m, in \u001b[36mvstack\u001b[39m\u001b[34m(tup, dtype, casting)\u001b[39m\n\u001b[32m    287\u001b[39m \u001b[38;5;28;01mif\u001b[39;00m \u001b[38;5;129;01mnot\u001b[39;00m \u001b[38;5;28misinstance\u001b[39m(arrs, \u001b[38;5;28mlist\u001b[39m):\n\u001b[32m    288\u001b[39m     arrs = [arrs]\n\u001b[32m--> \u001b[39m\u001b[32m289\u001b[39m \u001b[38;5;28;01mreturn\u001b[39;00m \u001b[43m_nx\u001b[49m\u001b[43m.\u001b[49m\u001b[43mconcatenate\u001b[49m\u001b[43m(\u001b[49m\u001b[43marrs\u001b[49m\u001b[43m,\u001b[49m\u001b[43m \u001b[49m\u001b[32;43m0\u001b[39;49m\u001b[43m,\u001b[49m\u001b[43m \u001b[49m\u001b[43mdtype\u001b[49m\u001b[43m=\u001b[49m\u001b[43mdtype\u001b[49m\u001b[43m,\u001b[49m\u001b[43m \u001b[49m\u001b[43mcasting\u001b[49m\u001b[43m=\u001b[49m\u001b[43mcasting\u001b[49m\u001b[43m)\u001b[49m\n",
      "\u001b[31mValueError\u001b[39m: all the input array dimensions except for the concatenation axis must match exactly, but along dimension 1, the array at index 0 has size 66432 and the array at index 1 has size 145536"
     ]
    }
   ],
   "source": [
    "# 1) finding what’s missing\n",
    "missing_w2v   = [p for p in paths_eval if p not in w2v_cache]\n",
    "missing_whisp = [p for p in paths_eval if p not in whisp_cache]\n",
    "print(len(missing_w2v), \"missing w2v; \", len(missing_whisp), \"missing whisper\")\n",
    "\n",
    "# 2) filling only the gaps\n",
    "transcribe_w2v_missing(paths_eval)\n",
    "transcribe_whisper_missing(paths_eval)\n",
    "\n",
    "# 3) rebuilding for safety\n",
    "hyp_w2v     = [w2v_cache[p]   for p in paths_eval]\n",
    "hyp_whisper = [whisp_cache[p] for p in paths_eval]\n",
    "assert len(paths_eval) == len(hyp_whisper) == len(hyp_w2v)"
   ]
  },
  {
   "cell_type": "code",
   "execution_count": 62,
   "id": "603b8b73-9c42-491e-b589-283a34d0c751",
   "metadata": {},
   "outputs": [
    {
     "ename": "ValueError",
     "evalue": "all the input array dimensions except for the concatenation axis must match exactly, but along dimension 1, the array at index 0 has size 66432 and the array at index 1 has size 145536",
     "output_type": "error",
     "traceback": [
      "\u001b[31m---------------------------------------------------------------------------\u001b[39m",
      "\u001b[31mValueError\u001b[39m                                Traceback (most recent call last)",
      "\u001b[36mCell\u001b[39m\u001b[36m \u001b[39m\u001b[32mIn[62]\u001b[39m\u001b[32m, line 2\u001b[39m\n\u001b[32m      1\u001b[39m _ = transcribe_w2v_missing(paths_eval)       \u001b[38;5;66;03m# fills w2v_cache incrementally\u001b[39;00m\n\u001b[32m----> \u001b[39m\u001b[32m2\u001b[39m _ = \u001b[43mtranscribe_whisper_missing\u001b[49m\u001b[43m(\u001b[49m\u001b[43mpaths_eval\u001b[49m\u001b[43m)\u001b[49m   \u001b[38;5;66;03m# fills whisp_cache incrementally\u001b[39;00m\n\u001b[32m      4\u001b[39m \u001b[38;5;66;03m# Build lists in the same order as df_eval\u001b[39;00m\n\u001b[32m      5\u001b[39m hyp_w2v     = [ w2v_cache[p]   \u001b[38;5;28;01mfor\u001b[39;00m p \u001b[38;5;129;01min\u001b[39;00m paths_eval ]\n",
      "\u001b[36mCell\u001b[39m\u001b[36m \u001b[39m\u001b[32mIn[60]\u001b[39m\u001b[32m, line 30\u001b[39m, in \u001b[36mtranscribe_whisper_missing\u001b[39m\u001b[34m(paths, batch_size)\u001b[39m\n\u001b[32m     28\u001b[39m batch = todo[i:i+batch_size]\n\u001b[32m     29\u001b[39m wavs = [librosa.load(p, sr=WHISPER_SR, mono=\u001b[38;5;28;01mTrue\u001b[39;00m)[\u001b[32m0\u001b[39m] \u001b[38;5;28;01mfor\u001b[39;00m p \u001b[38;5;129;01min\u001b[39;00m batch]\n\u001b[32m---> \u001b[39m\u001b[32m30\u001b[39m feats = wh_proc(\u001b[43mnp\u001b[49m\u001b[43m.\u001b[49m\u001b[43mvstack\u001b[49m\u001b[43m(\u001b[49m\u001b[43m[\u001b[49m\u001b[43mw\u001b[49m\u001b[43m[\u001b[49m\u001b[43mnp\u001b[49m\u001b[43m.\u001b[49m\u001b[43mnewaxis\u001b[49m\u001b[43m,\u001b[49m\u001b[43m:\u001b[49m\u001b[43m]\u001b[49m\u001b[43m \u001b[49m\u001b[38;5;28;43;01mfor\u001b[39;49;00m\u001b[43m \u001b[49m\u001b[43mw\u001b[49m\u001b[43m \u001b[49m\u001b[38;5;129;43;01min\u001b[39;49;00m\u001b[43m \u001b[49m\u001b[43mwavs\u001b[49m\u001b[43m]\u001b[49m\u001b[43m)\u001b[49m, sampling_rate=WHISPER_SR, return_tensors=\u001b[33m\"\u001b[39m\u001b[33mpt\u001b[39m\u001b[33m\"\u001b[39m).to(device)\n\u001b[32m     32\u001b[39m \u001b[38;5;66;03m# IMPORTANT: English-only vs multilingual guard you already added:\u001b[39;00m\n\u001b[32m     33\u001b[39m \u001b[38;5;28;01mif\u001b[39;00m IS_EN_ONLY:\n",
      "\u001b[36mFile \u001b[39m\u001b[32m~/.local/share/mamba/envs/audio/lib/python3.12/site-packages/numpy/core/shape_base.py:289\u001b[39m, in \u001b[36mvstack\u001b[39m\u001b[34m(tup, dtype, casting)\u001b[39m\n\u001b[32m    287\u001b[39m \u001b[38;5;28;01mif\u001b[39;00m \u001b[38;5;129;01mnot\u001b[39;00m \u001b[38;5;28misinstance\u001b[39m(arrs, \u001b[38;5;28mlist\u001b[39m):\n\u001b[32m    288\u001b[39m     arrs = [arrs]\n\u001b[32m--> \u001b[39m\u001b[32m289\u001b[39m \u001b[38;5;28;01mreturn\u001b[39;00m \u001b[43m_nx\u001b[49m\u001b[43m.\u001b[49m\u001b[43mconcatenate\u001b[49m\u001b[43m(\u001b[49m\u001b[43marrs\u001b[49m\u001b[43m,\u001b[49m\u001b[43m \u001b[49m\u001b[32;43m0\u001b[39;49m\u001b[43m,\u001b[49m\u001b[43m \u001b[49m\u001b[43mdtype\u001b[49m\u001b[43m=\u001b[49m\u001b[43mdtype\u001b[49m\u001b[43m,\u001b[49m\u001b[43m \u001b[49m\u001b[43mcasting\u001b[49m\u001b[43m=\u001b[49m\u001b[43mcasting\u001b[49m\u001b[43m)\u001b[49m\n",
      "\u001b[31mValueError\u001b[39m: all the input array dimensions except for the concatenation axis must match exactly, but along dimension 1, the array at index 0 has size 66432 and the array at index 1 has size 145536"
     ]
    }
   ],
   "source": [
    "_ = transcribe_w2v_missing(paths_eval)       # fills w2v_cache incrementally\n",
    "_ = transcribe_whisper_missing(paths_eval)   # fills whisp_cache incrementally\n",
    "\n",
    "# Build lists in the same order as df_eval\n",
    "hyp_w2v     = [ w2v_cache[p]   for p in paths_eval ]\n",
    "hyp_whisper = [ whisp_cache[p] for p in paths_eval ]\n",
    "\n",
    "print(\"Lengths:\",\n",
    "      len(paths_eval), len(hyp_whisper), len(hyp_w2v))\n",
    "assert len(paths_eval) == len(hyp_whisper) == len(hyp_w2v)"
   ]
  },
  {
   "cell_type": "markdown",
   "id": "e4e4b267-9069-428b-840e-47f2e0e3ed34",
   "metadata": {},
   "source": [
    "## Noise Robustness Testing"
   ]
  },
  {
   "cell_type": "code",
   "execution_count": 64,
   "id": "f386817e-c68a-47d2-a771-cee6114b9ad3",
   "metadata": {},
   "outputs": [
    {
     "name": "stderr",
     "output_type": "stream",
     "text": [
      "Some weights of Wav2Vec2ForCTC were not initialized from the model checkpoint at facebook/wav2vec2-base-960h and are newly initialized: ['wav2vec2.masked_spec_embed']\n",
      "You should probably TRAIN this model on a down-stream task to be able to use it for predictions and inference.\n"
     ]
    },
    {
     "data": {
      "text/plain": [
       "WhisperForConditionalGeneration(\n",
       "  (model): WhisperModel(\n",
       "    (encoder): WhisperEncoder(\n",
       "      (conv1): Conv1d(80, 768, kernel_size=(3,), stride=(1,), padding=(1,))\n",
       "      (conv2): Conv1d(768, 768, kernel_size=(3,), stride=(2,), padding=(1,))\n",
       "      (embed_positions): Embedding(1500, 768)\n",
       "      (layers): ModuleList(\n",
       "        (0-11): 12 x WhisperEncoderLayer(\n",
       "          (self_attn): WhisperAttention(\n",
       "            (k_proj): Linear(in_features=768, out_features=768, bias=False)\n",
       "            (v_proj): Linear(in_features=768, out_features=768, bias=True)\n",
       "            (q_proj): Linear(in_features=768, out_features=768, bias=True)\n",
       "            (out_proj): Linear(in_features=768, out_features=768, bias=True)\n",
       "          )\n",
       "          (self_attn_layer_norm): LayerNorm((768,), eps=1e-05, elementwise_affine=True)\n",
       "          (activation_fn): GELUActivation()\n",
       "          (fc1): Linear(in_features=768, out_features=3072, bias=True)\n",
       "          (fc2): Linear(in_features=3072, out_features=768, bias=True)\n",
       "          (final_layer_norm): LayerNorm((768,), eps=1e-05, elementwise_affine=True)\n",
       "        )\n",
       "      )\n",
       "      (layer_norm): LayerNorm((768,), eps=1e-05, elementwise_affine=True)\n",
       "    )\n",
       "    (decoder): WhisperDecoder(\n",
       "      (embed_tokens): Embedding(51865, 768, padding_idx=50257)\n",
       "      (embed_positions): WhisperPositionalEmbedding(448, 768)\n",
       "      (layers): ModuleList(\n",
       "        (0-11): 12 x WhisperDecoderLayer(\n",
       "          (self_attn): WhisperAttention(\n",
       "            (k_proj): Linear(in_features=768, out_features=768, bias=False)\n",
       "            (v_proj): Linear(in_features=768, out_features=768, bias=True)\n",
       "            (q_proj): Linear(in_features=768, out_features=768, bias=True)\n",
       "            (out_proj): Linear(in_features=768, out_features=768, bias=True)\n",
       "          )\n",
       "          (activation_fn): GELUActivation()\n",
       "          (self_attn_layer_norm): LayerNorm((768,), eps=1e-05, elementwise_affine=True)\n",
       "          (encoder_attn): WhisperAttention(\n",
       "            (k_proj): Linear(in_features=768, out_features=768, bias=False)\n",
       "            (v_proj): Linear(in_features=768, out_features=768, bias=True)\n",
       "            (q_proj): Linear(in_features=768, out_features=768, bias=True)\n",
       "            (out_proj): Linear(in_features=768, out_features=768, bias=True)\n",
       "          )\n",
       "          (encoder_attn_layer_norm): LayerNorm((768,), eps=1e-05, elementwise_affine=True)\n",
       "          (fc1): Linear(in_features=768, out_features=3072, bias=True)\n",
       "          (fc2): Linear(in_features=3072, out_features=768, bias=True)\n",
       "          (final_layer_norm): LayerNorm((768,), eps=1e-05, elementwise_affine=True)\n",
       "        )\n",
       "      )\n",
       "      (layer_norm): LayerNorm((768,), eps=1e-05, elementwise_affine=True)\n",
       "    )\n",
       "  )\n",
       "  (proj_out): Linear(in_features=768, out_features=51865, bias=False)\n",
       ")"
      ]
     },
     "execution_count": 64,
     "metadata": {},
     "output_type": "execute_result"
    }
   ],
   "source": [
    "from transformers import Wav2Vec2ForCTC, Wav2Vec2Processor, WhisperForConditionalGeneration, WhisperProcessor\n",
    "import torch\n",
    "\n",
    "# Load Wav2Vec2 (English pretrained)\n",
    "w2v_model = Wav2Vec2ForCTC.from_pretrained(\"facebook/wav2vec2-base-960h\")\n",
    "w2v_processor = Wav2Vec2Processor.from_pretrained(\"facebook/wav2vec2-base-960h\")\n",
    "w2v_model.to(\"cuda\" if torch.cuda.is_available() else \"cpu\")\n",
    "\n",
    "# Load Whisper (small English model as example)\n",
    "whisper_model = WhisperForConditionalGeneration.from_pretrained(\"openai/whisper-small\")\n",
    "whisper_processor = WhisperProcessor.from_pretrained(\"openai/whisper-small\")\n",
    "whisper_model.to(\"cuda\" if torch.cuda.is_available() else \"cpu\")"
   ]
  },
  {
   "cell_type": "code",
   "execution_count": 65,
   "id": "8e0b8247-f130-4e5b-b367-190bfddee759",
   "metadata": {},
   "outputs": [],
   "source": [
    "models = {\n",
    "    \"Whisper\": (whisper_model, whisper_processor),\n",
    "    \"Wav2Vec\": (w2v_model, w2v_processor),\n",
    "}"
   ]
  },
  {
   "cell_type": "code",
   "execution_count": 66,
   "id": "67b5591a-c32c-4b71-bdef-90e37aa064e6",
   "metadata": {},
   "outputs": [],
   "source": [
    "import numpy as np\n",
    "import librosa\n",
    "import soundfile as sf\n",
    "\n",
    "def add_noise(audio, snr_db):\n",
    "    \"\"\"\n",
    "    Add Gaussian noise to an audio signal at a specified SNR.\n",
    "    :param audio: numpy array of audio samples\n",
    "    :param snr_db: desired SNR in dB (higher = cleaner, lower = noisier)\n",
    "    :return: noisy audio array\n",
    "    \"\"\"\n",
    "    signal_power = np.mean(audio**2)\n",
    "    snr_linear = 10 ** (snr_db / 10.0)\n",
    "    noise_power = signal_power / snr_linear\n",
    "    noise = np.random.normal(0, np.sqrt(noise_power), audio.shape)\n",
    "    return audio + noise"
   ]
  },
  {
   "cell_type": "code",
   "execution_count": 67,
   "id": "898fb5bb-9c63-4c08-9974-fe6a4005689f",
   "metadata": {},
   "outputs": [],
   "source": [
    "from jiwer import wer\n",
    "\n",
    "def evaluate_model_on_noise(model, processor, audio_path, transcript, snr_levels=[20, 10, 0]):\n",
    "    results = {}\n",
    "    audio, sr = librosa.load(audio_path, sr=16000)\n",
    "\n",
    "    # Clean\n",
    "    inputs = processor(audio, sampling_rate=sr, return_tensors=\"pt\").to(model.device)\n",
    "    with torch.no_grad():\n",
    "        logits = model(inputs.input_values).logits\n",
    "    pred_ids = torch.argmax(logits, dim=-1)\n",
    "    prediction = processor.batch_decode(pred_ids)[0].lower()\n",
    "    results[\"clean\"] = {\"prediction\": prediction, \"wer\": wer(transcript.lower(), prediction)}\n",
    "\n",
    "    # Noisy\n",
    "    for snr in snr_levels:\n",
    "        noisy_audio = add_noise(audio, snr_db=snr)\n",
    "        inputs = processor(noisy_audio, sampling_rate=sr, return_tensors=\"pt\").to(model.device)\n",
    "        with torch.no_grad():\n",
    "            logits = model(inputs.input_values).logits\n",
    "        pred_ids = torch.argmax(logits, dim=-1)\n",
    "        prediction = processor.batch_decode(pred_ids)[0].lower()\n",
    "        results[f\"{snr}dB\"] = {\"prediction\": prediction, \"wer\": wer(transcript.lower(), prediction)}\n",
    "\n",
    "    return results"
   ]
  },
  {
   "cell_type": "code",
   "execution_count": 75,
   "id": "a1c4d68f-dcea-4bde-abeb-79f4c1fbcc3e",
   "metadata": {},
   "outputs": [
    {
     "name": "stdout",
     "output_type": "stream",
     "text": [
      "drwxrwxr-x  0 1000   1000        0 13 Dec  2020 cv-corpus-11.0-2022-09-21/en/\n",
      "drwxrwxr-x  0 1000   1000        0 16 Sep  2022 cv-corpus-11.0-2022-09-21/en/clips/\n",
      "-rw-r--r--  0 1000   1000  3790336 16 Sep  2022 cv-corpus-11.0-2022-09-21/en/dev.tsv\n"
     ]
    },
    {
     "name": "stderr",
     "output_type": "stream",
     "text": [
      "python(90652) MallocStackLogging: can't turn off malloc stack logging because it was not enabled.\n"
     ]
    },
    {
     "name": "stdout",
     "output_type": "stream",
     "text": [
      "-rw-r--r--  0 1000   1000 62313406 16 Sep  2022 cv-corpus-11.0-2022-09-21/en/invalidated.tsv\n",
      "-rw-r--r--  0 1000   1000 69533545 16 Sep  2022 cv-corpus-11.0-2022-09-21/en/other.tsv\n",
      "-rw-rw-r--  0 1000   1000   648609 17 Sep  2022 cv-corpus-11.0-2022-09-21/en/reported.tsv\n",
      "-rw-r--r--  0 1000   1000  3734423 16 Sep  2022 cv-corpus-11.0-2022-09-21/en/test.tsv\n",
      "-rw-r--r--  0 1000   1000 243129933 16 Sep  2022 cv-corpus-11.0-2022-09-21/en/train.tsv\n",
      "-rw-r--r--  0 1000   1000 396703049 16 Sep  2022 cv-corpus-11.0-2022-09-21/en/validated.tsv\n",
      "-rw-rw-r--  0 1000   1000     18017 10 Dec  2020 cv-corpus-11.0-2022-09-21/en/clips/common_voice_en_1.mp3\n",
      "-rw-rw-r--  0 1000   1000     17633 10 Dec  2020 cv-corpus-11.0-2022-09-21/en/clips/common_voice_en_10.mp3\n",
      "-rw-rw-r--  0 1000   1000     23969 10 Dec  2020 cv-corpus-11.0-2022-09-21/en/clips/common_voice_en_100.mp3\n",
      "-rw-rw-r--  0 1000   1000     94113 10 Dec  2020 cv-corpus-11.0-2022-09-21/en/clips/common_voice_en_1000.mp3\n",
      "-rw-rw-r--  0 1000   1000     37665 10 Dec  2020 cv-corpus-11.0-2022-09-21/en/clips/common_voice_en_10000.mp3\n",
      "-rw-rw-r--  0 1000   1000     15585 10 Dec  2020 cv-corpus-11.0-2022-09-21/en/clips/common_voice_en_100000.mp3\n",
      "-rw-rw-r--  0 1000   1000     24033 10 Dec  2020 cv-corpus-11.0-2022-09-21/en/clips/common_voice_en_100001.mp3\n",
      "-rw-rw-r--  0 1000   1000     31329 10 Dec  2020 cv-corpus-11.0-2022-09-21/en/clips/common_voice_en_100002.mp3\n",
      "-rw-rw-r--  0 1000   1000     17505 10 Dec  2020 cv-corpus-11.0-2022-09-21/en/clips/common_voice_en_100003.mp3\n",
      "-rw-rw-r--  0 1000   1000     18465 10 Dec  2020 cv-corpus-11.0-2022-09-21/en/clips/common_voice_en_100004.mp3\n",
      "-rw-rw-r--  0 1000   1000     27105 10 Dec  2020 cv-corpus-11.0-2022-09-21/en/clips/common_voice_en_100005.mp3\n",
      "-rw-rw-r--  0 1000   1000     22113 10 Dec  2020 cv-corpus-11.0-2022-09-21/en/clips/common_voice_en_100006.mp3\n",
      "-rw-rw-r--  0 1000   1000     28641 10 Dec  2020 cv-corpus-11.0-2022-09-21/en/clips/common_voice_en_100007.mp3\n",
      "-rw-rw-r--  0 1000   1000     32097 10 Dec  2020 cv-corpus-11.0-2022-09-21/en/clips/common_voice_en_100008.mp3\n",
      "-rw-rw-r--  0 1000   1000     30945 10 Dec  2020 cv-corpus-11.0-2022-09-21/en/clips/common_voice_en_100009.mp3\n",
      "-rw-rw-r--  0 1000   1000     20001 10 Dec  2020 cv-corpus-11.0-2022-09-21/en/clips/common_voice_en_10001.mp3\n",
      "-rw-rw-r--  0 1000   1000     20769 10 Dec  2020 cv-corpus-11.0-2022-09-21/en/clips/common_voice_en_100010.mp3\n",
      "-rw-rw-r--  0 1000   1000     20385 10 Dec  2020 cv-corpus-11.0-2022-09-21/en/clips/common_voice_en_100011.mp3\n",
      "-rw-rw-r--  0 1000   1000     22305 10 Dec  2020 cv-corpus-11.0-2022-09-21/en/clips/common_voice_en_100012.mp3\n",
      "-rw-rw-r--  0 1000   1000     18657 10 Dec  2020 cv-corpus-11.0-2022-09-21/en/clips/common_voice_en_100013.mp3\n",
      "-rw-rw-r--  0 1000   1000     22305 10 Dec  2020 cv-corpus-11.0-2022-09-21/en/clips/common_voice_en_100014.mp3\n",
      "-rw-rw-r--  0 1000   1000     16737 10 Dec  2020 cv-corpus-11.0-2022-09-21/en/clips/common_voice_en_100015.mp3\n",
      "-rw-rw-r--  0 1000   1000     20577 10 Dec  2020 cv-corpus-11.0-2022-09-21/en/clips/common_voice_en_100016.mp3\n",
      "-rw-rw-r--  0 1000   1000     14817 10 Dec  2020 cv-corpus-11.0-2022-09-21/en/clips/common_voice_en_100017.mp3\n",
      "-rw-rw-r--  0 1000   1000     54177 10 Dec  2020 cv-corpus-11.0-2022-09-21/en/clips/common_voice_en_100018.mp3\n",
      "-rw-rw-r--  0 1000   1000     48993 10 Dec  2020 cv-corpus-11.0-2022-09-21/en/clips/common_voice_en_100019.mp3\n",
      "-rw-rw-r--  0 1000   1000     19041 10 Dec  2020 cv-corpus-11.0-2022-09-21/en/clips/common_voice_en_10002.mp3\n",
      "-rw-rw-r--  0 1000   1000     50721 10 Dec  2020 cv-corpus-11.0-2022-09-21/en/clips/common_voice_en_100020.mp3\n",
      "-rw-rw-r--  0 1000   1000     33825 10 Dec  2020 cv-corpus-11.0-2022-09-21/en/clips/common_voice_en_100021.mp3\n",
      "-rw-rw-r--  0 1000   1000     30945 10 Dec  2020 cv-corpus-11.0-2022-09-21/en/clips/common_voice_en_100022.mp3\n",
      "-rw-rw-r--  0 1000   1000     56097 10 Dec  2020 cv-corpus-11.0-2022-09-21/en/clips/common_voice_en_100023.mp3\n",
      "-rw-rw-r--  0 1000   1000     40353 10 Dec  2020 cv-corpus-11.0-2022-09-21/en/clips/common_voice_en_100024.mp3\n",
      "-rw-rw-r--  0 1000   1000     30561 10 Dec  2020 cv-corpus-11.0-2022-09-21/en/clips/common_voice_en_100025.mp3\n",
      "-rw-rw-r--  0 1000   1000     49953 10 Dec  2020 cv-corpus-11.0-2022-09-21/en/clips/common_voice_en_100026.mp3\n",
      "-rw-rw-r--  0 1000   1000     37857 10 Dec  2020 cv-corpus-11.0-2022-09-21/en/clips/common_voice_en_100027.mp3\n",
      "-rw-rw-r--  0 1000   1000     14625 10 Dec  2020 cv-corpus-11.0-2022-09-21/en/clips/common_voice_en_100028.mp3\n",
      "-rw-rw-r--  0 1000   1000     34593 10 Dec  2020 cv-corpus-11.0-2022-09-21/en/clips/common_voice_en_100029.mp3\n",
      "-rw-rw-r--  0 1000   1000     37665 10 Dec  2020 cv-corpus-11.0-2022-09-21/en/clips/common_voice_en_10003.mp3\n",
      "-rw-rw-r--  0 1000   1000     39201 10 Dec  2020 cv-corpus-11.0-2022-09-21/en/clips/common_voice_en_100030.mp3\n",
      "-rw-rw-r--  0 1000   1000     35937 10 Dec  2020 cv-corpus-11.0-2022-09-21/en/clips/common_voice_en_100031.mp3\n",
      "-rw-rw-r--  0 1000   1000     23073 10 Dec  2020 cv-corpus-11.0-2022-09-21/en/clips/common_voice_en_100032.mp3\n"
     ]
    }
   ],
   "source": [
    "!tar -tvf cv-corpus-11.0-2022-09-21-en.tar.gz | head -n 50"
   ]
  },
  {
   "cell_type": "code",
   "execution_count": 80,
   "id": "0c366853-b038-46a4-bd45-e77d1a85d4bc",
   "metadata": {},
   "outputs": [
    {
     "ename": "FileNotFoundError",
     "evalue": "[Errno 2] No such file or directory: './common_voice_subset/cv-corpus-11.0-2022-09-21/en/test.tsv'",
     "output_type": "error",
     "traceback": [
      "\u001b[31m---------------------------------------------------------------------------\u001b[39m",
      "\u001b[31mFileNotFoundError\u001b[39m                         Traceback (most recent call last)",
      "\u001b[36mCell\u001b[39m\u001b[36m \u001b[39m\u001b[32mIn[80]\u001b[39m\u001b[32m, line 5\u001b[39m\n\u001b[32m      1\u001b[39m \u001b[38;5;28;01mimport\u001b[39;00m\u001b[38;5;250m \u001b[39m\u001b[34;01mpandas\u001b[39;00m\u001b[38;5;250m \u001b[39m\u001b[38;5;28;01mas\u001b[39;00m\u001b[38;5;250m \u001b[39m\u001b[34;01mpd\u001b[39;00m,\u001b[38;5;250m \u001b[39m\u001b[34;01mos\u001b[39;00m\n\u001b[32m      3\u001b[39m base_dir = \u001b[33m\"\u001b[39m\u001b[33m./common_voice_subset/cv-corpus-11.0-2022-09-21/en\u001b[39m\u001b[33m\"\u001b[39m\n\u001b[32m----> \u001b[39m\u001b[32m5\u001b[39m df = \u001b[43mpd\u001b[49m\u001b[43m.\u001b[49m\u001b[43mread_csv\u001b[49m\u001b[43m(\u001b[49m\u001b[43mos\u001b[49m\u001b[43m.\u001b[49m\u001b[43mpath\u001b[49m\u001b[43m.\u001b[49m\u001b[43mjoin\u001b[49m\u001b[43m(\u001b[49m\u001b[43mbase_dir\u001b[49m\u001b[43m,\u001b[49m\u001b[43m \u001b[49m\u001b[33;43m\"\u001b[39;49m\u001b[33;43mtest.tsv\u001b[39;49m\u001b[33;43m\"\u001b[39;49m\u001b[43m)\u001b[49m\u001b[43m,\u001b[49m\u001b[43m \u001b[49m\u001b[43msep\u001b[49m\u001b[43m=\u001b[49m\u001b[33;43m\"\u001b[39;49m\u001b[38;5;130;43;01m\\t\u001b[39;49;00m\u001b[33;43m\"\u001b[39;49m\u001b[43m)\u001b[49m\n\u001b[32m      7\u001b[39m test_samples = []\n\u001b[32m      8\u001b[39m \u001b[38;5;28;01mfor\u001b[39;00m _, row \u001b[38;5;129;01min\u001b[39;00m df.head(\u001b[32m5\u001b[39m).iterrows():\n",
      "\u001b[36mFile \u001b[39m\u001b[32m~/.local/share/mamba/envs/audio/lib/python3.12/site-packages/pandas/io/parsers/readers.py:1026\u001b[39m, in \u001b[36mread_csv\u001b[39m\u001b[34m(filepath_or_buffer, sep, delimiter, header, names, index_col, usecols, dtype, engine, converters, true_values, false_values, skipinitialspace, skiprows, skipfooter, nrows, na_values, keep_default_na, na_filter, verbose, skip_blank_lines, parse_dates, infer_datetime_format, keep_date_col, date_parser, date_format, dayfirst, cache_dates, iterator, chunksize, compression, thousands, decimal, lineterminator, quotechar, quoting, doublequote, escapechar, comment, encoding, encoding_errors, dialect, on_bad_lines, delim_whitespace, low_memory, memory_map, float_precision, storage_options, dtype_backend)\u001b[39m\n\u001b[32m   1013\u001b[39m kwds_defaults = _refine_defaults_read(\n\u001b[32m   1014\u001b[39m     dialect,\n\u001b[32m   1015\u001b[39m     delimiter,\n\u001b[32m   (...)\u001b[39m\u001b[32m   1022\u001b[39m     dtype_backend=dtype_backend,\n\u001b[32m   1023\u001b[39m )\n\u001b[32m   1024\u001b[39m kwds.update(kwds_defaults)\n\u001b[32m-> \u001b[39m\u001b[32m1026\u001b[39m \u001b[38;5;28;01mreturn\u001b[39;00m \u001b[43m_read\u001b[49m\u001b[43m(\u001b[49m\u001b[43mfilepath_or_buffer\u001b[49m\u001b[43m,\u001b[49m\u001b[43m \u001b[49m\u001b[43mkwds\u001b[49m\u001b[43m)\u001b[49m\n",
      "\u001b[36mFile \u001b[39m\u001b[32m~/.local/share/mamba/envs/audio/lib/python3.12/site-packages/pandas/io/parsers/readers.py:620\u001b[39m, in \u001b[36m_read\u001b[39m\u001b[34m(filepath_or_buffer, kwds)\u001b[39m\n\u001b[32m    617\u001b[39m _validate_names(kwds.get(\u001b[33m\"\u001b[39m\u001b[33mnames\u001b[39m\u001b[33m\"\u001b[39m, \u001b[38;5;28;01mNone\u001b[39;00m))\n\u001b[32m    619\u001b[39m \u001b[38;5;66;03m# Create the parser.\u001b[39;00m\n\u001b[32m--> \u001b[39m\u001b[32m620\u001b[39m parser = \u001b[43mTextFileReader\u001b[49m\u001b[43m(\u001b[49m\u001b[43mfilepath_or_buffer\u001b[49m\u001b[43m,\u001b[49m\u001b[43m \u001b[49m\u001b[43m*\u001b[49m\u001b[43m*\u001b[49m\u001b[43mkwds\u001b[49m\u001b[43m)\u001b[49m\n\u001b[32m    622\u001b[39m \u001b[38;5;28;01mif\u001b[39;00m chunksize \u001b[38;5;129;01mor\u001b[39;00m iterator:\n\u001b[32m    623\u001b[39m     \u001b[38;5;28;01mreturn\u001b[39;00m parser\n",
      "\u001b[36mFile \u001b[39m\u001b[32m~/.local/share/mamba/envs/audio/lib/python3.12/site-packages/pandas/io/parsers/readers.py:1620\u001b[39m, in \u001b[36mTextFileReader.__init__\u001b[39m\u001b[34m(self, f, engine, **kwds)\u001b[39m\n\u001b[32m   1617\u001b[39m     \u001b[38;5;28mself\u001b[39m.options[\u001b[33m\"\u001b[39m\u001b[33mhas_index_names\u001b[39m\u001b[33m\"\u001b[39m] = kwds[\u001b[33m\"\u001b[39m\u001b[33mhas_index_names\u001b[39m\u001b[33m\"\u001b[39m]\n\u001b[32m   1619\u001b[39m \u001b[38;5;28mself\u001b[39m.handles: IOHandles | \u001b[38;5;28;01mNone\u001b[39;00m = \u001b[38;5;28;01mNone\u001b[39;00m\n\u001b[32m-> \u001b[39m\u001b[32m1620\u001b[39m \u001b[38;5;28mself\u001b[39m._engine = \u001b[38;5;28;43mself\u001b[39;49m\u001b[43m.\u001b[49m\u001b[43m_make_engine\u001b[49m\u001b[43m(\u001b[49m\u001b[43mf\u001b[49m\u001b[43m,\u001b[49m\u001b[43m \u001b[49m\u001b[38;5;28;43mself\u001b[39;49m\u001b[43m.\u001b[49m\u001b[43mengine\u001b[49m\u001b[43m)\u001b[49m\n",
      "\u001b[36mFile \u001b[39m\u001b[32m~/.local/share/mamba/envs/audio/lib/python3.12/site-packages/pandas/io/parsers/readers.py:1880\u001b[39m, in \u001b[36mTextFileReader._make_engine\u001b[39m\u001b[34m(self, f, engine)\u001b[39m\n\u001b[32m   1878\u001b[39m     \u001b[38;5;28;01mif\u001b[39;00m \u001b[33m\"\u001b[39m\u001b[33mb\u001b[39m\u001b[33m\"\u001b[39m \u001b[38;5;129;01mnot\u001b[39;00m \u001b[38;5;129;01min\u001b[39;00m mode:\n\u001b[32m   1879\u001b[39m         mode += \u001b[33m\"\u001b[39m\u001b[33mb\u001b[39m\u001b[33m\"\u001b[39m\n\u001b[32m-> \u001b[39m\u001b[32m1880\u001b[39m \u001b[38;5;28mself\u001b[39m.handles = \u001b[43mget_handle\u001b[49m\u001b[43m(\u001b[49m\n\u001b[32m   1881\u001b[39m \u001b[43m    \u001b[49m\u001b[43mf\u001b[49m\u001b[43m,\u001b[49m\n\u001b[32m   1882\u001b[39m \u001b[43m    \u001b[49m\u001b[43mmode\u001b[49m\u001b[43m,\u001b[49m\n\u001b[32m   1883\u001b[39m \u001b[43m    \u001b[49m\u001b[43mencoding\u001b[49m\u001b[43m=\u001b[49m\u001b[38;5;28;43mself\u001b[39;49m\u001b[43m.\u001b[49m\u001b[43moptions\u001b[49m\u001b[43m.\u001b[49m\u001b[43mget\u001b[49m\u001b[43m(\u001b[49m\u001b[33;43m\"\u001b[39;49m\u001b[33;43mencoding\u001b[39;49m\u001b[33;43m\"\u001b[39;49m\u001b[43m,\u001b[49m\u001b[43m \u001b[49m\u001b[38;5;28;43;01mNone\u001b[39;49;00m\u001b[43m)\u001b[49m\u001b[43m,\u001b[49m\n\u001b[32m   1884\u001b[39m \u001b[43m    \u001b[49m\u001b[43mcompression\u001b[49m\u001b[43m=\u001b[49m\u001b[38;5;28;43mself\u001b[39;49m\u001b[43m.\u001b[49m\u001b[43moptions\u001b[49m\u001b[43m.\u001b[49m\u001b[43mget\u001b[49m\u001b[43m(\u001b[49m\u001b[33;43m\"\u001b[39;49m\u001b[33;43mcompression\u001b[39;49m\u001b[33;43m\"\u001b[39;49m\u001b[43m,\u001b[49m\u001b[43m \u001b[49m\u001b[38;5;28;43;01mNone\u001b[39;49;00m\u001b[43m)\u001b[49m\u001b[43m,\u001b[49m\n\u001b[32m   1885\u001b[39m \u001b[43m    \u001b[49m\u001b[43mmemory_map\u001b[49m\u001b[43m=\u001b[49m\u001b[38;5;28;43mself\u001b[39;49m\u001b[43m.\u001b[49m\u001b[43moptions\u001b[49m\u001b[43m.\u001b[49m\u001b[43mget\u001b[49m\u001b[43m(\u001b[49m\u001b[33;43m\"\u001b[39;49m\u001b[33;43mmemory_map\u001b[39;49m\u001b[33;43m\"\u001b[39;49m\u001b[43m,\u001b[49m\u001b[43m \u001b[49m\u001b[38;5;28;43;01mFalse\u001b[39;49;00m\u001b[43m)\u001b[49m\u001b[43m,\u001b[49m\n\u001b[32m   1886\u001b[39m \u001b[43m    \u001b[49m\u001b[43mis_text\u001b[49m\u001b[43m=\u001b[49m\u001b[43mis_text\u001b[49m\u001b[43m,\u001b[49m\n\u001b[32m   1887\u001b[39m \u001b[43m    \u001b[49m\u001b[43merrors\u001b[49m\u001b[43m=\u001b[49m\u001b[38;5;28;43mself\u001b[39;49m\u001b[43m.\u001b[49m\u001b[43moptions\u001b[49m\u001b[43m.\u001b[49m\u001b[43mget\u001b[49m\u001b[43m(\u001b[49m\u001b[33;43m\"\u001b[39;49m\u001b[33;43mencoding_errors\u001b[39;49m\u001b[33;43m\"\u001b[39;49m\u001b[43m,\u001b[49m\u001b[43m \u001b[49m\u001b[33;43m\"\u001b[39;49m\u001b[33;43mstrict\u001b[39;49m\u001b[33;43m\"\u001b[39;49m\u001b[43m)\u001b[49m\u001b[43m,\u001b[49m\n\u001b[32m   1888\u001b[39m \u001b[43m    \u001b[49m\u001b[43mstorage_options\u001b[49m\u001b[43m=\u001b[49m\u001b[38;5;28;43mself\u001b[39;49m\u001b[43m.\u001b[49m\u001b[43moptions\u001b[49m\u001b[43m.\u001b[49m\u001b[43mget\u001b[49m\u001b[43m(\u001b[49m\u001b[33;43m\"\u001b[39;49m\u001b[33;43mstorage_options\u001b[39;49m\u001b[33;43m\"\u001b[39;49m\u001b[43m,\u001b[49m\u001b[43m \u001b[49m\u001b[38;5;28;43;01mNone\u001b[39;49;00m\u001b[43m)\u001b[49m\u001b[43m,\u001b[49m\n\u001b[32m   1889\u001b[39m \u001b[43m\u001b[49m\u001b[43m)\u001b[49m\n\u001b[32m   1890\u001b[39m \u001b[38;5;28;01massert\u001b[39;00m \u001b[38;5;28mself\u001b[39m.handles \u001b[38;5;129;01mis\u001b[39;00m \u001b[38;5;129;01mnot\u001b[39;00m \u001b[38;5;28;01mNone\u001b[39;00m\n\u001b[32m   1891\u001b[39m f = \u001b[38;5;28mself\u001b[39m.handles.handle\n",
      "\u001b[36mFile \u001b[39m\u001b[32m~/.local/share/mamba/envs/audio/lib/python3.12/site-packages/pandas/io/common.py:873\u001b[39m, in \u001b[36mget_handle\u001b[39m\u001b[34m(path_or_buf, mode, encoding, compression, memory_map, is_text, errors, storage_options)\u001b[39m\n\u001b[32m    868\u001b[39m \u001b[38;5;28;01melif\u001b[39;00m \u001b[38;5;28misinstance\u001b[39m(handle, \u001b[38;5;28mstr\u001b[39m):\n\u001b[32m    869\u001b[39m     \u001b[38;5;66;03m# Check whether the filename is to be opened in binary mode.\u001b[39;00m\n\u001b[32m    870\u001b[39m     \u001b[38;5;66;03m# Binary mode does not support 'encoding' and 'newline'.\u001b[39;00m\n\u001b[32m    871\u001b[39m     \u001b[38;5;28;01mif\u001b[39;00m ioargs.encoding \u001b[38;5;129;01mand\u001b[39;00m \u001b[33m\"\u001b[39m\u001b[33mb\u001b[39m\u001b[33m\"\u001b[39m \u001b[38;5;129;01mnot\u001b[39;00m \u001b[38;5;129;01min\u001b[39;00m ioargs.mode:\n\u001b[32m    872\u001b[39m         \u001b[38;5;66;03m# Encoding\u001b[39;00m\n\u001b[32m--> \u001b[39m\u001b[32m873\u001b[39m         handle = \u001b[38;5;28;43mopen\u001b[39;49m\u001b[43m(\u001b[49m\n\u001b[32m    874\u001b[39m \u001b[43m            \u001b[49m\u001b[43mhandle\u001b[49m\u001b[43m,\u001b[49m\n\u001b[32m    875\u001b[39m \u001b[43m            \u001b[49m\u001b[43mioargs\u001b[49m\u001b[43m.\u001b[49m\u001b[43mmode\u001b[49m\u001b[43m,\u001b[49m\n\u001b[32m    876\u001b[39m \u001b[43m            \u001b[49m\u001b[43mencoding\u001b[49m\u001b[43m=\u001b[49m\u001b[43mioargs\u001b[49m\u001b[43m.\u001b[49m\u001b[43mencoding\u001b[49m\u001b[43m,\u001b[49m\n\u001b[32m    877\u001b[39m \u001b[43m            \u001b[49m\u001b[43merrors\u001b[49m\u001b[43m=\u001b[49m\u001b[43merrors\u001b[49m\u001b[43m,\u001b[49m\n\u001b[32m    878\u001b[39m \u001b[43m            \u001b[49m\u001b[43mnewline\u001b[49m\u001b[43m=\u001b[49m\u001b[33;43m\"\u001b[39;49m\u001b[33;43m\"\u001b[39;49m\u001b[43m,\u001b[49m\n\u001b[32m    879\u001b[39m \u001b[43m        \u001b[49m\u001b[43m)\u001b[49m\n\u001b[32m    880\u001b[39m     \u001b[38;5;28;01melse\u001b[39;00m:\n\u001b[32m    881\u001b[39m         \u001b[38;5;66;03m# Binary mode\u001b[39;00m\n\u001b[32m    882\u001b[39m         handle = \u001b[38;5;28mopen\u001b[39m(handle, ioargs.mode)\n",
      "\u001b[31mFileNotFoundError\u001b[39m: [Errno 2] No such file or directory: './common_voice_subset/cv-corpus-11.0-2022-09-21/en/test.tsv'"
     ]
    }
   ],
   "source": [
    "import pandas as pd, os\n",
    "\n",
    "base_dir = \"./common_voice_subset/cv-corpus-11.0-2022-09-21/en\"\n",
    "\n",
    "df = pd.read_csv(os.path.join(base_dir, \"test.tsv\"), sep=\"\\t\")\n",
    "\n",
    "test_samples = []\n",
    "for _, row in df.head(5).iterrows():\n",
    "    audio_path = os.path.join(base_dir, \"clips\", row[\"path\"])\n",
    "    transcript = row[\"sentence\"]\n",
    "    test_samples.append((audio_path, transcript))\n",
    "\n",
    "print(test_samples)"
   ]
  },
  {
   "cell_type": "markdown",
   "id": "b30b3c1c-02ac-4f6e-a40c-b41f4ffd5e81",
   "metadata": {},
   "source": [
    "## Resource Analysis"
   ]
  },
  {
   "cell_type": "code",
   "execution_count": 81,
   "id": "dbecabed-06dd-4370-af81-56f6337d5491",
   "metadata": {},
   "outputs": [],
   "source": [
    "import time, librosa, torch\n",
    "\n",
    "def measure_rtf(model, processor, audio_path, device=\"cpu\"):\n",
    "    # Load audio\n",
    "    audio, sr = librosa.load(audio_path, sr=16000)\n",
    "    duration = len(audio) / sr\n",
    "    \n",
    "    # Prepare input\n",
    "    inputs = processor(audio, sampling_rate=sr, return_tensors=\"pt\").to(device)\n",
    "    \n",
    "    # Time inference\n",
    "    start = time.time()\n",
    "    with torch.no_grad():\n",
    "        _ = model(inputs.input_values).logits\n",
    "    end = time.time()\n",
    "    \n",
    "    return (end - start) / duration  # RTF"
   ]
  },
  {
   "cell_type": "code",
   "execution_count": 82,
   "id": "4d0370f0-807a-48a6-97a1-fff68964ceea",
   "metadata": {},
   "outputs": [],
   "source": [
    "import psutil\n",
    "\n",
    "def get_cpu_memory():\n",
    "    process = psutil.Process()\n",
    "    mem = process.memory_info().rss / 1024**2  # MB\n",
    "    return f\"{mem:.2f} MB\""
   ]
  },
  {
   "cell_type": "code",
   "execution_count": 83,
   "id": "664fc0f4-825a-4249-9457-b96d127eb391",
   "metadata": {},
   "outputs": [],
   "source": [
    "def get_gpu_memory():\n",
    "    if torch.cuda.is_available():\n",
    "        allocated = torch.cuda.memory_allocated() / 1024**2\n",
    "        reserved = torch.cuda.memory_reserved() / 1024**2\n",
    "        return f\"Allocated {allocated:.2f} MB / Reserved {reserved:.2f} MB\"\n",
    "    return \"No GPU available\""
   ]
  },
  {
   "cell_type": "code",
   "execution_count": 104,
   "id": "f64fe9d9-bedc-465c-8f32-d9ae37c36fec",
   "metadata": {},
   "outputs": [],
   "source": [
    "base_dir = \"common_voice_subset/cv-corpus-11.0-2022-09-21/en\""
   ]
  },
  {
   "cell_type": "code",
   "execution_count": 106,
   "id": "a9fd801a-edec-45ec-a481-390d119bbbb2",
   "metadata": {},
   "outputs": [
    {
     "name": "stdout",
     "output_type": "stream",
     "text": [
      "Using: common_voice_subset/cv-corpus-11.0-2022-09-21/en/clips/common_voice_en_100001.mp3\n"
     ]
    }
   ],
   "source": [
    "test_audio = \"common_voice_subset/cv-corpus-11.0-2022-09-21/en/clips/common_voice_en_100001.mp3\"\n",
    "print(\"Using:\", test_audio)"
   ]
  },
  {
   "cell_type": "code",
   "execution_count": 108,
   "id": "82ac87ea-26ec-4613-9124-a776c5078bbd",
   "metadata": {},
   "outputs": [],
   "source": [
    "import librosa, time, torch\n",
    "\n",
    "def measure_rtf(model, processor, audio_path, device=\"cpu\"):\n",
    "    audio, sr = librosa.load(audio_path, sr=16000)\n",
    "    duration = len(audio) / sr\n",
    "\n",
    "    # Preprocess depending on model type\n",
    "    inputs = processor(audio, sampling_rate=sr, return_tensors=\"pt\")\n",
    "\n",
    "    if \"input_values\" in inputs:   # Wav2Vec2\n",
    "        inputs = inputs.to(device)\n",
    "        start = time.time()\n",
    "        with torch.no_grad():\n",
    "            _ = model(inputs.input_values).logits\n",
    "        end = time.time()\n",
    "\n",
    "    elif \"input_features\" in inputs:  # Whisper\n",
    "        inputs = inputs.to(device)\n",
    "        start = time.time()\n",
    "        with torch.no_grad():\n",
    "            _ = model.generate(inputs.input_features)\n",
    "        end = time.time()\n",
    "\n",
    "    else:\n",
    "        raise ValueError(\"Unknown model input format\")\n",
    "\n",
    "    return (end - start) / duration"
   ]
  },
  {
   "cell_type": "code",
   "execution_count": 109,
   "id": "60dd17e4-3343-449e-9b2e-548d90f5a3a7",
   "metadata": {},
   "outputs": [
    {
     "name": "stderr",
     "output_type": "stream",
     "text": [
      "Using custom `forced_decoder_ids` from the (generation) config. This is deprecated in favor of the `task` and `language` flags/config options.\n",
      "Transcription using a multilingual Whisper will default to language detection followed by transcription instead of translation to English. This might be a breaking change for your use case. If you want to instead always translate your audio to English, make sure to pass `language='en'`. See https://github.com/huggingface/transformers/pull/28687 for more details.\n"
     ]
    },
    {
     "name": "stdout",
     "output_type": "stream",
     "text": [
      "     model device       rtf      memory\n",
      "0  Whisper    cpu  1.334538  1290.97 MB\n",
      "1  Whisper    cpu  0.477118  1325.81 MB\n",
      "2  Wav2Vec    cpu  0.316746  1750.34 MB\n",
      "3  Wav2Vec    cpu  0.037239  1756.44 MB\n"
     ]
    }
   ],
   "source": [
    "deploy_df = benchmark_models(models, test_audio)\n",
    "print(deploy_df)"
   ]
  },
  {
   "cell_type": "code",
   "execution_count": 110,
   "id": "2705f7b6-0a0d-4495-958e-66f5de8caeef",
   "metadata": {},
   "outputs": [
    {
     "name": "stdout",
     "output_type": "stream",
     "text": [
      "     model device   avg_rtf      memory\n",
      "0  Whisper    cpu  0.789478  1730.75 MB\n",
      "1  Whisper    cpu  0.602564  1677.31 MB\n",
      "2  Wav2Vec    cpu  0.078241  1746.92 MB\n",
      "3  Wav2Vec    cpu  0.038054  1748.03 MB\n"
     ]
    }
   ],
   "source": [
    "def benchmark_avg(models, audio_files):\n",
    "    records = []\n",
    "    for model_name, (model, processor) in models.items():\n",
    "        for device in [\"cpu\", \"cuda\" if torch.cuda.is_available() else \"cpu\"]:\n",
    "            model.to(device)\n",
    "            rtfs = []\n",
    "            for audio in audio_files:\n",
    "                rtf = measure_rtf(model, processor, audio, device=device)\n",
    "                rtfs.append(rtf)\n",
    "            mem = get_gpu_memory() if device==\"cuda\" else get_cpu_memory()\n",
    "            records.append({\n",
    "                \"model\": model_name,\n",
    "                \"device\": device,\n",
    "                \"avg_rtf\": sum(rtfs)/len(rtfs),\n",
    "                \"memory\": mem\n",
    "            })\n",
    "    return pd.DataFrame(records)\n",
    "\n",
    "# Example usage with first 5 clips\n",
    "import glob\n",
    "audio_files = glob.glob(\"common_voice_subset/cv-corpus-11.0-2022-09-21/en/clips/*.mp3\")[:5]\n",
    "deploy_df = benchmark_avg(models, audio_files)\n",
    "print(deploy_df)"
   ]
  },
  {
   "cell_type": "code",
   "execution_count": null,
   "id": "7ce49702-63ac-448b-b7b6-32b5a419b89f",
   "metadata": {},
   "outputs": [],
   "source": []
  }
 ],
 "metadata": {
  "kernelspec": {
   "display_name": "Python (audio)",
   "language": "python",
   "name": "audio"
  },
  "language_info": {
   "codemirror_mode": {
    "name": "ipython",
    "version": 3
   },
   "file_extension": ".py",
   "mimetype": "text/x-python",
   "name": "python",
   "nbconvert_exporter": "python",
   "pygments_lexer": "ipython3",
   "version": "3.12.11"
  }
 },
 "nbformat": 4,
 "nbformat_minor": 5
}
